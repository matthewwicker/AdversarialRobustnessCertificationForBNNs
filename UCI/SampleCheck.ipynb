{
 "cells": [
  {
   "cell_type": "code",
   "execution_count": null,
   "id": "b92ce1b1",
   "metadata": {},
   "outputs": [],
   "source": [
    "import os\n",
    "import sys\n",
    "import numpy as np\n",
    "sys.path.append('../')\n",
    "os.environ['CUDA_VISIBLE_DEVICES'] = \"-1\"\n",
    "\n",
    "from datasets import Dataset\n",
    "\n",
    "import deepbayesHF\n",
    "import deepbayesHF.optimizers as optimizers\n",
    "from deepbayesHF.analyzers import decision_veri_upper\n",
    "\n",
    "import tensorflow as tf\n",
    "from tensorflow.keras.models import *\n",
    "from tensorflow.keras.layers import *"
   ]
  },
  {
   "cell_type": "code",
   "execution_count": null,
   "id": "f9da8fb9",
   "metadata": {},
   "outputs": [],
   "source": [
    "MARGIN = 2.25\n",
    "SAMPLES = 3\n",
    "MAXDEPTH = 3\n",
    "\n",
    "DATASET = \"concrete1\""
   ]
  },
  {
   "cell_type": "code",
   "execution_count": null,
   "id": "2945d2dc",
   "metadata": {},
   "outputs": [],
   "source": [
    "data = Dataset(DATASET)\n",
    "from sklearn.preprocessing import StandardScaler\n",
    "\n",
    "X_train = np.asarray(data.train_set.train_data)\n",
    "y_train = np.asarray(data.train_set.train_labels.reshape(-1,1))\n",
    "\n",
    "X_test = np.asarray(data.test_set.test_data)\n",
    "y_test = np.asarray(data.test_set.test_labels.reshape(-1,1))\n",
    "\n",
    "X_scaler = StandardScaler()\n",
    "X_scaler.fit(X_train)\n",
    "X_train, X_test = X_scaler.transform(X_train), X_scaler.transform(X_test)\n",
    "\n",
    "# If we are running with scaled posteriors\n",
    "y_scaler = StandardScaler()\n",
    "y_scaler.fit(y_train)\n",
    "y_train, y_test = y_scaler.transform(y_train), y_scaler.transform(y_test)\n",
    "\n",
    "\n",
    "print(\"Sucessfully loaded dataset %s \\t \\t with train shapes %s, %s\"%(dataset_string, X_train.shape, y_train.shape))\n",
    "\n",
    "input_range = (np.max(X_test, axis=0) - np.min(X_test, axis=0))/2\n",
    "print(\"Input range: \", input_range)\n",
    "output_range = np.max(y_test) - np.min(y_test)\n",
    "print(\"Output range: \", np.max(y_test) - np.min(y_test))\n",
    "DELTA = 0.25 * (output_range)\n",
    "print(\"HERE IS DELTA: \", DELTA)\n",
    "\n",
    "in_dims = X_train.shape[1]"
   ]
  }
 ],
 "metadata": {
  "kernelspec": {
   "display_name": "python3.6",
   "language": "python",
   "name": "python3.6"
  },
  "language_info": {
   "codemirror_mode": {
    "name": "ipython",
    "version": 3
   },
   "file_extension": ".py",
   "mimetype": "text/x-python",
   "name": "python",
   "nbconvert_exporter": "python",
   "pygments_lexer": "ipython3",
   "version": "3.6.9"
  }
 },
 "nbformat": 4,
 "nbformat_minor": 5
}
