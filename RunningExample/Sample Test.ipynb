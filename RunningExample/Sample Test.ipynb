{
 "cells": [
  {
   "cell_type": "code",
   "execution_count": 1,
   "id": "0ed4cad2",
   "metadata": {},
   "outputs": [],
   "source": [
    "import sys\n",
    "sys.path.append('../')\n",
    "import deepbayesHF\n",
    "import deepbayesHF.optimizers as optimizers\n",
    "import tensorflow as tf\n",
    "from tensorflow.keras.models import *\n",
    "from tensorflow.keras.layers import *\n",
    "\n",
    "import os\n",
    "os.environ[\"CUDA_VISIBLE_DEVICES\"] = \"-1\""
   ]
  },
  {
   "cell_type": "code",
   "execution_count": 2,
   "id": "5b738a97",
   "metadata": {},
   "outputs": [],
   "source": [
    "(X_train, y_train), (X_test, y_test) = tf.keras.datasets.mnist.load_data()\n",
    "X_train = X_train/255.\n",
    "X_test = X_test/255.\n",
    "X_train = X_train.astype(\"float32\").reshape(-1, 28*28)\n",
    "X_test = X_test.astype(\"float32\").reshape(-1, 28* 28)"
   ]
  },
  {
   "cell_type": "code",
   "execution_count": 3,
   "id": "071541b3",
   "metadata": {},
   "outputs": [
    {
     "name": "stderr",
     "output_type": "stream",
     "text": [
      "2022-05-31 23:32:41.692837: E tensorflow/stream_executor/cuda/cuda_driver.cc:271] failed call to cuInit: CUDA_ERROR_NO_DEVICE: no CUDA-capable device is detected\n"
     ]
    }
   ],
   "source": [
    "model = Sequential()\n",
    "model.add(Dense(16, activation=\"relu\", input_shape=(None, 28*28)))\n",
    "model.add(Dense(10, activation=\"softmax\"))\n",
    "loss = tf.keras.losses.SparseCategoricalCrossentropy()"
   ]
  },
  {
   "cell_type": "code",
   "execution_count": 4,
   "id": "86fa8f67",
   "metadata": {},
   "outputs": [
    {
     "data": {
      "text/plain": [
       "'\\nlearning_rate = 0.35; decay=0.0\\nopt = optimizers.VariationalOnlineGuassNewton()\\nbayes_model = opt.compile(model, loss_fn=loss, epochs=10, learning_rate=learning_rate, batch_size=128,\\n                         robust_train=1, epsilon=0.05, robust_lam = 0.5)\\nbayes_model.train(X_train, y_train, X_test, y_test)\\n'"
      ]
     },
     "execution_count": 4,
     "metadata": {},
     "output_type": "execute_result"
    }
   ],
   "source": [
    "\"\"\"\n",
    "learning_rate = 0.35; decay=0.0\n",
    "opt = optimizers.VariationalOnlineGuassNewton()\n",
    "bayes_model = opt.compile(model, loss_fn=loss, epochs=10, learning_rate=learning_rate, batch_size=128,\n",
    "                         robust_train=1, epsilon=0.05, robust_lam = 0.5)\n",
    "bayes_model.train(X_train, y_train, X_test, y_test)\n",
    "\"\"\""
   ]
  },
  {
   "cell_type": "code",
   "execution_count": 5,
   "id": "65505fb9",
   "metadata": {},
   "outputs": [],
   "source": [
    "#bayes_model.save(\"PosteriorModels/VOGN_MNIST_Posterior\")"
   ]
  },
  {
   "cell_type": "code",
   "execution_count": 6,
   "id": "08deab53",
   "metadata": {},
   "outputs": [
    {
     "name": "stdout",
     "output_type": "stream",
     "text": [
      "WARNING:tensorflow:No training configuration found in the save file, so the model was *not* compiled. Compile it manually.\n",
      "Model: \"sequential\"\n",
      "_________________________________________________________________\n",
      " Layer (type)                Output Shape              Param #   \n",
      "=================================================================\n",
      " dense (Dense)               (None, None, 16)          12560     \n",
      "                                                                 \n",
      " dense_1 (Dense)             (None, None, 10)          170       \n",
      "                                                                 \n",
      "=================================================================\n",
      "Total params: 12,730\n",
      "Trainable params: 12,730\n",
      "Non-trainable params: 0\n",
      "_________________________________________________________________\n",
      "BayesKeras detected the above model \n",
      " None\n"
     ]
    }
   ],
   "source": [
    "from deepbayesHF import PosteriorModel\n",
    "\n",
    "bayes_model = PosteriorModel(\"PosteriorModels/VOGN_MNIST_Posterior\")"
   ]
  },
  {
   "cell_type": "code",
   "execution_count": 7,
   "id": "d757c396",
   "metadata": {},
   "outputs": [],
   "source": [
    "y_pred = bayes_model.predict(X_test)"
   ]
  },
  {
   "cell_type": "code",
   "execution_count": 8,
   "id": "a6ca2e82",
   "metadata": {},
   "outputs": [
    {
     "name": "stderr",
     "output_type": "stream",
     "text": [
      "100%|████████████████████████████████████████████████████████████████████████████████████████| 10000/10000 [00:00<00:00, 893793.34it/s]"
     ]
    },
    {
     "name": "stdout",
     "output_type": "stream",
     "text": [
      "Test set accuracy:  0.923\n"
     ]
    },
    {
     "name": "stderr",
     "output_type": "stream",
     "text": [
      "\n"
     ]
    }
   ],
   "source": [
    "import numpy as np\n",
    "from tqdm import trange\n",
    "from deepbayesHF.analyzers import FGSM\n",
    "y_cls = np.argmax(y_pred, axis=1)\n",
    "corr = 0\n",
    "for i in trange(len(y_cls)):\n",
    "    corr += int(y_cls[i] == y_test[i])\n",
    "print(\"Test set accuracy: \", corr/10000)"
   ]
  },
  {
   "cell_type": "code",
   "execution_count": 9,
   "id": "19113808",
   "metadata": {},
   "outputs": [
    {
     "name": "stderr",
     "output_type": "stream",
     "text": [
      "100%|██████████████████████████████████████████████████████████████████████████████████████████████| 1000/1000 [02:26<00:00,  6.80it/s]\n"
     ]
    }
   ],
   "source": [
    "from tqdm import trange\n",
    "import random\n",
    "INDEX = 7\n",
    "EPSILON = 0.025\n",
    "bayes_model.input_lower = 0; bayes_model.input_upper = 1.0\n",
    "confs = []\n",
    "for i in trange(1000):\n",
    "    eps = random.uniform(0, EPSILON)\n",
    "    x_adv = FGSM(bayes_model, np.asarray([X_test[INDEX]]), loss, eps, direction=-1, num_models=1, order=1, samples=1)\n",
    "    bayes_model.model.set_weights(bayes_model.sample())\n",
    "    y = bayes_model._predict(np.asarray([x_adv]))\n",
    "    confs.append(np.max(y))"
   ]
  },
  {
   "cell_type": "code",
   "execution_count": 10,
   "id": "d024fc2a",
   "metadata": {},
   "outputs": [
    {
     "name": "stdout",
     "output_type": "stream",
     "text": [
      "[0.8957949, 0.890173, 0.8780004, 0.89692694, 0.91322666, 0.8981981, 0.90744376, 0.9073955, 0.901563, 0.8938379, 0.90589815, 0.87812936, 0.89987993, 0.90613633, 0.9079154, 0.8904287, 0.8895761, 0.88796455, 0.9030556, 0.8854288, 0.8932656, 0.9087767, 0.88815475, 0.89570904, 0.896728, 0.87961763, 0.88535446, 0.8906335, 0.9126067, 0.8810571, 0.88052505, 0.8940817, 0.90392584, 0.9102693, 0.8837174, 0.8812019, 0.89462644, 0.91107845, 0.8923232, 0.8910642, 0.89286333, 0.908486, 0.9068244, 0.8847722, 0.8907701, 0.9037632, 0.88729805, 0.9027646, 0.8885512, 0.90431815, 0.89588726, 0.9120633, 0.89379936, 0.885714, 0.90493745, 0.89280087, 0.89997715, 0.91330266, 0.88333476, 0.8950895, 0.88785523, 0.91058713, 0.9025485, 0.88055694, 0.88171506, 0.9089456, 0.9082802, 0.9067586, 0.913571, 0.89535713, 0.9023418, 0.89584374, 0.9087265, 0.90272015, 0.89465773, 0.89895344, 0.9047273, 0.90782166, 0.8831708, 0.8942015, 0.9061215, 0.9047548, 0.8875113, 0.9112933, 0.9058646, 0.9018435, 0.90121853, 0.9121222, 0.91069525, 0.8789461, 0.906392, 0.8895678, 0.90235907, 0.9004098, 0.90725034, 0.87806106, 0.90322244, 0.90210456, 0.89373523, 0.90261966, 0.88940835, 0.8938115, 0.8810434, 0.9009942, 0.90709853, 0.87866247, 0.88226444, 0.90387326, 0.9123401, 0.8960134, 0.9059468, 0.8914956, 0.8842773, 0.9137355, 0.89967746, 0.90865606, 0.9031356, 0.90175766, 0.91020644, 0.88849694, 0.8921373, 0.91100395, 0.90973914, 0.902022, 0.8794731, 0.9028903, 0.8916228, 0.9054545, 0.9094376, 0.8896942, 0.8985115, 0.90172285, 0.8930232, 0.8779389, 0.87974715, 0.88998944, 0.90101737, 0.9130556, 0.8911327, 0.8921792, 0.90029204, 0.8960776, 0.8861794, 0.90901285, 0.9090851, 0.90385807, 0.89043, 0.8903801, 0.9006953, 0.9079825, 0.88612515, 0.8914777, 0.89244443, 0.8837468, 0.90528715, 0.89299315, 0.8963903, 0.8913555, 0.87893844, 0.9108, 0.9034675, 0.8816245, 0.89694345, 0.89238936, 0.9034882, 0.9131557, 0.89838856, 0.8992171, 0.89501524, 0.8907088, 0.89776427, 0.8919633, 0.8930336, 0.90822405, 0.8904077, 0.9040826, 0.9121053, 0.9078137, 0.8881024, 0.8963469, 0.91064906, 0.90249324, 0.9131711, 0.8911315, 0.88212496, 0.9031147, 0.8987866, 0.9009607, 0.8995199, 0.8959603, 0.8799763, 0.88104117, 0.90354097, 0.8826846, 0.89626515, 0.9008391, 0.8838421, 0.8912541, 0.8840783, 0.9078038, 0.8980064, 0.88874906, 0.9112414, 0.8993664, 0.8930209, 0.88677174, 0.9071166, 0.91087186, 0.8833994, 0.88691604, 0.90301985, 0.9104427, 0.8923285, 0.9007259, 0.89384484, 0.9117261, 0.89688015, 0.9018141, 0.8946321, 0.885141, 0.89207643, 0.90866077, 0.90092915, 0.91290975, 0.8881283, 0.9092031, 0.9066133, 0.88295907, 0.8882331, 0.89522594, 0.880236, 0.91344583, 0.9025321, 0.8792965, 0.8970925, 0.8889128, 0.898026, 0.9135218, 0.886371, 0.9061648, 0.8796833, 0.8825725, 0.8816311, 0.89369404, 0.8852902, 0.89672494, 0.8935556, 0.89732605, 0.887083, 0.88688624, 0.8929786, 0.8895915, 0.8789414, 0.90846896, 0.8809435, 0.9095596, 0.8886575, 0.89887464, 0.89648306, 0.9000323, 0.89492077, 0.8835282, 0.90781677, 0.905327, 0.89014214, 0.88971496, 0.89786357, 0.9038762, 0.89511186, 0.91022885, 0.9076308, 0.900483, 0.9024707, 0.8789973, 0.8869087, 0.90592617, 0.89050454, 0.8798118, 0.8785572, 0.8820461, 0.89933276, 0.8968001, 0.90852404, 0.90425384, 0.9098448, 0.8978549, 0.9044178, 0.8837976, 0.888097, 0.9041296, 0.90444714, 0.88099056, 0.89280385, 0.8881305, 0.91154486, 0.90977275, 0.89555734, 0.9115567, 0.912923, 0.8998235, 0.89799386, 0.9004914, 0.8974466, 0.88822645, 0.879685, 0.90360206, 0.88579106, 0.8935877, 0.8784052, 0.91154456, 0.8777993, 0.90062356, 0.91055685, 0.90613097, 0.9106714, 0.9131338, 0.89496356, 0.8878119, 0.8973901, 0.9020763, 0.90128964, 0.8854768, 0.8883577, 0.8786297, 0.90327126, 0.9101674, 0.89827543, 0.8902935, 0.8885091, 0.89216423, 0.89375526, 0.9072507, 0.91347003, 0.90381324, 0.8901979, 0.8849037, 0.9115946, 0.8988167, 0.8808578, 0.911717, 0.8925143, 0.89280134, 0.90828973, 0.9003478, 0.89120764, 0.89634854, 0.8799616, 0.9063485, 0.88882345, 0.883653, 0.885183, 0.90593535, 0.8926938, 0.8848956, 0.88205004, 0.9070844, 0.88564014, 0.9053018, 0.8816143, 0.87892705, 0.8902017, 0.90386975, 0.90973914, 0.90581346, 0.8975753, 0.9052423, 0.9029547, 0.89888656, 0.8980577, 0.8838202, 0.8887416, 0.88181305, 0.90976655, 0.89234006, 0.89948714, 0.91307586, 0.9093611, 0.89266837, 0.8805175, 0.90076834, 0.8914763, 0.8869151, 0.91307527, 0.90326786, 0.9114627, 0.88147897, 0.89166784, 0.9134839, 0.8814115, 0.89585805, 0.91299427, 0.89380676, 0.8962244, 0.912627, 0.88954973, 0.90965044, 0.913129, 0.883007, 0.87877035, 0.8943673, 0.88054466, 0.8825934, 0.90738595, 0.8924997, 0.91245407, 0.90700036, 0.8995867, 0.9026493, 0.8840664, 0.91234124, 0.89804345, 0.89102423, 0.90776145, 0.88112324, 0.9032024, 0.89015144, 0.9076848, 0.8848372, 0.902365, 0.8777606, 0.87852085, 0.88272715, 0.89051884, 0.8941276, 0.8824026, 0.9053032, 0.90166557, 0.87832254, 0.91128254, 0.9018098, 0.8928384, 0.89194614, 0.88158554, 0.9096588, 0.88084096, 0.9075868, 0.8796082, 0.8941659, 0.90818214, 0.9094106, 0.9085226, 0.9120486, 0.88660353, 0.9043161, 0.91301495, 0.9075217, 0.883135, 0.8956138, 0.88298404, 0.8778472, 0.88649875, 0.8925866, 0.8883265, 0.88703066, 0.91148925, 0.8999422, 0.9096304, 0.9041029, 0.8861139, 0.8795216, 0.88078713, 0.9014163, 0.8838589, 0.91372544, 0.8819063, 0.8962598, 0.888973, 0.89753634, 0.8906333, 0.9102255, 0.8860154, 0.8935696, 0.8974933, 0.87943935, 0.8931842, 0.9070391, 0.90702283, 0.88032794, 0.912218, 0.88764805, 0.9138284, 0.90293324, 0.90258795, 0.91038424, 0.88099575, 0.888848, 0.89621747, 0.8865118, 0.8964656, 0.8879695, 0.8981811, 0.90328604, 0.89090574, 0.8841059, 0.9063126, 0.8779378, 0.8873458, 0.9059259, 0.8904082, 0.90753144, 0.8944021, 0.89601165, 0.88653344, 0.8955806, 0.9118565, 0.9057419, 0.88847953, 0.8945657, 0.9048206, 0.8854455, 0.9077033, 0.9000975, 0.8895308, 0.89745086, 0.9100693, 0.88231194, 0.9002083, 0.90292174, 0.8969757, 0.8852919, 0.8955154, 0.89669436, 0.8987702, 0.9001002, 0.891201, 0.8838459, 0.90249366, 0.8804675, 0.8999844, 0.8810505, 0.8908624, 0.8977267, 0.9129495, 0.9083279, 0.9003598, 0.91356206, 0.9074103, 0.88550645, 0.89307445, 0.8783021, 0.87954336, 0.8891724, 0.90134937, 0.8861738, 0.8876855, 0.9123326, 0.9105194, 0.904856, 0.8824021, 0.8933153, 0.89535064, 0.88796943, 0.9054004, 0.91053206, 0.8820159, 0.891605, 0.8902594, 0.90970093, 0.8796886, 0.9033103, 0.8792624, 0.88733125, 0.89405245, 0.9096279, 0.8798851, 0.91366184, 0.8939349, 0.8848748, 0.88930255, 0.9112522, 0.9014961, 0.8870794, 0.8986849, 0.89763653, 0.9075621, 0.90135276, 0.90407646, 0.8871284, 0.87908936, 0.907157, 0.91175455, 0.89090574, 0.90877247, 0.88213325, 0.90255755, 0.87992513, 0.8886019, 0.91107786, 0.879709, 0.90077937, 0.8795686, 0.90434504, 0.8921849, 0.9027452, 0.8843456, 0.91174895, 0.9120687, 0.88702136, 0.88100797, 0.8983677, 0.89703727, 0.8959394, 0.8791618, 0.89988834, 0.88930804, 0.9120004, 0.89996934, 0.90761596, 0.8922862, 0.9056737, 0.8905708, 0.88666743, 0.9046029, 0.89288896, 0.9049372, 0.88764167, 0.88123876, 0.91333836, 0.89775777, 0.88942194, 0.91350484, 0.8983848, 0.8945791, 0.88531554, 0.8959929, 0.8983884, 0.88041574, 0.878835, 0.9078573, 0.904764, 0.8791985, 0.9033034, 0.87925464, 0.8898943, 0.9054904, 0.8911554, 0.90274745, 0.89410293, 0.8993937, 0.90557116, 0.88705456, 0.88228995, 0.9068186, 0.9116322, 0.91171247, 0.8969097, 0.9092815, 0.8824742, 0.90787286, 0.90017456, 0.8878856, 0.91060084, 0.89962864, 0.9134172, 0.89988565, 0.90242285, 0.90384823, 0.8861989, 0.8993181, 0.9095886, 0.90639335, 0.8856248, 0.89703363, 0.8866646, 0.90814185, 0.87948954, 0.8992917, 0.9102709, 0.89696896, 0.8858832, 0.8910819, 0.88397723, 0.89555883, 0.8927917, 0.90641195, 0.9052067, 0.90181816, 0.88048863, 0.8804026, 0.9106963, 0.89770037, 0.8993211, 0.8913289, 0.8777653, 0.91198754, 0.8861139, 0.9055086, 0.9014324, 0.89968777, 0.8968626, 0.89551836, 0.88836765, 0.9085063, 0.9110437, 0.8997554, 0.90458626, 0.89341486, 0.8798728, 0.9019734, 0.88816255, 0.91343915, 0.88347393, 0.9119229, 0.9095449, 0.8867901, 0.8971899, 0.9116615, 0.8780377, 0.89256346, 0.89918816, 0.8803081, 0.9126477, 0.9100034, 0.8948144, 0.8985754, 0.90467346, 0.89368784, 0.91318977, 0.899903, 0.89187443, 0.90006477, 0.88379467, 0.89017415, 0.8915523, 0.8850918, 0.8996941, 0.91040885, 0.911848, 0.90946954, 0.87939394, 0.8959048, 0.8844541, 0.88451517, 0.90914667, 0.9035933, 0.89762825, 0.89211196, 0.9066223, 0.8830125, 0.894958, 0.9012531, 0.8973586, 0.8996918, 0.88654464, 0.8860625, 0.8892915, 0.8918152, 0.8860988, 0.89464235, 0.8841477, 0.9090554, 0.89370894, 0.8864196, 0.9103348, 0.90797573, 0.9046162, 0.8825158, 0.898623, 0.87928367, 0.9047879, 0.8949165, 0.8986307, 0.89238733, 0.8857257, 0.9044867, 0.8884665, 0.90231645, 0.8810467, 0.9101316, 0.88145137, 0.91170514, 0.8973362, 0.8867617, 0.8798004, 0.9064713, 0.8969723, 0.90172523, 0.9095354, 0.87832683, 0.90979046, 0.89344376, 0.8917131, 0.8869265, 0.9118613, 0.90623385, 0.8884709, 0.8970935, 0.8943288, 0.88537055, 0.88397455, 0.8912581, 0.878064, 0.89621174, 0.900556, 0.9026491, 0.8861774, 0.9101648, 0.8964868, 0.892721, 0.90707433, 0.9109197, 0.9081058, 0.8899344, 0.8819566, 0.8977865, 0.9068133, 0.9131019, 0.9121645, 0.87831783, 0.9023204, 0.89051634, 0.87904197, 0.90619105, 0.8991529, 0.87946075, 0.91343135, 0.9026545, 0.878024, 0.9073817, 0.90587723, 0.9051956, 0.90128505, 0.887326, 0.8941046, 0.88547075, 0.8829565, 0.8956157, 0.8877296, 0.8953617, 0.9125321, 0.88805795, 0.8869352, 0.8793867, 0.88312143, 0.9055912, 0.90492785, 0.8832018, 0.912581, 0.9043852, 0.91262865, 0.90379095, 0.9109266, 0.8810323, 0.9105771, 0.88527757, 0.89653105, 0.9062203, 0.90142125, 0.8882295, 0.89618623, 0.90814275, 0.8962009, 0.9124999, 0.9033331, 0.90568703, 0.8899254, 0.8922636, 0.9043386, 0.8907788, 0.90439665, 0.90597945, 0.89864457, 0.898875, 0.88560855, 0.8786573, 0.8887061, 0.8821998, 0.897365, 0.9022202, 0.88076264, 0.886018, 0.8783732, 0.8857806, 0.9134284, 0.8862837, 0.87973034, 0.9117191, 0.8958835, 0.9049812, 0.90522325, 0.9025647, 0.88815963, 0.8872075, 0.89489865, 0.8813982, 0.8866156, 0.9025754, 0.9052078, 0.9135677, 0.9099941, 0.88311416, 0.88852483, 0.9086655, 0.8794617, 0.9016308, 0.894786, 0.89683443, 0.8833137, 0.908198, 0.9070468, 0.90864295, 0.9106306, 0.9034891, 0.87987864, 0.8876274, 0.8975239, 0.8864683, 0.8847592, 0.8997669, 0.90112436, 0.8806957, 0.88739735, 0.9125977, 0.8830463, 0.8834355, 0.8893675, 0.90861845, 0.91004574, 0.8830145, 0.89001626, 0.88304853, 0.8861674, 0.89308596, 0.9086658, 0.9090275, 0.88294154, 0.89718574, 0.9112358, 0.88392496, 0.9003961, 0.8933335, 0.9037113, 0.8944936, 0.89589757, 0.9016113, 0.8840993, 0.9071275, 0.8914461, 0.88259387, 0.90376836, 0.9039028, 0.8978391, 0.9099501, 0.91170555, 0.89885306, 0.89864266, 0.8828499, 0.88240206, 0.91249067, 0.9065728, 0.8997889, 0.89699167, 0.900365, 0.87921685, 0.90777653, 0.89697826, 0.8997451, 0.8792614, 0.89255226, 0.88019043, 0.89410514, 0.8951978, 0.8954145, 0.892973, 0.89374685, 0.9119903, 0.90150356, 0.9008536, 0.89029056, 0.9132229, 0.9128789, 0.89468026, 0.8870879, 0.8786936, 0.8846108, 0.8983955, 0.8925642, 0.88483393, 0.903028, 0.89741707, 0.9072862, 0.88703156, 0.8899915, 0.9057141, 0.8794886, 0.91211253, 0.90915424, 0.9026014, 0.89991647, 0.88535196, 0.878228, 0.8958481, 0.9045437, 0.9127657, 0.8930911, 0.89543474, 0.9002794, 0.9126552, 0.91037136, 0.8913355]\n"
     ]
    }
   ],
   "source": [
    "print(confs)"
   ]
  },
  {
   "cell_type": "code",
   "execution_count": 11,
   "id": "56defe2f",
   "metadata": {},
   "outputs": [],
   "source": [
    "from deepbayesHF.analyzers import decision_veri\n",
    "\n",
    "def predicate_safe(iml, imu, ol, ou):\n",
    "    return True\n",
    "\n",
    "def logit_value(iml, imu, ol, ou):\n",
    "    v1 = tf.one_hot(TRUE_VALUE, depth=10)\n",
    "    v2 = 1 - tf.one_hot(TRUE_VALUE, depth=10)\n",
    "    v1 = tf.squeeze(v1); v2 = tf.squeeze(v2)\n",
    "    worst_case = tf.math.add(tf.math.multiply(v2, ou), tf.math.multiply(v1, ol))\n",
    "    worst_case = tf.nn.softmax(worst_case)\n",
    "    return worst_case[TRUE_VALUE]\n",
    "\n"
   ]
  },
  {
   "cell_type": "code",
   "execution_count": 12,
   "id": "25a10edf",
   "metadata": {},
   "outputs": [
    {
     "name": "stderr",
     "output_type": "stream",
     "text": [
      "Checking Samples: 100%|█████████████████████████████████████████████████████████████████████████████████| 3/3 [00:00<00:00, 106.18it/s]\n"
     ]
    },
    {
     "name": "stdout",
     "output_type": "stream",
     "text": [
      "--  tf.Tensor(0.86454904, shape=(), dtype=float32)\n",
      "--  tf.Tensor(0.86443627, shape=(), dtype=float32)\n",
      "--  tf.Tensor(0.86444074, shape=(), dtype=float32)\n",
      "Found 3 safe intervals\n",
      "About to compute intersection for this many intervals:  3\n",
      "GOT THIS MANY VALUES:  3 [0.86454904 0.86443627 0.86444074]\n"
     ]
    },
    {
     "name": "stderr",
     "output_type": "stream",
     "text": [
      "Computing intersection weights:   0%|                                                                            | 0/3 [00:00<?, ?it/s]/home/matker/.local/lib/python3.8/site-packages/numpy/core/_asarray.py:83: VisibleDeprecationWarning: Creating an ndarray from ragged nested sequences (which is a list-or-tuple of lists-or-tuples-or ndarrays with different lengths or shapes) is deprecated. If you meant to do this, you must specify 'dtype=object' when creating the ndarray\n",
      "  return array(a, dtype, copy=False, order=order)\n",
      "Computing intersection weights: 100%|██████████████████████████████████████████████████████████████████| 3/3 [00:00<00:00, 3051.14it/s]"
     ]
    },
    {
     "name": "stdout",
     "output_type": "stream",
     "text": [
      "Depth 1 has 3 intersections\n"
     ]
    },
    {
     "name": "stderr",
     "output_type": "stream",
     "text": [
      "\n",
      "100%|████████████████████████████████████████████████████████████████████████████████████████████████████| 3/3 [00:05<00:00,  1.78s/it]"
     ]
    },
    {
     "name": "stdout",
     "output_type": "stream",
     "text": [
      "[0.7170084146826734, 0.795005585991008, 0.8053449289947837] [0.86454904 0.86443627 0.86444074]\n",
      "Depth 1 prob:  2.317358929668465 logit val:  2.0032935652845905\n",
      "Depth 2 has 3 intersections\n"
     ]
    },
    {
     "name": "stderr",
     "output_type": "stream",
     "text": [
      "\n",
      "100%|████████████████████████████████████████████████████████████████████████████████████████████████████| 3/3 [00:07<00:00,  2.51s/it]"
     ]
    },
    {
     "name": "stdout",
     "output_type": "stream",
     "text": [
      "Current prob:  0.5239842636501284  Current dec:  0.45290282368337254\n",
      "Depth 3 has 1 intersections\n"
     ]
    },
    {
     "name": "stderr",
     "output_type": "stream",
     "text": [
      "\n",
      "100%|████████████████████████████████████████████████████████████████████████████████████████████████████| 1/1 [00:06<00:00,  6.84s/it]"
     ]
    },
    {
     "name": "stdout",
     "output_type": "stream",
     "text": [
      "Current prob:  0.9873395407637687  Current dec:  0.8534460019227722\n",
      "Got this p approx:  0.9873395407637687\n",
      "Got this d approx:  0.8534460019227722\n",
      "Final Bound:  0.8426409836051044\n"
     ]
    },
    {
     "name": "stderr",
     "output_type": "stream",
     "text": [
      "\n"
     ]
    }
   ],
   "source": [
    "\n",
    "TRUE_VALUE = y_test[INDEX]\n",
    "MARGIN = 3.0\n",
    "SAMPLES = 3\n",
    "MAXDEPTH = 3\n",
    "img = np.asarray([X_test[INDEX]])\n",
    "img_upper = np.clip(np.asarray([X_test[INDEX]+(EPSILON)]), 0, 1)\n",
    "img_lower = np.clip(np.asarray([X_test[INDEX]-(EPSILON)]), 0, 1)\n",
    "p_lower = decision_veri(bayes_model, img_lower, img_upper, MARGIN, SAMPLES,\n",
    "                        predicate=predicate_safe, value=logit_value, depth=MAXDEPTH)\n",
    "  \n",
    "print(\"Final Bound: \", p_lower)\n",
    "    "
   ]
  },
  {
   "cell_type": "code",
   "execution_count": 13,
   "id": "9493af9e",
   "metadata": {
    "scrolled": true
   },
   "outputs": [
    {
     "name": "stderr",
     "output_type": "stream",
     "text": [
      "Checking Samples:  33%|███████████████████████████▎                                                      | 1/3 [00:00<00:01,  1.27it/s]"
     ]
    },
    {
     "name": "stdout",
     "output_type": "stream",
     "text": [
      "Best Case:  tf.Tensor(0.939976, shape=(), dtype=float32)\n"
     ]
    },
    {
     "name": "stderr",
     "output_type": "stream",
     "text": [
      "\r",
      "Checking Samples:  67%|██████████████████████████████████████████████████████▋                           | 2/3 [00:01<00:00,  1.28it/s]"
     ]
    },
    {
     "name": "stdout",
     "output_type": "stream",
     "text": [
      "Best Case:  tf.Tensor(0.93998176, shape=(), dtype=float32)\n"
     ]
    },
    {
     "name": "stderr",
     "output_type": "stream",
     "text": [
      "Checking Samples: 100%|██████████████████████████████████████████████████████████████████████████████████| 3/3 [00:02<00:00,  1.28it/s]\n"
     ]
    },
    {
     "name": "stdout",
     "output_type": "stream",
     "text": [
      "Best Case:  tf.Tensor(0.939805, shape=(), dtype=float32)\n",
      "Found 3 safe intervals\n",
      "About to compute intersection for this many intervals:  3\n",
      "GOT THIS MANY VALUES:  3 [<tf.Tensor: shape=(), dtype=float32, numpy=0.939976>, <tf.Tensor: shape=(), dtype=float32, numpy=0.93998176>, <tf.Tensor: shape=(), dtype=float32, numpy=0.939805>]\n"
     ]
    },
    {
     "name": "stderr",
     "output_type": "stream",
     "text": [
      "Computing intersection weights: 100%|█████████████████████████████████████████████████████████████████| 3/3 [00:00<00:00, 31457.28it/s]"
     ]
    },
    {
     "name": "stdout",
     "output_type": "stream",
     "text": [
      "Depth 1 has 3 intersections\n"
     ]
    },
    {
     "name": "stderr",
     "output_type": "stream",
     "text": [
      "\n",
      "100%|████████████████████████████████████████████████████████████████████████████████████████████████████| 3/3 [00:05<00:00,  1.79s/it]\n"
     ]
    },
    {
     "name": "stdout",
     "output_type": "stream",
     "text": [
      "[0.7759746453080897, 0.7619478427480358, 0.799197764714877] [<tf.Tensor: shape=(), dtype=float32, numpy=0.939976>, <tf.Tensor: shape=(), dtype=float32, numpy=0.93998176>, <tf.Tensor: shape=(), dtype=float32, numpy=0.939805>]\n",
      "Depth 1 prob:  2.3371202527710024 logit val:  2.1967046307562583\n",
      "Depth 2 has 3 intersections\n"
     ]
    },
    {
     "name": "stderr",
     "output_type": "stream",
     "text": [
      "100%|████████████████████████████████████████████████████████████████████████████████████████████████████| 3/3 [00:06<00:00,  2.31s/it]"
     ]
    },
    {
     "name": "stdout",
     "output_type": "stream",
     "text": [
      "Current prob:  0.5119837168566472  Current dec:  0.48111300434122994\n",
      "Depth 3 has 1 intersections\n"
     ]
    },
    {
     "name": "stderr",
     "output_type": "stream",
     "text": [
      "\n",
      "100%|████████████████████████████████████████████████████████████████████████████████████████████████████| 1/1 [00:06<00:00,  6.09s/it]"
     ]
    },
    {
     "name": "stdout",
     "output_type": "stream",
     "text": [
      "Current prob:  0.9881396086916643  Current dec:  0.9286066785625712\n",
      "Got this p approx:  0.9881396086916643\n",
      "Got this d approx:  0.9286066785625712\n",
      "Final Bound:  0.9294534312916208\n"
     ]
    },
    {
     "name": "stderr",
     "output_type": "stream",
     "text": [
      "\n"
     ]
    }
   ],
   "source": [
    "from deepbayesHF.analyzers import decision_veri_upper\n",
    "\n",
    "\n",
    "def logit_value(iml, imu, ol, ou):\n",
    "    v1 = tf.one_hot(TRUE_VALUE, depth=10)\n",
    "    v2 = 1 - tf.one_hot(TRUE_VALUE, depth=10)\n",
    "    v1 = tf.squeeze(v1); v2 = tf.squeeze(v2)\n",
    "    best_case = tf.math.add(tf.math.multiply(v1, ou), tf.math.multiply(v2, ol))\n",
    "    best_case = tf.nn.softmax(best_case)\n",
    "    print(\"Best Case: \", best_case[TRUE_VALUE])\n",
    "    return best_case[TRUE_VALUE]\n",
    "\n",
    "\n",
    "p_upper = decision_veri_upper(bayes_model, img_lower, img_upper, MARGIN, SAMPLES,\n",
    "                        predicate=predicate_safe, value=logit_value, depth=MAXDEPTH)\n",
    "\n",
    "    \n",
    "print(\"Final Bound: \", p_upper)"
   ]
  },
  {
   "cell_type": "code",
   "execution_count": 14,
   "id": "d95eb2fb",
   "metadata": {},
   "outputs": [
    {
     "data": {
      "text/plain": [
       "(0.8, 0.95)"
      ]
     },
     "execution_count": 14,
     "metadata": {},
     "output_type": "execute_result"
    },
    {
     "data": {
      "image/png": "[encoded data removed]",
      "text/plain": [
       "<Figure size 480x960 with 1 Axes>"
      ]
     },
     "metadata": {
      "needs_background": "light"
     },
     "output_type": "display_data"
    }
   ],
   "source": [
    "import matplotlib \n",
    "import matplotlib.pyplot as plt\n",
    "import seaborn as sns\n",
    "sns.set_context('poster')\n",
    "\n",
    "plt.figure(figsize=(4, 8), dpi=120)\n",
    "\n",
    "sns.boxplot(y=confs, color='#7f7faf')\n",
    "plt.title('Decision Robustness')\n",
    "plt.ylabel(r'$\\sigma(f^{w}(x))$')\n",
    "sns.swarmplot(y=confs[0:200], linewidth=1, edgecolor='w', color='#7f7faf')\n",
    "plt.axhline(y=p_upper, color='#6374c9', linestyle='-')\n",
    "plt.axhline(y=p_lower, color='#c95244', linestyle='-')\n",
    "plt.ylim((0.8, 0.95))"
   ]
  },
  {
   "cell_type": "code",
   "execution_count": 15,
   "id": "4324b489",
   "metadata": {},
   "outputs": [
    {
     "data": {
      "image/png": "[encoded data removed]",
      "text/plain": [
       "<Figure size 432x288 with 2 Axes>"
      ]
     },
     "metadata": {
      "needs_background": "light"
     },
     "output_type": "display_data"
    },
    {
     "data": {
      "image/png": "[encoded data removed]",
      "text/plain": [
       "<Figure size 432x288 with 2 Axes>"
      ]
     },
     "metadata": {
      "needs_background": "light"
     },
     "output_type": "display_data"
    }
   ],
   "source": [
    "plt.imshow(np.clip(X_test[INDEX].reshape(28,28)-0.25, 0, 1), cmap='Greys')\n",
    "ax = plt.gca()\n",
    "ax.axes.xaxis.set_visible(False)\n",
    "ax.axes.yaxis.set_visible(False)\n",
    "c = plt.colorbar()\n",
    "plt.clim(0.0, 1.0) \n",
    "plt.show()\n",
    "\n",
    "plt.imshow(np.clip(X_test[INDEX].reshape(28,28)+0.25, 0, 1), cmap='Greys')\n",
    "ax = plt.gca()\n",
    "ax.axes.xaxis.set_visible(False)\n",
    "ax.axes.yaxis.set_visible(False)\n",
    "c = plt.colorbar()\n",
    "plt.clim(0.0, 1.0) \n",
    "plt.show()"
   ]
  },
  {
   "cell_type": "code",
   "execution_count": 59,
   "id": "f37212e8",
   "metadata": {},
   "outputs": [
    {
     "data": {
      "image/png": "[encoded data removed]",
      "text/plain": [
       "<Figure size 480x960 with 3 Axes>"
      ]
     },
     "metadata": {
      "needs_background": "light"
     },
     "output_type": "display_data"
    }
   ],
   "source": [
    "import numpy as np\n",
    "import matplotlib.pyplot as plt\n",
    "#plt.figure(figsize=(4, 8), dpi=120)\n",
    "fig, axes = plt.subplots(nrows=2, ncols=1, figsize=(4, 8), dpi=120)\n",
    "i = 0\n",
    "for ax in axes.flat:\n",
    "    if(i == 0):\n",
    "        ax.set_title('Inp. Low. Bound')\n",
    "        im = ax.imshow(np.clip(X_test[INDEX].reshape(28,28)-0.25, 0, 1), cmap='Greys')\n",
    "        i+=1\n",
    "    else:\n",
    "        ax.set_title('Inp. Upp. Bound')\n",
    "        im = ax.imshow(np.clip(X_test[INDEX].reshape(28,28)+0.25, 0, 1), cmap='Greys')\n",
    "    #im = ax.imshow(np.random.random((10,10)), vmin=0, vmax=1)\n",
    "    ax.axes.xaxis.set_visible(False)\n",
    "    ax.axes.yaxis.set_visible(False)\n",
    "    #ax.clim(0.0, 1.0)\n",
    "    im.set_clim(vmin=0, vmax=1)\n",
    "fig.colorbar(im, ax=axes.ravel().tolist())\n",
    "#plt.clim(0.0, 1.0)\n",
    "plt.show()"
   ]
  },
  {
   "cell_type": "code",
   "execution_count": 16,
   "id": "71fd789c",
   "metadata": {},
   "outputs": [],
   "source": [
    "MSR = []"
   ]
  },
  {
   "cell_type": "code",
   "execution_count": 17,
   "id": "f1732fa2",
   "metadata": {},
   "outputs": [
    {
     "name": "stderr",
     "output_type": "stream",
     "text": [
      "  3%|██▊                                                                                                | 1/35 [00:03<01:46,  3.12s/it]"
     ]
    },
    {
     "name": "stdout",
     "output_type": "stream",
     "text": [
      "0.32304437780297457 0\n"
     ]
    },
    {
     "name": "stderr",
     "output_type": "stream",
     "text": [
      "\r",
      "  6%|█████▋                                                                                             | 2/35 [00:07<02:07,  3.85s/it]"
     ]
    },
    {
     "name": "stdout",
     "output_type": "stream",
     "text": [
      "0.41723883863250244 0\n"
     ]
    },
    {
     "name": "stderr",
     "output_type": "stream",
     "text": [
      "\r",
      "  9%|████████▍                                                                                          | 3/35 [00:11<02:10,  4.08s/it]"
     ]
    },
    {
     "name": "stdout",
     "output_type": "stream",
     "text": [
      "0.4431045753154692 0\n"
     ]
    },
    {
     "name": "stderr",
     "output_type": "stream",
     "text": [
      "\r",
      " 11%|███████████▎                                                                                       | 4/35 [00:16<02:09,  4.19s/it]"
     ]
    },
    {
     "name": "stdout",
     "output_type": "stream",
     "text": [
      "0.37663107759287573 0\n"
     ]
    },
    {
     "name": "stderr",
     "output_type": "stream",
     "text": [
      "\r",
      " 14%|██████████████▏                                                                                    | 5/35 [00:20<02:07,  4.25s/it]"
     ]
    },
    {
     "name": "stdout",
     "output_type": "stream",
     "text": [
      "0.39203940800468484 0\n"
     ]
    },
    {
     "name": "stderr",
     "output_type": "stream",
     "text": [
      "\r",
      " 17%|████████████████▉                                                                                  | 6/35 [00:23<01:50,  3.80s/it]"
     ]
    },
    {
     "name": "stdout",
     "output_type": "stream",
     "text": [
      "0.3414261425120907 0\n"
     ]
    },
    {
     "name": "stderr",
     "output_type": "stream",
     "text": [
      "\r",
      " 20%|███████████████████▊                                                                               | 7/35 [00:27<01:51,  3.98s/it]"
     ]
    },
    {
     "name": "stdout",
     "output_type": "stream",
     "text": [
      "0.44293873554058494 0\n"
     ]
    },
    {
     "name": "stderr",
     "output_type": "stream",
     "text": [
      "\r",
      " 23%|██████████████████████▋                                                                            | 8/35 [00:32<01:50,  4.10s/it]"
     ]
    },
    {
     "name": "stdout",
     "output_type": "stream",
     "text": [
      "0.41382976061866616 0\n"
     ]
    },
    {
     "name": "stderr",
     "output_type": "stream",
     "text": [
      "\r",
      " 26%|█████████████████████████▍                                                                         | 9/35 [00:35<01:37,  3.74s/it]"
     ]
    },
    {
     "name": "stdout",
     "output_type": "stream",
     "text": [
      "0.30871490122702105 0\n"
     ]
    },
    {
     "name": "stderr",
     "output_type": "stream",
     "text": [
      "\r",
      " 29%|████████████████████████████                                                                      | 10/35 [00:38<01:28,  3.54s/it]"
     ]
    },
    {
     "name": "stdout",
     "output_type": "stream",
     "text": [
      "0.3486829471948588 0\n"
     ]
    },
    {
     "name": "stderr",
     "output_type": "stream",
     "text": [
      "\r",
      " 31%|██████████████████████████████▊                                                                   | 11/35 [00:42<01:30,  3.79s/it]"
     ]
    },
    {
     "name": "stdout",
     "output_type": "stream",
     "text": [
      "0.41784551495565814 0\n"
     ]
    },
    {
     "name": "stderr",
     "output_type": "stream",
     "text": [
      "\r",
      " 34%|█████████████████████████████████▌                                                                | 12/35 [00:45<01:21,  3.53s/it]"
     ]
    },
    {
     "name": "stdout",
     "output_type": "stream",
     "text": [
      "0.34734587305939923 0\n"
     ]
    },
    {
     "name": "stderr",
     "output_type": "stream",
     "text": [
      "\r",
      " 37%|████████████████████████████████████▍                                                             | 13/35 [00:49<01:23,  3.78s/it]"
     ]
    },
    {
     "name": "stdout",
     "output_type": "stream",
     "text": [
      "0.4223750698279919 0\n"
     ]
    },
    {
     "name": "stderr",
     "output_type": "stream",
     "text": [
      "\r",
      " 40%|███████████████████████████████████████▏                                                          | 14/35 [00:52<01:14,  3.53s/it]"
     ]
    },
    {
     "name": "stdout",
     "output_type": "stream",
     "text": [
      "0.29783895928879156 0\n"
     ]
    },
    {
     "name": "stderr",
     "output_type": "stream",
     "text": [
      "\r",
      " 43%|██████████████████████████████████████████                                                        | 15/35 [00:57<01:15,  3.78s/it]"
     ]
    },
    {
     "name": "stdout",
     "output_type": "stream",
     "text": [
      "0.37492872255727033 0\n"
     ]
    },
    {
     "name": "stderr",
     "output_type": "stream",
     "text": [
      "\r",
      " 46%|████████████████████████████████████████████▊                                                     | 16/35 [01:00<01:07,  3.53s/it]"
     ]
    },
    {
     "name": "stdout",
     "output_type": "stream",
     "text": [
      "0.3388225904523559 0\n"
     ]
    },
    {
     "name": "stderr",
     "output_type": "stream",
     "text": [
      "\r",
      " 49%|███████████████████████████████████████████████▌                                                  | 17/35 [01:04<01:08,  3.78s/it]"
     ]
    },
    {
     "name": "stdout",
     "output_type": "stream",
     "text": [
      "0.440265338332407 0\n"
     ]
    },
    {
     "name": "stderr",
     "output_type": "stream",
     "text": [
      "\r",
      " 51%|██████████████████████████████████████████████████▍                                               | 18/35 [01:07<01:00,  3.54s/it]"
     ]
    },
    {
     "name": "stdout",
     "output_type": "stream",
     "text": [
      "0.33512730637345317 0\n"
     ]
    },
    {
     "name": "stderr",
     "output_type": "stream",
     "text": [
      "\r",
      " 54%|█████████████████████████████████████████████████████▏                                            | 19/35 [01:10<00:53,  3.36s/it]"
     ]
    },
    {
     "name": "stdout",
     "output_type": "stream",
     "text": [
      "0.3253510780255975 0\n"
     ]
    },
    {
     "name": "stderr",
     "output_type": "stream",
     "text": [
      "\r",
      " 57%|████████████████████████████████████████████████████████                                          | 20/35 [01:14<00:54,  3.65s/it]"
     ]
    },
    {
     "name": "stdout",
     "output_type": "stream",
     "text": [
      "0.443963132476596 0\n"
     ]
    },
    {
     "name": "stderr",
     "output_type": "stream",
     "text": [
      "\r",
      " 60%|██████████████████████████████████████████████████████████▊                                       | 21/35 [01:17<00:48,  3.44s/it]"
     ]
    },
    {
     "name": "stdout",
     "output_type": "stream",
     "text": [
      "0.3106612561775193 0\n"
     ]
    },
    {
     "name": "stderr",
     "output_type": "stream",
     "text": [
      "\r",
      " 63%|█████████████████████████████████████████████████████████████▌                                    | 22/35 [01:20<00:42,  3.29s/it]"
     ]
    },
    {
     "name": "stdout",
     "output_type": "stream",
     "text": [
      "0.2917546589663804 0\n"
     ]
    },
    {
     "name": "stderr",
     "output_type": "stream",
     "text": [
      "\r",
      " 66%|████████████████████████████████████████████████████████████████▍                                 | 23/35 [01:24<00:43,  3.61s/it]"
     ]
    },
    {
     "name": "stdout",
     "output_type": "stream",
     "text": [
      "0.37951103374227935 0\n"
     ]
    },
    {
     "name": "stderr",
     "output_type": "stream",
     "text": [
      "\r",
      " 69%|███████████████████████████████████████████████████████████████████▏                              | 24/35 [01:27<00:37,  3.41s/it]"
     ]
    },
    {
     "name": "stdout",
     "output_type": "stream",
     "text": [
      "0.3487485642901116 0\n"
     ]
    },
    {
     "name": "stderr",
     "output_type": "stream",
     "text": [
      "\r",
      " 71%|██████████████████████████████████████████████████████████████████████                            | 25/35 [01:32<00:36,  3.69s/it]"
     ]
    },
    {
     "name": "stdout",
     "output_type": "stream",
     "text": [
      "0.3783834883611809 0\n"
     ]
    },
    {
     "name": "stderr",
     "output_type": "stream",
     "text": [
      "\r",
      " 74%|████████████████████████████████████████████████████████████████████████▊                         | 26/35 [01:36<00:35,  3.89s/it]"
     ]
    },
    {
     "name": "stdout",
     "output_type": "stream",
     "text": [
      "0.4127591251907853 0\n"
     ]
    },
    {
     "name": "stderr",
     "output_type": "stream",
     "text": [
      "\r",
      " 77%|███████████████████████████████████████████████████████████████████████████▌                      | 27/35 [01:39<00:29,  3.65s/it]"
     ]
    },
    {
     "name": "stdout",
     "output_type": "stream",
     "text": [
      "0.3291971694486605 0\n"
     ]
    },
    {
     "name": "stderr",
     "output_type": "stream",
     "text": [
      "\r",
      " 80%|██████████████████████████████████████████████████████████████████████████████▍                   | 28/35 [01:42<00:24,  3.44s/it]"
     ]
    },
    {
     "name": "stdout",
     "output_type": "stream",
     "text": [
      "0.32623802894778664 0\n"
     ]
    },
    {
     "name": "stderr",
     "output_type": "stream",
     "text": [
      "\r",
      " 83%|█████████████████████████████████████████████████████████████████████████████████▏                | 29/35 [01:47<00:22,  3.71s/it]"
     ]
    },
    {
     "name": "stdout",
     "output_type": "stream",
     "text": [
      "0.3590944146043891 0\n"
     ]
    },
    {
     "name": "stderr",
     "output_type": "stream",
     "text": [
      "\r",
      " 86%|████████████████████████████████████████████████████████████████████████████████████              | 30/35 [01:49<00:17,  3.48s/it]"
     ]
    },
    {
     "name": "stdout",
     "output_type": "stream",
     "text": [
      "0.2946937096343874 0\n"
     ]
    },
    {
     "name": "stderr",
     "output_type": "stream",
     "text": [
      "\r",
      " 89%|██████████████████████████████████████████████████████████████████████████████████████▊           | 31/35 [01:52<00:13,  3.32s/it]"
     ]
    },
    {
     "name": "stdout",
     "output_type": "stream",
     "text": [
      "0.3009180933003459 0\n"
     ]
    },
    {
     "name": "stderr",
     "output_type": "stream",
     "text": [
      "\r",
      " 91%|█████████████████████████████████████████████████████████████████████████████████████████▌        | 32/35 [01:57<00:10,  3.63s/it]"
     ]
    },
    {
     "name": "stdout",
     "output_type": "stream",
     "text": [
      "0.41536289933258563 0\n"
     ]
    },
    {
     "name": "stderr",
     "output_type": "stream",
     "text": [
      "\r",
      " 94%|████████████████████████████████████████████████████████████████████████████████████████████▍     | 33/35 [02:00<00:06,  3.42s/it]"
     ]
    },
    {
     "name": "stdout",
     "output_type": "stream",
     "text": [
      "0.30719312077656113 0\n"
     ]
    },
    {
     "name": "stderr",
     "output_type": "stream",
     "text": [
      "\r",
      " 97%|███████████████████████████████████████████████████████████████████████████████████████████████▏  | 34/35 [02:04<00:03,  3.70s/it]"
     ]
    },
    {
     "name": "stdout",
     "output_type": "stream",
     "text": [
      "0.3808498644019034 0\n"
     ]
    },
    {
     "name": "stderr",
     "output_type": "stream",
     "text": [
      "100%|██████████████████████████████████████████████████████████████████████████████████████████████████| 35/35 [02:08<00:00,  3.68s/it]"
     ]
    },
    {
     "name": "stdout",
     "output_type": "stream",
     "text": [
      "0.43443980021564377 0\n"
     ]
    },
    {
     "name": "stderr",
     "output_type": "stream",
     "text": [
      "\n"
     ]
    }
   ],
   "source": [
    "INDEX = 7\n",
    "EPSILON = 0.15\n",
    "bayes_model.input_lower = 0; bayes_model.input_upper = 1.0\n",
    "for E in trange(35):\n",
    "    for i in range(5):\n",
    "        eps = EPSILON + random.uniform(0.1*i, (0.1*(i+1)))\n",
    "        x_adv = FGSM(bayes_model, np.asarray([X_test[INDEX]]), loss, eps, direction=-1, num_models=1, order=1, samples=15)\n",
    "        est = 0\n",
    "        for j in range(100):\n",
    "            bayes_model.model.set_weights(bayes_model.sample())\n",
    "            y = bayes_model._predict(np.asarray([x_adv]))\n",
    "            if(np.argmax(y) == TRUE_VALUE):\n",
    "                est += 1\n",
    "            if(est > 51):\n",
    "                break\n",
    "        if(j == 99):\n",
    "            print(eps, est)\n",
    "            MSR.append(eps)\n",
    "            break"
   ]
  },
  {
   "cell_type": "code",
   "execution_count": 18,
   "id": "b2ec355f",
   "metadata": {},
   "outputs": [
    {
     "name": "stdout",
     "output_type": "stream",
     "text": [
      "[0.32304437780297457, 0.41723883863250244, 0.4431045753154692, 0.37663107759287573, 0.39203940800468484, 0.3414261425120907, 0.44293873554058494, 0.41382976061866616, 0.30871490122702105, 0.3486829471948588, 0.41784551495565814, 0.34734587305939923, 0.4223750698279919, 0.29783895928879156, 0.37492872255727033, 0.3388225904523559, 0.440265338332407, 0.33512730637345317, 0.3253510780255975, 0.443963132476596, 0.3106612561775193, 0.2917546589663804, 0.37951103374227935, 0.3487485642901116, 0.3783834883611809, 0.4127591251907853, 0.3291971694486605, 0.32623802894778664, 0.3590944146043891, 0.2946937096343874, 0.3009180933003459, 0.41536289933258563, 0.30719312077656113, 0.3808498644019034, 0.43443980021564377]\n"
     ]
    }
   ],
   "source": [
    "print(MSR)"
   ]
  },
  {
   "cell_type": "code",
   "execution_count": 19,
   "id": "a5ded72c",
   "metadata": {},
   "outputs": [
    {
     "name": "stderr",
     "output_type": "stream",
     "text": [
      "Checking Samples: 100%|█████████████████████████████████████████████████████████████████████████████████| 3/3 [00:00<00:00, 168.56it/s]\n"
     ]
    },
    {
     "name": "stdout",
     "output_type": "stream",
     "text": [
      "Found 0 safe intervals\n",
      "About to compute intersection for this many intervals:  0\n"
     ]
    },
    {
     "name": "stderr",
     "output_type": "stream",
     "text": [
      "Computing intersection weights: 0it [00:00, ?it/s]"
     ]
    },
    {
     "name": "stdout",
     "output_type": "stream",
     "text": [
      "Depth 1 has 0 intersections\n"
     ]
    },
    {
     "name": "stderr",
     "output_type": "stream",
     "text": [
      "\n",
      "0it [00:00, ?it/s]"
     ]
    },
    {
     "name": "stdout",
     "output_type": "stream",
     "text": [
      "Depth 1 prob:  0\n",
      "Depth 2 has 0 intersections\n"
     ]
    },
    {
     "name": "stderr",
     "output_type": "stream",
     "text": [
      "\n",
      "0it [00:00, ?it/s]"
     ]
    },
    {
     "name": "stdout",
     "output_type": "stream",
     "text": [
      "Depth 2 prob: 0\n",
      "Current approximation: 0\n",
      "Depth 2 prob::  0\n",
      "Depth 3 has 0 intersections\n"
     ]
    },
    {
     "name": "stderr",
     "output_type": "stream",
     "text": [
      "\n",
      "0it [00:00, ?it/s]\n"
     ]
    },
    {
     "name": "stdout",
     "output_type": "stream",
     "text": [
      "Depth 3 prob: 0\n",
      "Current approximation: 0\n",
      "Got this approximation:  0\n"
     ]
    },
    {
     "name": "stderr",
     "output_type": "stream",
     "text": [
      "Checking Samples: 100%|█████████████████████████████████████████████████████████████████████████████████| 3/3 [00:00<00:00, 101.39it/s]\n"
     ]
    },
    {
     "name": "stdout",
     "output_type": "stream",
     "text": [
      "Found 0 safe intervals\n",
      "About to compute intersection for this many intervals:  0\n"
     ]
    },
    {
     "name": "stderr",
     "output_type": "stream",
     "text": [
      "Computing intersection weights: 0it [00:00, ?it/s]"
     ]
    },
    {
     "name": "stdout",
     "output_type": "stream",
     "text": [
      "Depth 1 has 0 intersections\n"
     ]
    },
    {
     "name": "stderr",
     "output_type": "stream",
     "text": [
      "\n",
      "0it [00:00, ?it/s]"
     ]
    },
    {
     "name": "stdout",
     "output_type": "stream",
     "text": [
      "Depth 1 prob:  0\n",
      "Depth 2 has 0 intersections\n"
     ]
    },
    {
     "name": "stderr",
     "output_type": "stream",
     "text": [
      "\n",
      "0it [00:00, ?it/s]"
     ]
    },
    {
     "name": "stdout",
     "output_type": "stream",
     "text": [
      "Depth 2 prob: 0\n",
      "Current approximation: 0\n",
      "Depth 2 prob::  0\n",
      "Depth 3 has 0 intersections\n"
     ]
    },
    {
     "name": "stderr",
     "output_type": "stream",
     "text": [
      "\n",
      "0it [00:00, ?it/s]\n"
     ]
    },
    {
     "name": "stdout",
     "output_type": "stream",
     "text": [
      "Depth 3 prob: 0\n",
      "Current approximation: 0\n",
      "Got this approximation:  0\n"
     ]
    },
    {
     "name": "stderr",
     "output_type": "stream",
     "text": [
      "Checking Samples: 100%|█████████████████████████████████████████████████████████████████████████████████| 3/3 [00:00<00:00, 104.34it/s]\n"
     ]
    },
    {
     "name": "stdout",
     "output_type": "stream",
     "text": [
      "Found 0 safe intervals\n",
      "About to compute intersection for this many intervals:  0\n"
     ]
    },
    {
     "name": "stderr",
     "output_type": "stream",
     "text": [
      "Computing intersection weights: 0it [00:00, ?it/s]"
     ]
    },
    {
     "name": "stdout",
     "output_type": "stream",
     "text": [
      "Depth 1 has 0 intersections\n"
     ]
    },
    {
     "name": "stderr",
     "output_type": "stream",
     "text": [
      "\n",
      "0it [00:00, ?it/s]"
     ]
    },
    {
     "name": "stdout",
     "output_type": "stream",
     "text": [
      "Depth 1 prob:  0\n",
      "Depth 2 has 0 intersections\n"
     ]
    },
    {
     "name": "stderr",
     "output_type": "stream",
     "text": [
      "\n",
      "0it [00:00, ?it/s]"
     ]
    },
    {
     "name": "stdout",
     "output_type": "stream",
     "text": [
      "Depth 2 prob: 0\n",
      "Current approximation: 0\n",
      "Depth 2 prob::  0\n",
      "Depth 3 has 0 intersections\n"
     ]
    },
    {
     "name": "stderr",
     "output_type": "stream",
     "text": [
      "\n",
      "0it [00:00, ?it/s]\n"
     ]
    },
    {
     "name": "stdout",
     "output_type": "stream",
     "text": [
      "Depth 3 prob: 0\n",
      "Current approximation: 0\n",
      "Got this approximation:  0\n"
     ]
    },
    {
     "name": "stderr",
     "output_type": "stream",
     "text": [
      "Checking Samples: 100%|█████████████████████████████████████████████████████████████████████████████████| 3/3 [00:00<00:00, 176.20it/s]\n"
     ]
    },
    {
     "name": "stdout",
     "output_type": "stream",
     "text": [
      "Found 0 safe intervals\n",
      "About to compute intersection for this many intervals:  0\n"
     ]
    },
    {
     "name": "stderr",
     "output_type": "stream",
     "text": [
      "Computing intersection weights: 0it [00:00, ?it/s]"
     ]
    },
    {
     "name": "stdout",
     "output_type": "stream",
     "text": [
      "Depth 1 has 0 intersections\n"
     ]
    },
    {
     "name": "stderr",
     "output_type": "stream",
     "text": [
      "\n",
      "0it [00:00, ?it/s]"
     ]
    },
    {
     "name": "stdout",
     "output_type": "stream",
     "text": [
      "Depth 1 prob:  0\n",
      "Depth 2 has 0 intersections\n"
     ]
    },
    {
     "name": "stderr",
     "output_type": "stream",
     "text": [
      "\n",
      "0it [00:00, ?it/s]"
     ]
    },
    {
     "name": "stdout",
     "output_type": "stream",
     "text": [
      "Depth 2 prob: 0\n",
      "Current approximation: 0\n",
      "Depth 2 prob::  0\n",
      "Depth 3 has 0 intersections\n"
     ]
    },
    {
     "name": "stderr",
     "output_type": "stream",
     "text": [
      "\n",
      "0it [00:00, ?it/s]\n"
     ]
    },
    {
     "name": "stdout",
     "output_type": "stream",
     "text": [
      "Depth 3 prob: 0\n",
      "Current approximation: 0\n",
      "Got this approximation:  0\n"
     ]
    },
    {
     "name": "stderr",
     "output_type": "stream",
     "text": [
      "Checking Samples: 100%|█████████████████████████████████████████████████████████████████████████████████| 3/3 [00:00<00:00, 203.46it/s]\n"
     ]
    },
    {
     "name": "stdout",
     "output_type": "stream",
     "text": [
      "Found 0 safe intervals\n",
      "About to compute intersection for this many intervals:  0\n"
     ]
    },
    {
     "name": "stderr",
     "output_type": "stream",
     "text": [
      "Computing intersection weights: 0it [00:00, ?it/s]"
     ]
    },
    {
     "name": "stdout",
     "output_type": "stream",
     "text": [
      "Depth 1 has 0 intersections\n"
     ]
    },
    {
     "name": "stderr",
     "output_type": "stream",
     "text": [
      "\n",
      "0it [00:00, ?it/s]"
     ]
    },
    {
     "name": "stdout",
     "output_type": "stream",
     "text": [
      "Depth 1 prob:  0\n",
      "Depth 2 has 0 intersections\n"
     ]
    },
    {
     "name": "stderr",
     "output_type": "stream",
     "text": [
      "\n",
      "0it [00:00, ?it/s]"
     ]
    },
    {
     "name": "stdout",
     "output_type": "stream",
     "text": [
      "Depth 2 prob: 0\n",
      "Current approximation: 0\n",
      "Depth 2 prob::  0\n",
      "Depth 3 has 0 intersections\n"
     ]
    },
    {
     "name": "stderr",
     "output_type": "stream",
     "text": [
      "\n",
      "0it [00:00, ?it/s]"
     ]
    },
    {
     "name": "stdout",
     "output_type": "stream",
     "text": [
      "Depth 3 prob: 0\n",
      "Current approximation: 0\n",
      "Got this approximation:  0\n"
     ]
    },
    {
     "name": "stderr",
     "output_type": "stream",
     "text": [
      "\n"
     ]
    }
   ],
   "source": [
    "from deepbayesHF.analyzers import prob_veri \n",
    "\n",
    "MARGIN = 2.0\n",
    "SAMPLES = 3\n",
    "def predicate_safe(iml, imu, ol, ou):\n",
    "    v1 = tf.one_hot(TRUE_VALUE, depth=10)\n",
    "    v2 = 1 - tf.one_hot(TRUE_VALUE, depth=10)\n",
    "    v1 = tf.squeeze(v1); v2 = tf.squeeze(v2)\n",
    "    worst_case = tf.math.add(tf.math.multiply(v2, ou), tf.math.multiply(v1, ol))\n",
    "    if(np.argmax(worst_case) == TRUE_VALUE):\n",
    "        return True\n",
    "    else:\n",
    "        return False\n",
    "\n",
    "lowers = []\n",
    "epsilons = [0.1, 0.25, 0.5, 0.75, 1.0]\n",
    "for EPSILON in epsilons:\n",
    "    img = np.asarray([X_test[INDEX]])\n",
    "    img_upper = np.clip(np.asarray([X_test[INDEX]+(EPSILON)]), 0, 1)\n",
    "    img_lower = np.clip(np.asarray([X_test[INDEX]-(EPSILON)]), 0, 1)\n",
    "    p_lower = prob_veri(bayes_model, img_lower, img_upper, MARGIN, SAMPLES, predicate=predicate_safe, depth=MAXDEPTH)\n",
    "    lowers.append(p_lower)"
   ]
  },
  {
   "cell_type": "code",
   "execution_count": 21,
   "id": "a43845f7",
   "metadata": {},
   "outputs": [
    {
     "name": "stderr",
     "output_type": "stream",
     "text": [
      "Checking Samples: 100%|██████████████████████████████████████████████████████████████████████████████████| 3/3 [00:06<00:00,  2.20s/it]\n"
     ]
    },
    {
     "name": "stdout",
     "output_type": "stream",
     "text": [
      "Found 0 safe intervals\n",
      "About to compute intersection for this many intervals:  0\n"
     ]
    },
    {
     "name": "stderr",
     "output_type": "stream",
     "text": [
      "Computing intersection weights: 0it [00:00, ?it/s]"
     ]
    },
    {
     "name": "stdout",
     "output_type": "stream",
     "text": [
      "Depth 1 has 0 intersections\n"
     ]
    },
    {
     "name": "stderr",
     "output_type": "stream",
     "text": [
      "\n",
      "0it [00:00, ?it/s]"
     ]
    },
    {
     "name": "stdout",
     "output_type": "stream",
     "text": [
      "Depth 1 prob:  0\n",
      "Depth 2 has 0 intersections\n"
     ]
    },
    {
     "name": "stderr",
     "output_type": "stream",
     "text": [
      "\n",
      "0it [00:00, ?it/s]"
     ]
    },
    {
     "name": "stdout",
     "output_type": "stream",
     "text": [
      "Depth 2 prob: 0\n",
      "Current approximation: 0\n",
      "Depth 2 prob::  0\n",
      "Depth 3 has 0 intersections\n"
     ]
    },
    {
     "name": "stderr",
     "output_type": "stream",
     "text": [
      "\n",
      "0it [00:00, ?it/s]"
     ]
    },
    {
     "name": "stdout",
     "output_type": "stream",
     "text": [
      "Depth 3 prob: 0\n",
      "Current approximation: 0\n",
      "Got this approximation:  0\n"
     ]
    },
    {
     "name": "stderr",
     "output_type": "stream",
     "text": [
      "\n"
     ]
    }
   ],
   "source": [
    "from deepbayesHF.analyzers import prob_veri_upper \n",
    "\n",
    "def predicate_unsafe(iml, imu, ol, ou):\n",
    "    v1 = tf.one_hot(TRUE_VALUE, depth=10)\n",
    "    v2 = 1 - tf.one_hot(TRUE_VALUE, depth=10)\n",
    "    v1 = tf.squeeze(v1); v2 = tf.squeeze(v2)\n",
    "    #worst_case = tf.math.add(tf.math.multiply(v2, ou), tf.math.multiply(v1, ol))\n",
    "    best_case = tf.math.add(tf.math.multiply(v1, ou), tf.math.multiply(v2, ol))\n",
    "    if(np.argmax(best_case) == TRUE_VALUE):\n",
    "        return False\n",
    "    else:\n",
    "        return True\n",
    "\n",
    "uppers = []\n",
    "epsilons = [0.1]\n",
    "for EPSILON in epsilons:\n",
    "    img = np.asarray([X_test[INDEX]])\n",
    "    img_upper = np.clip(np.asarray([X_test[INDEX]+(EPSILON)]), 0, 1)\n",
    "    img_lower = np.clip(np.asarray([X_test[INDEX]-(EPSILON)]), 0, 1)\n",
    "    p_upper = prob_veri_upper(bayes_model, img_lower, img_upper, MARGIN, SAMPLES, predicate=predicate_unsafe, depth=MAXDEPTH)\n",
    "    p_upper = 1-p_upper\n",
    "    uppers.append(p_upper)\n",
    "\n"
   ]
  },
  {
   "cell_type": "code",
   "execution_count": null,
   "id": "af0e1ba5",
   "metadata": {},
   "outputs": [],
   "source": [
    "print([round(i, 2) for i in uppers])\n",
    "print([round(i, 2) for i in lowers])"
   ]
  },
  {
   "cell_type": "code",
   "execution_count": 28,
   "id": "e4d630e1",
   "metadata": {},
   "outputs": [
    {
     "name": "stderr",
     "output_type": "stream",
     "text": [
      "Checking Samples: 100%|██████████████████████████████████████████████████████████████████████████████| 100/100 [00:05<00:00, 19.48it/s]\n"
     ]
    },
    {
     "name": "stdout",
     "output_type": "stream",
     "text": [
      "Found 100 safe intervals\n",
      "About to compute intersection for this many intervals:  100\n"
     ]
    },
    {
     "name": "stderr",
     "output_type": "stream",
     "text": [
      "Computing intersection weights: 100%|█████████████████████████████████████████████████████████████| 100/100 [00:00<00:00, 38879.35it/s]"
     ]
    },
    {
     "name": "stdout",
     "output_type": "stream",
     "text": [
      "Depth 1 has 100 intersections\n"
     ]
    },
    {
     "name": "stderr",
     "output_type": "stream",
     "text": [
      "\n",
      "  0%|                                                                                                          | 0/100 [00:12<?, ?it/s]Process ForkPoolWorker-1575:\n",
      "Process ForkPoolWorker-1591:\n",
      "Process ForkPoolWorker-1583:\n",
      "Process ForkPoolWorker-1569:\n",
      "Process ForkPoolWorker-1572:\n",
      "Process ForkPoolWorker-1579:\n",
      "Process ForkPoolWorker-1589:\n",
      "Process ForkPoolWorker-1576:\n",
      "\n",
      "Process ForkPoolWorker-1577:\n",
      "Process ForkPoolWorker-1573:\n"
     ]
    },
    {
     "ename": "KeyboardInterrupt",
     "evalue": "",
     "output_type": "error",
     "traceback": [
      "\u001b[0;31m---------------------------------------------------------------------------\u001b[0m",
      "\u001b[0;31mIndexError\u001b[0m                                Traceback (most recent call last)",
      "File \u001b[0;32m/usr/lib/python3.8/multiprocessing/pool.py:848\u001b[0m, in \u001b[0;36mIMapIterator.next\u001b[0;34m(self, timeout)\u001b[0m\n\u001b[1;32m    847\u001b[0m \u001b[38;5;28;01mtry\u001b[39;00m:\n\u001b[0;32m--> 848\u001b[0m     item \u001b[38;5;241m=\u001b[39m \u001b[38;5;28;43mself\u001b[39;49m\u001b[38;5;241;43m.\u001b[39;49m\u001b[43m_items\u001b[49m\u001b[38;5;241;43m.\u001b[39;49m\u001b[43mpopleft\u001b[49m\u001b[43m(\u001b[49m\u001b[43m)\u001b[49m\n\u001b[1;32m    849\u001b[0m \u001b[38;5;28;01mexcept\u001b[39;00m \u001b[38;5;167;01mIndexError\u001b[39;00m:\n",
      "\u001b[0;31mIndexError\u001b[0m: pop from an empty deque",
      "\nDuring handling of the above exception, another exception occurred:\n",
      "\u001b[0;31mKeyboardInterrupt\u001b[0m                         Traceback (most recent call last)",
      "Input \u001b[0;32mIn [28]\u001b[0m, in \u001b[0;36m<cell line: 5>\u001b[0;34m()\u001b[0m\n\u001b[1;32m      3\u001b[0m img_upper \u001b[38;5;241m=\u001b[39m np\u001b[38;5;241m.\u001b[39mclip(np\u001b[38;5;241m.\u001b[39masarray([X_test[INDEX]\u001b[38;5;241m+\u001b[39m(EPSILON)]), \u001b[38;5;241m0\u001b[39m, \u001b[38;5;241m1\u001b[39m)\n\u001b[1;32m      4\u001b[0m img_lower \u001b[38;5;241m=\u001b[39m np\u001b[38;5;241m.\u001b[39mclip(np\u001b[38;5;241m.\u001b[39masarray([X_test[INDEX]\u001b[38;5;241m-\u001b[39m(EPSILON)]), \u001b[38;5;241m0\u001b[39m, \u001b[38;5;241m1\u001b[39m)\n\u001b[0;32m----> 5\u001b[0m p_lower \u001b[38;5;241m=\u001b[39m \u001b[43mprob_veri\u001b[49m\u001b[43m(\u001b[49m\u001b[43mbayes_model\u001b[49m\u001b[43m,\u001b[49m\u001b[43m \u001b[49m\u001b[43mimg_lower\u001b[49m\u001b[43m,\u001b[49m\u001b[43m \u001b[49m\u001b[43mimg_upper\u001b[49m\u001b[43m,\u001b[49m\u001b[43m \u001b[49m\u001b[38;5;241;43m2.5\u001b[39;49m\u001b[43m,\u001b[49m\u001b[43m \u001b[49m\u001b[38;5;241;43m100\u001b[39;49m\u001b[43m,\u001b[49m\u001b[43m \u001b[49m\u001b[43mpredicate\u001b[49m\u001b[38;5;241;43m=\u001b[39;49m\u001b[43mpredicate_safe\u001b[49m\u001b[43m,\u001b[49m\u001b[43m \u001b[49m\u001b[43mdepth\u001b[49m\u001b[38;5;241;43m=\u001b[39;49m\u001b[38;5;241;43m1\u001b[39;49m\u001b[43m)\u001b[49m\n\u001b[1;32m      6\u001b[0m lowers\u001b[38;5;241m.\u001b[39mappend(p_lower)\n",
      "File \u001b[0;32m~/Active/IEEEJournalCode/deepbayesHF/analyzers/probverification.py:553\u001b[0m, in \u001b[0;36mprob_veri\u001b[0;34m(model, s0, s1, w_marg, samples, predicate, i0, depth)\u001b[0m\n\u001b[1;32m    551\u001b[0m         safe_weights\u001b[38;5;241m.\u001b[39mappend(model\u001b[38;5;241m.\u001b[39mmodel\u001b[38;5;241m.\u001b[39mget_weights())\n\u001b[1;32m    552\u001b[0m \u001b[38;5;28mprint\u001b[39m(\u001b[38;5;124m\"\u001b[39m\u001b[38;5;124mFound \u001b[39m\u001b[38;5;132;01m%s\u001b[39;00m\u001b[38;5;124m safe intervals\u001b[39m\u001b[38;5;124m\"\u001b[39m\u001b[38;5;241m%\u001b[39m(\u001b[38;5;28mlen\u001b[39m(safe_weights)))\n\u001b[0;32m--> 553\u001b[0m p \u001b[38;5;241m=\u001b[39m \u001b[43mcompute_probability_bonferroni\u001b[49m\u001b[43m(\u001b[49m\u001b[43mmodel\u001b[49m\u001b[43m,\u001b[49m\u001b[43m \u001b[49m\u001b[43msafe_weights\u001b[49m\u001b[43m,\u001b[49m\u001b[43m \u001b[49m\u001b[43mw_marg\u001b[49m\u001b[43m,\u001b[49m\u001b[43m \u001b[49m\u001b[43mmax_depth\u001b[49m\u001b[38;5;241;43m=\u001b[39;49m\u001b[43mdepth\u001b[49m\u001b[43m)\u001b[49m\n\u001b[1;32m    554\u001b[0m \u001b[38;5;28;01mreturn\u001b[39;00m p\n",
      "File \u001b[0;32m~/Active/IEEEJournalCode/deepbayesHF/analyzers/probverification.py:435\u001b[0m, in \u001b[0;36mcompute_probability_bonferroni\u001b[0;34m(model, weight_intervals, margin, max_depth, verbose, n_proc)\u001b[0m\n\u001b[1;32m    433\u001b[0m stage1p \u001b[38;5;241m=\u001b[39m []\n\u001b[1;32m    434\u001b[0m \u001b[38;5;66;03m#stage1p = proc_pool.map(compute_probability_subroutine, stage1_args)\u001b[39;00m\n\u001b[0;32m--> 435\u001b[0m \u001b[38;5;28;01mfor\u001b[39;00m result \u001b[38;5;129;01min\u001b[39;00m tqdm\u001b[38;5;241m.\u001b[39mtqdm(proc_pool\u001b[38;5;241m.\u001b[39mimap_unordered(compute_probability_subroutine, stage1_args), total\u001b[38;5;241m=\u001b[39m\u001b[38;5;28mlen\u001b[39m(stage1_args)):\n\u001b[1;32m    436\u001b[0m     stage1p\u001b[38;5;241m.\u001b[39mappend(result)\n\u001b[1;32m    437\u001b[0m proc_pool\u001b[38;5;241m.\u001b[39mclose()\n",
      "File \u001b[0;32m~/.local/lib/python3.8/site-packages/tqdm/std.py:1180\u001b[0m, in \u001b[0;36mtqdm.__iter__\u001b[0;34m(self)\u001b[0m\n\u001b[1;32m   1177\u001b[0m time \u001b[38;5;241m=\u001b[39m \u001b[38;5;28mself\u001b[39m\u001b[38;5;241m.\u001b[39m_time\n\u001b[1;32m   1179\u001b[0m \u001b[38;5;28;01mtry\u001b[39;00m:\n\u001b[0;32m-> 1180\u001b[0m     \u001b[38;5;28;01mfor\u001b[39;00m obj \u001b[38;5;129;01min\u001b[39;00m iterable:\n\u001b[1;32m   1181\u001b[0m         \u001b[38;5;28;01myield\u001b[39;00m obj\n\u001b[1;32m   1182\u001b[0m         \u001b[38;5;66;03m# Update and possibly print the progressbar.\u001b[39;00m\n\u001b[1;32m   1183\u001b[0m         \u001b[38;5;66;03m# Note: does not call self.update(1) for speed optimisation.\u001b[39;00m\n",
      "File \u001b[0;32m/usr/lib/python3.8/multiprocessing/pool.py:853\u001b[0m, in \u001b[0;36mIMapIterator.next\u001b[0;34m(self, timeout)\u001b[0m\n\u001b[1;32m    851\u001b[0m     \u001b[38;5;28mself\u001b[39m\u001b[38;5;241m.\u001b[39m_pool \u001b[38;5;241m=\u001b[39m \u001b[38;5;28;01mNone\u001b[39;00m\n\u001b[1;32m    852\u001b[0m     \u001b[38;5;28;01mraise\u001b[39;00m \u001b[38;5;167;01mStopIteration\u001b[39;00m \u001b[38;5;28;01mfrom\u001b[39;00m \u001b[38;5;28mNone\u001b[39m\n\u001b[0;32m--> 853\u001b[0m \u001b[38;5;28;43mself\u001b[39;49m\u001b[38;5;241;43m.\u001b[39;49m\u001b[43m_cond\u001b[49m\u001b[38;5;241;43m.\u001b[39;49m\u001b[43mwait\u001b[49m\u001b[43m(\u001b[49m\u001b[43mtimeout\u001b[49m\u001b[43m)\u001b[49m\n\u001b[1;32m    854\u001b[0m \u001b[38;5;28;01mtry\u001b[39;00m:\n\u001b[1;32m    855\u001b[0m     item \u001b[38;5;241m=\u001b[39m \u001b[38;5;28mself\u001b[39m\u001b[38;5;241m.\u001b[39m_items\u001b[38;5;241m.\u001b[39mpopleft()\n",
      "File \u001b[0;32m/usr/lib/python3.8/threading.py:302\u001b[0m, in \u001b[0;36mCondition.wait\u001b[0;34m(self, timeout)\u001b[0m\n\u001b[1;32m    300\u001b[0m \u001b[38;5;28;01mtry\u001b[39;00m:    \u001b[38;5;66;03m# restore state no matter what (e.g., KeyboardInterrupt)\u001b[39;00m\n\u001b[1;32m    301\u001b[0m     \u001b[38;5;28;01mif\u001b[39;00m timeout \u001b[38;5;129;01mis\u001b[39;00m \u001b[38;5;28;01mNone\u001b[39;00m:\n\u001b[0;32m--> 302\u001b[0m         \u001b[43mwaiter\u001b[49m\u001b[38;5;241;43m.\u001b[39;49m\u001b[43macquire\u001b[49m\u001b[43m(\u001b[49m\u001b[43m)\u001b[49m\n\u001b[1;32m    303\u001b[0m         gotit \u001b[38;5;241m=\u001b[39m \u001b[38;5;28;01mTrue\u001b[39;00m\n\u001b[1;32m    304\u001b[0m     \u001b[38;5;28;01melse\u001b[39;00m:\n",
      "\u001b[0;31mKeyboardInterrupt\u001b[0m: "
     ]
    },
    {
     "name": "stderr",
     "output_type": "stream",
     "text": [
      "Process ForkPoolWorker-1574:\n",
      "Process ForkPoolWorker-1596:\n",
      "Process ForkPoolWorker-1580:\n",
      "Process ForkPoolWorker-1597:\n",
      "Process ForkPoolWorker-1587:\n",
      "Process ForkPoolWorker-1582:\n",
      "Process ForkPoolWorker-1585:\n",
      "Process ForkPoolWorker-1595:\n",
      "Process ForkPoolWorker-1578:\n",
      "Process ForkPoolWorker-1590:\n",
      "Process ForkPoolWorker-1593:\n",
      "Process ForkPoolWorker-1581:\n",
      "Traceback (most recent call last):\n",
      "Process ForkPoolWorker-1584:\n",
      "Process ForkPoolWorker-1594:\n",
      "Process ForkPoolWorker-1570:\n",
      "Traceback (most recent call last):\n",
      "  File \"/usr/lib/python3.8/multiprocessing/process.py\", line 313, in _bootstrap\n",
      "    self.run()\n",
      "Process ForkPoolWorker-1571:\n",
      "  File \"/usr/lib/python3.8/multiprocessing/process.py\", line 108, in run\n",
      "    self._target(*self._args, **self._kwargs)\n",
      "  File \"/usr/lib/python3.8/multiprocessing/process.py\", line 313, in _bootstrap\n",
      "    self.run()\n",
      "  File \"/usr/lib/python3.8/multiprocessing/pool.py\", line 125, in worker\n",
      "    result = (True, func(*args, **kwds))\n",
      "  File \"/usr/lib/python3.8/multiprocessing/process.py\", line 108, in run\n",
      "    self._target(*self._args, **self._kwargs)\n",
      "  File \"../deepbayesHF/analyzers/probverification.py\", line 378, in compute_probability_subroutine\n",
      "    ps_weight.append(compute_interval_probs_weight_std((dimensionwise_intervals[i], margin, mean[i], np.asarray(var[i]))))\n",
      "Traceback (most recent call last):\n",
      "  File \"/usr/lib/python3.8/multiprocessing/pool.py\", line 125, in worker\n",
      "    result = (True, func(*args, **kwds))\n",
      "Traceback (most recent call last):\n",
      "  File \"../deepbayesHF/analyzers/probverification.py\", line 246, in compute_interval_probs_weight_std\n",
      "    p += compute_erf_prob(interval, means[i][j], var[i][j])\n",
      "Process ForkPoolWorker-1598:\n",
      "  File \"/usr/lib/python3.8/multiprocessing/process.py\", line 313, in _bootstrap\n",
      "    self.run()\n",
      "  File \"../deepbayesHF/analyzers/probverification.py\", line 378, in compute_probability_subroutine\n",
      "    ps_weight.append(compute_interval_probs_weight_std((dimensionwise_intervals[i], margin, mean[i], np.asarray(var[i]))))\n",
      "  File \"/usr/lib/python3.8/multiprocessing/process.py\", line 313, in _bootstrap\n",
      "    self.run()\n",
      "  File \"../deepbayesHF/analyzers/probverification.py\", line 186, in compute_erf_prob\n",
      "    val1 = erf((mean-interval[0])/(math.sqrt(2)*(var)))\n",
      "  File \"/usr/lib/python3.8/multiprocessing/process.py\", line 108, in run\n",
      "    self._target(*self._args, **self._kwargs)\n",
      "  File \"/home/matker/.local/lib/python3.8/site-packages/tensorflow/python/util/traceback_utils.py\", line 150, in error_handler\n",
      "    return fn(*args, **kwargs)\n",
      "  File \"../deepbayesHF/analyzers/probverification.py\", line 246, in compute_interval_probs_weight_std\n",
      "    p += compute_erf_prob(interval, means[i][j], var[i][j])\n",
      "  File \"/usr/lib/python3.8/multiprocessing/process.py\", line 108, in run\n",
      "    self._target(*self._args, **self._kwargs)\n",
      "  File \"/usr/lib/python3.8/multiprocessing/pool.py\", line 125, in worker\n",
      "    result = (True, func(*args, **kwds))\n",
      "  File \"/home/matker/.local/lib/python3.8/site-packages/tensorflow/python/ops/math_ops.py\", line 1383, in binary_op_wrapper\n",
      "    return func(x, y, name=name)\n",
      "  File \"/home/matker/.local/lib/python3.8/site-packages/tensorflow/python/util/traceback_utils.py\", line 150, in error_handler\n",
      "    return fn(*args, **kwargs)\n",
      "  File \"/usr/lib/python3.8/multiprocessing/pool.py\", line 125, in worker\n",
      "    result = (True, func(*args, **kwds))\n",
      "  File \"/home/matker/.local/lib/python3.8/site-packages/tensorflow/python/util/dispatch.py\", line 1096, in op_dispatch_handler\n",
      "    return dispatch_target(*args, **kwargs)\n",
      "  File \"../deepbayesHF/analyzers/probverification.py\", line 378, in compute_probability_subroutine\n",
      "    ps_weight.append(compute_interval_probs_weight_std((dimensionwise_intervals[i], margin, mean[i], np.asarray(var[i]))))\n",
      "Traceback (most recent call last):\n",
      "Traceback (most recent call last):\n",
      "  File \"/home/matker/.local/lib/python3.8/site-packages/tensorflow/python/util/traceback_utils.py\", line 150, in error_handler\n",
      "    return fn(*args, **kwargs)\n",
      "  File \"/home/matker/.local/lib/python3.8/site-packages/tensorflow/python/ops/array_ops.py\", line 1028, in _slice_helper\n",
      "    packed_begin, packed_end, packed_strides = (stack(begin), stack(end),\n",
      "  File \"../deepbayesHF/analyzers/probverification.py\", line 246, in compute_interval_probs_weight_std\n",
      "    p += compute_erf_prob(interval, means[i][j], var[i][j])\n",
      "  File \"../deepbayesHF/analyzers/probverification.py\", line 378, in compute_probability_subroutine\n",
      "    ps_weight.append(compute_interval_probs_weight_std((dimensionwise_intervals[i], margin, mean[i], np.asarray(var[i]))))\n",
      "  File \"/home/matker/.local/lib/python3.8/site-packages/tensorflow/python/util/dispatch.py\", line 1096, in op_dispatch_handler\n",
      "    return dispatch_target(*args, **kwargs)\n",
      "  File \"/usr/lib/python3.8/multiprocessing/process.py\", line 313, in _bootstrap\n",
      "    self.run()\n",
      "  File \"/home/matker/.local/lib/python3.8/site-packages/tensorflow/python/util/traceback_utils.py\", line 150, in error_handler\n",
      "    return fn(*args, **kwargs)\n",
      "Traceback (most recent call last):\n",
      "  File \"/usr/lib/python3.8/multiprocessing/process.py\", line 313, in _bootstrap\n",
      "    self.run()\n",
      "  File \"../deepbayesHF/analyzers/probverification.py\", line 246, in compute_interval_probs_weight_std\n",
      "    p += compute_erf_prob(interval, means[i][j], var[i][j])\n",
      "  File \"/home/matker/.local/lib/python3.8/site-packages/tensorflow/python/ops/math_ops.py\", line 553, in subtract\n",
      "    return gen_math_ops.sub(x, y, name)\n",
      "  File \"/usr/lib/python3.8/multiprocessing/process.py\", line 108, in run\n",
      "    self._target(*self._args, **self._kwargs)\n",
      "Traceback (most recent call last):\n",
      "  File \"/home/matker/.local/lib/python3.8/site-packages/tensorflow/python/util/traceback_utils.py\", line 150, in error_handler\n",
      "    return fn(*args, **kwargs)\n",
      "  File \"/usr/lib/python3.8/multiprocessing/process.py\", line 313, in _bootstrap\n",
      "    self.run()\n",
      "  File \"/home/matker/.local/lib/python3.8/site-packages/tensorflow/python/util/dispatch.py\", line 1096, in op_dispatch_handler\n",
      "    return dispatch_target(*args, **kwargs)\n",
      "  File \"/usr/lib/python3.8/multiprocessing/pool.py\", line 125, in worker\n",
      "    result = (True, func(*args, **kwds))\n",
      "  File \"/usr/lib/python3.8/multiprocessing/process.py\", line 108, in run\n",
      "    self._target(*self._args, **self._kwargs)\n",
      "  File \"/home/matker/.local/lib/python3.8/site-packages/tensorflow/python/util/traceback_utils.py\", line 150, in error_handler\n",
      "    return fn(*args, **kwargs)\n",
      "  File \"/home/matker/.local/lib/python3.8/site-packages/tensorflow/python/ops/gen_math_ops.py\", line 11126, in sub\n",
      "    _result = pywrap_tfe.TFE_Py_FastPathExecute(\n",
      "Traceback (most recent call last):\n",
      "  File \"/usr/lib/python3.8/multiprocessing/process.py\", line 313, in _bootstrap\n",
      "    self.run()\n",
      "Traceback (most recent call last):\n",
      "  File \"/home/matker/.local/lib/python3.8/site-packages/tensorflow/python/util/dispatch.py\", line 1096, in op_dispatch_handler\n",
      "    return dispatch_target(*args, **kwargs)\n",
      "  File \"/usr/lib/python3.8/multiprocessing/process.py\", line 108, in run\n",
      "    self._target(*self._args, **self._kwargs)\n",
      "Traceback (most recent call last):\n",
      "  File \"/home/matker/.local/lib/python3.8/site-packages/tensorflow/python/ops/array_ops.py\", line 1414, in stack\n",
      "    return ops.convert_to_tensor(values, name=name)\n",
      "Traceback (most recent call last):\n",
      "  File \"../deepbayesHF/analyzers/probverification.py\", line 378, in compute_probability_subroutine\n",
      "    ps_weight.append(compute_interval_probs_weight_std((dimensionwise_intervals[i], margin, mean[i], np.asarray(var[i]))))\n",
      "  File \"/home/matker/.local/lib/python3.8/site-packages/tensorflow/python/util/dispatch.py\", line 1096, in op_dispatch_handler\n",
      "    return dispatch_target(*args, **kwargs)\n",
      "  File \"/usr/lib/python3.8/multiprocessing/pool.py\", line 125, in worker\n",
      "    result = (True, func(*args, **kwds))\n",
      "KeyboardInterrupt\n",
      "  File \"/usr/lib/python3.8/multiprocessing/process.py\", line 108, in run\n",
      "    self._target(*self._args, **self._kwargs)\n",
      "  File \"/usr/lib/python3.8/multiprocessing/process.py\", line 313, in _bootstrap\n",
      "    self.run()\n",
      "  File \"/usr/lib/python3.8/multiprocessing/pool.py\", line 125, in worker\n",
      "    result = (True, func(*args, **kwds))\n",
      "  File \"/usr/lib/python3.8/multiprocessing/process.py\", line 313, in _bootstrap\n",
      "    self.run()\n",
      "  File \"/home/matker/.local/lib/python3.8/site-packages/tensorflow/python/profiler/trace.py\", line 163, in wrapped\n",
      "    return func(*args, **kwargs)\n"
     ]
    },
    {
     "name": "stderr",
     "output_type": "stream",
     "text": [
      "  File \"/usr/lib/python3.8/multiprocessing/process.py\", line 313, in _bootstrap\n",
      "    self.run()\n",
      "  File \"/home/matker/.local/lib/python3.8/site-packages/tensorflow/python/ops/array_ops.py\", line 1029, in _slice_helper\n",
      "    stack(strides))\n",
      "  File \"../deepbayesHF/analyzers/probverification.py\", line 246, in compute_interval_probs_weight_std\n",
      "    p += compute_erf_prob(interval, means[i][j], var[i][j])\n",
      "Traceback (most recent call last):\n",
      "  File \"/usr/lib/python3.8/multiprocessing/process.py\", line 313, in _bootstrap\n",
      "    self.run()\n",
      "  File \"../deepbayesHF/analyzers/probverification.py\", line 378, in compute_probability_subroutine\n",
      "    ps_weight.append(compute_interval_probs_weight_std((dimensionwise_intervals[i], margin, mean[i], np.asarray(var[i]))))\n",
      "  File \"/home/matker/.local/lib/python3.8/site-packages/tensorflow/python/ops/array_ops.py\", line 1029, in _slice_helper\n",
      "    stack(strides))\n",
      "  File \"/usr/lib/python3.8/multiprocessing/pool.py\", line 125, in worker\n",
      "    result = (True, func(*args, **kwds))\n",
      "  File \"../deepbayesHF/analyzers/probverification.py\", line 378, in compute_probability_subroutine\n",
      "    ps_weight.append(compute_interval_probs_weight_std((dimensionwise_intervals[i], margin, mean[i], np.asarray(var[i]))))\n",
      "  File \"/usr/lib/python3.8/multiprocessing/process.py\", line 108, in run\n",
      "    self._target(*self._args, **self._kwargs)\n",
      "  File \"/home/matker/.local/lib/python3.8/site-packages/tensorflow/python/util/traceback_utils.py\", line 150, in error_handler\n",
      "    return fn(*args, **kwargs)\n",
      "  File \"/usr/lib/python3.8/multiprocessing/process.py\", line 108, in run\n",
      "    self._target(*self._args, **self._kwargs)\n",
      "  File \"/home/matker/.local/lib/python3.8/site-packages/tensorflow/python/framework/ops.py\", line 1621, in convert_to_tensor\n",
      "    ret = conversion_func(value, dtype=dtype, name=name, as_ref=as_ref)\n",
      "  File \"/usr/lib/python3.8/multiprocessing/process.py\", line 108, in run\n",
      "    self._target(*self._args, **self._kwargs)\n",
      "  File \"/usr/lib/python3.8/multiprocessing/process.py\", line 108, in run\n",
      "    self._target(*self._args, **self._kwargs)\n",
      "  File \"../deepbayesHF/analyzers/probverification.py\", line 186, in compute_erf_prob\n",
      "    val1 = erf((mean-interval[0])/(math.sqrt(2)*(var)))\n",
      "  File \"/usr/lib/python3.8/multiprocessing/process.py\", line 313, in _bootstrap\n",
      "    self.run()\n",
      "  File \"../deepbayesHF/analyzers/probverification.py\", line 246, in compute_interval_probs_weight_std\n",
      "    p += compute_erf_prob(interval, means[i][j], var[i][j])\n",
      "  File \"/home/matker/.local/lib/python3.8/site-packages/tensorflow/python/util/traceback_utils.py\", line 150, in error_handler\n",
      "    return fn(*args, **kwargs)\n",
      "  File \"../deepbayesHF/analyzers/probverification.py\", line 378, in compute_probability_subroutine\n",
      "    ps_weight.append(compute_interval_probs_weight_std((dimensionwise_intervals[i], margin, mean[i], np.asarray(var[i]))))\n",
      "  File \"/usr/lib/python3.8/multiprocessing/pool.py\", line 125, in worker\n",
      "    result = (True, func(*args, **kwds))\n",
      "  File \"../deepbayesHF/analyzers/probverification.py\", line 246, in compute_interval_probs_weight_std\n",
      "    p += compute_erf_prob(interval, means[i][j], var[i][j])\n",
      "  File \"/home/matker/.local/lib/python3.8/site-packages/tensorflow/python/framework/constant_op.py\", line 347, in _constant_tensor_conversion_function\n",
      "    return constant(v, dtype=dtype, name=name)\n",
      "  File \"/usr/lib/python3.8/multiprocessing/pool.py\", line 125, in worker\n",
      "    result = (True, func(*args, **kwds))\n",
      "  File \"/home/matker/.local/lib/python3.8/site-packages/tensorflow/python/util/dispatch.py\", line 1096, in op_dispatch_handler\n",
      "    return dispatch_target(*args, **kwargs)\n",
      "  File \"/usr/lib/python3.8/multiprocessing/process.py\", line 108, in run\n",
      "    self._target(*self._args, **self._kwargs)\n",
      "  File \"/usr/lib/python3.8/multiprocessing/pool.py\", line 125, in worker\n",
      "    result = (True, func(*args, **kwds))\n",
      "  File \"/home/matker/.local/lib/python3.8/site-packages/tensorflow/python/util/traceback_utils.py\", line 150, in error_handler\n",
      "    return fn(*args, **kwargs)\n",
      "  File \"/home/matker/.local/lib/python3.8/site-packages/tensorflow/python/util/dispatch.py\", line 1096, in op_dispatch_handler\n",
      "    return dispatch_target(*args, **kwargs)\n",
      "  File \"/home/matker/.local/lib/python3.8/site-packages/tensorflow/python/util/traceback_utils.py\", line 150, in error_handler\n",
      "    return fn(*args, **kwargs)\n",
      "  File \"../deepbayesHF/analyzers/probverification.py\", line 246, in compute_interval_probs_weight_std\n",
      "    p += compute_erf_prob(interval, means[i][j], var[i][j])\n",
      "  File \"../deepbayesHF/analyzers/probverification.py\", line 378, in compute_probability_subroutine\n",
      "    ps_weight.append(compute_interval_probs_weight_std((dimensionwise_intervals[i], margin, mean[i], np.asarray(var[i]))))\n",
      "  File \"/home/matker/.local/lib/python3.8/site-packages/tensorflow/python/framework/constant_op.py\", line 271, in constant\n",
      "    return _constant_impl(value, dtype, shape, name, verify_shape=False,\n",
      "  File \"/home/matker/.local/lib/python3.8/site-packages/tensorflow/python/util/traceback_utils.py\", line 150, in error_handler\n",
      "    return fn(*args, **kwargs)\n",
      "  File \"../deepbayesHF/analyzers/probverification.py\", line 378, in compute_probability_subroutine\n",
      "    ps_weight.append(compute_interval_probs_weight_std((dimensionwise_intervals[i], margin, mean[i], np.asarray(var[i]))))\n",
      "  File \"/home/matker/.local/lib/python3.8/site-packages/tensorflow/python/ops/array_ops.py\", line 1414, in stack\n",
      "    return ops.convert_to_tensor(values, name=name)\n",
      "  File \"/usr/lib/python3.8/multiprocessing/pool.py\", line 125, in worker\n",
      "    result = (True, func(*args, **kwds))\n",
      "  File \"/home/matker/.local/lib/python3.8/site-packages/tensorflow/python/ops/math_ops.py\", line 1383, in binary_op_wrapper\n",
      "    return func(x, y, name=name)\n",
      "  File \"/home/matker/.local/lib/python3.8/site-packages/tensorflow/python/util/dispatch.py\", line 1096, in op_dispatch_handler\n",
      "    return dispatch_target(*args, **kwargs)\n",
      "  File \"/usr/lib/python3.8/multiprocessing/pool.py\", line 125, in worker\n",
      "    result = (True, func(*args, **kwds))\n",
      "  File \"/home/matker/.local/lib/python3.8/site-packages/tensorflow/python/util/traceback_utils.py\", line 150, in error_handler\n",
      "    return fn(*args, **kwargs)\n",
      "  File \"/home/matker/.local/lib/python3.8/site-packages/tensorflow/python/ops/array_ops.py\", line 1414, in stack\n",
      "    return ops.convert_to_tensor(values, name=name)\n",
      "  File \"../deepbayesHF/analyzers/probverification.py\", line 378, in compute_probability_subroutine\n",
      "    ps_weight.append(compute_interval_probs_weight_std((dimensionwise_intervals[i], margin, mean[i], np.asarray(var[i]))))\n",
      "  File \"/home/matker/.local/lib/python3.8/site-packages/tensorflow/python/framework/constant_op.py\", line 283, in _constant_impl\n",
      "    return _constant_eager_impl(ctx, value, dtype, shape, verify_shape)\n",
      "  File \"../deepbayesHF/analyzers/probverification.py\", line 246, in compute_interval_probs_weight_std\n",
      "    p += compute_erf_prob(interval, means[i][j], var[i][j])\n",
      "  File \"/home/matker/.local/lib/python3.8/site-packages/tensorflow/python/util/dispatch.py\", line 1096, in op_dispatch_handler\n",
      "    return dispatch_target(*args, **kwargs)\n",
      "  File \"../deepbayesHF/analyzers/probverification.py\", line 246, in compute_interval_probs_weight_std\n",
      "    p += compute_erf_prob(interval, means[i][j], var[i][j])\n",
      "  File \"../deepbayesHF/analyzers/probverification.py\", line 378, in compute_probability_subroutine\n",
      "    ps_weight.append(compute_interval_probs_weight_std((dimensionwise_intervals[i], margin, mean[i], np.asarray(var[i]))))\n",
      "  File \"../deepbayesHF/analyzers/probverification.py\", line 378, in compute_probability_subroutine\n",
      "    ps_weight.append(compute_interval_probs_weight_std((dimensionwise_intervals[i], margin, mean[i], np.asarray(var[i]))))\n",
      "  File \"/home/matker/.local/lib/python3.8/site-packages/tensorflow/python/util/dispatch.py\", line 1096, in op_dispatch_handler\n",
      "    return dispatch_target(*args, **kwargs)\n",
      "  File \"/home/matker/.local/lib/python3.8/site-packages/tensorflow/python/profiler/trace.py\", line 163, in wrapped\n",
      "    return func(*args, **kwargs)\n",
      "  File \"../deepbayesHF/analyzers/probverification.py\", line 246, in compute_interval_probs_weight_std\n",
      "    p += compute_erf_prob(interval, means[i][j], var[i][j])\n",
      "  File \"/home/matker/.local/lib/python3.8/site-packages/tensorflow/python/profiler/trace.py\", line 163, in wrapped\n",
      "    return func(*args, **kwargs)\n"
     ]
    },
    {
     "name": "stderr",
     "output_type": "stream",
     "text": [
      "  File \"/home/matker/.local/lib/python3.8/site-packages/tensorflow/python/util/traceback_utils.py\", line 150, in error_handler\n",
      "    return fn(*args, **kwargs)\n",
      "  File \"/home/matker/.local/lib/python3.8/site-packages/tensorflow/python/framework/constant_op.py\", line 308, in _constant_eager_impl\n",
      "    t = convert_to_eager_tensor(value, ctx, dtype)\n",
      "  File \"../deepbayesHF/analyzers/probverification.py\", line 187, in compute_erf_prob\n",
      "    val2 = erf((mean-interval[1])/(math.sqrt(2)*(var)))\n",
      "  File \"/home/matker/.local/lib/python3.8/site-packages/tensorflow/python/ops/array_ops.py\", line 1029, in _slice_helper\n",
      "    stack(strides))\n",
      "  File \"../deepbayesHF/analyzers/probverification.py\", line 246, in compute_interval_probs_weight_std\n",
      "    p += compute_erf_prob(interval, means[i][j], var[i][j])\n",
      "  File \"../deepbayesHF/analyzers/probverification.py\", line 246, in compute_interval_probs_weight_std\n",
      "    p += compute_erf_prob(interval, means[i][j], var[i][j])\n",
      "  File \"/home/matker/.local/lib/python3.8/site-packages/tensorflow/python/ops/array_ops.py\", line 1015, in _slice_helper\n",
      "    _check_index(s)\n",
      "  File \"/home/matker/.local/lib/python3.8/site-packages/tensorflow/python/util/traceback_utils.py\", line 150, in error_handler\n",
      "    return fn(*args, **kwargs)\n",
      "  File \"/home/matker/.local/lib/python3.8/site-packages/tensorflow/python/framework/ops.py\", line 1621, in convert_to_tensor\n",
      "    ret = conversion_func(value, dtype=dtype, name=name, as_ref=as_ref)\n",
      "  File \"/home/matker/.local/lib/python3.8/site-packages/tensorflow/python/ops/array_ops.py\", line 1029, in _slice_helper\n",
      "    stack(strides))\n",
      "  File \"../deepbayesHF/analyzers/probverification.py\", line 186, in compute_erf_prob\n",
      "    val1 = erf((mean-interval[0])/(math.sqrt(2)*(var)))\n",
      "  File \"/home/matker/.local/lib/python3.8/site-packages/tensorflow/python/util/traceback_utils.py\", line 150, in error_handler\n",
      "    return fn(*args, **kwargs)\n",
      "  File \"/home/matker/.local/lib/python3.8/site-packages/tensorflow/python/util/dispatch.py\", line 1096, in op_dispatch_handler\n",
      "    return dispatch_target(*args, **kwargs)\n",
      "  File \"/home/matker/.local/lib/python3.8/site-packages/tensorflow/python/framework/ops.py\", line 1621, in convert_to_tensor\n",
      "    ret = conversion_func(value, dtype=dtype, name=name, as_ref=as_ref)\n",
      "  File \"/home/matker/.local/lib/python3.8/site-packages/tensorflow/python/util/traceback_utils.py\", line 150, in error_handler\n",
      "    return fn(*args, **kwargs)\n",
      "  File \"/home/matker/.local/lib/python3.8/site-packages/tensorflow/python/util/traceback_utils.py\", line 150, in error_handler\n",
      "    return fn(*args, **kwargs)\n",
      "  File \"/home/matker/.local/lib/python3.8/site-packages/tensorflow/python/framework/constant_op.py\", line 106, in convert_to_eager_tensor\n",
      "    return ops.EagerTensor(value, ctx.device_name, dtype)\n",
      "  File \"/home/matker/.local/lib/python3.8/site-packages/tensorflow/python/util/traceback_utils.py\", line 150, in error_handler\n",
      "    return fn(*args, **kwargs)\n",
      "  File \"/home/matker/.local/lib/python3.8/site-packages/tensorflow/python/ops/array_ops.py\", line 878, in _check_index\n",
      "    if isinstance(idx, (numbers.Integral, tensor_shape.Dimension)):\n",
      "  File \"/home/matker/.local/lib/python3.8/site-packages/tensorflow/python/util/dispatch.py\", line 1096, in op_dispatch_handler\n",
      "    return dispatch_target(*args, **kwargs)\n",
      "  File \"/home/matker/.local/lib/python3.8/site-packages/tensorflow/python/framework/constant_op.py\", line 347, in _constant_tensor_conversion_function\n",
      "    return constant(v, dtype=dtype, name=name)\n",
      "  File \"/home/matker/.local/lib/python3.8/site-packages/tensorflow/python/util/traceback_utils.py\", line 150, in error_handler\n",
      "    return fn(*args, **kwargs)\n",
      "  File \"/home/matker/.local/lib/python3.8/site-packages/tensorflow/python/util/traceback_utils.py\", line 150, in error_handler\n",
      "    return fn(*args, **kwargs)\n",
      "  File \"/home/matker/.local/lib/python3.8/site-packages/tensorflow/python/util/dispatch.py\", line 1096, in op_dispatch_handler\n",
      "    return dispatch_target(*args, **kwargs)\n",
      "  File \"/home/matker/.local/lib/python3.8/site-packages/tensorflow/python/framework/constant_op.py\", line 347, in _constant_tensor_conversion_function\n",
      "    return constant(v, dtype=dtype, name=name)\n",
      "  File \"/home/matker/.local/lib/python3.8/site-packages/tensorflow/python/ops/math_ops.py\", line 553, in subtract\n",
      "    return gen_math_ops.sub(x, y, name)\n",
      "  File \"/home/matker/.local/lib/python3.8/site-packages/tensorflow/python/util/dispatch.py\", line 1096, in op_dispatch_handler\n",
      "    return dispatch_target(*args, **kwargs)\n",
      "KeyboardInterrupt\n",
      "  File \"/home/matker/.local/lib/python3.8/site-packages/tensorflow/python/util/dispatch.py\", line 1096, in op_dispatch_handler\n",
      "    return dispatch_target(*args, **kwargs)\n",
      "  File \"/usr/lib/python3.8/abc.py\", line 98, in __instancecheck__\n",
      "    return _abc_instancecheck(cls, instance)\n",
      "  File \"/home/matker/.local/lib/python3.8/site-packages/tensorflow/python/framework/constant_op.py\", line 271, in constant\n",
      "    return _constant_impl(value, dtype, shape, name, verify_shape=False,\n",
      "  File \"/home/matker/.local/lib/python3.8/site-packages/tensorflow/python/ops/array_ops.py\", line 1028, in _slice_helper\n",
      "    packed_begin, packed_end, packed_strides = (stack(begin), stack(end),\n",
      "  File \"/home/matker/.local/lib/python3.8/site-packages/tensorflow/python/util/dispatch.py\", line 1096, in op_dispatch_handler\n",
      "    return dispatch_target(*args, **kwargs)\n",
      "  File \"/home/matker/.local/lib/python3.8/site-packages/tensorflow/python/ops/math_ops.py\", line 1383, in binary_op_wrapper\n",
      "    return func(x, y, name=name)\n",
      "  File \"/home/matker/.local/lib/python3.8/site-packages/tensorflow/python/ops/array_ops.py\", line 1414, in stack\n",
      "    return ops.convert_to_tensor(values, name=name)\n",
      "  File \"/home/matker/.local/lib/python3.8/site-packages/tensorflow/python/ops/gen_math_ops.py\", line 11126, in sub\n",
      "    _result = pywrap_tfe.TFE_Py_FastPathExecute(\n",
      "  File \"/home/matker/.local/lib/python3.8/site-packages/tensorflow/python/framework/constant_op.py\", line 271, in constant\n",
      "    return _constant_impl(value, dtype, shape, name, verify_shape=False,\n",
      "  File \"/home/matker/.local/lib/python3.8/site-packages/tensorflow/python/ops/array_ops.py\", line 1029, in _slice_helper\n",
      "    stack(strides))\n",
      "  File \"/usr/lib/python3.8/abc.py\", line 100, in __subclasscheck__\n",
      "    def __subclasscheck__(cls, subclass):\n",
      "  File \"/home/matker/.local/lib/python3.8/site-packages/tensorflow/python/util/traceback_utils.py\", line 150, in error_handler\n",
      "    return fn(*args, **kwargs)\n",
      "  File \"/home/matker/.local/lib/python3.8/site-packages/tensorflow/python/framework/constant_op.py\", line 283, in _constant_impl\n",
      "    return _constant_eager_impl(ctx, value, dtype, shape, verify_shape)\n",
      "  File \"/home/matker/.local/lib/python3.8/site-packages/tensorflow/python/ops/array_ops.py\", line 1414, in stack\n",
      "    return ops.convert_to_tensor(values, name=name)\n",
      "KeyboardInterrupt\n",
      "  File \"/home/matker/.local/lib/python3.8/site-packages/tensorflow/python/framework/constant_op.py\", line 283, in _constant_impl\n",
      "    return _constant_eager_impl(ctx, value, dtype, shape, verify_shape)\n",
      "  File \"/home/matker/.local/lib/python3.8/site-packages/tensorflow/python/util/traceback_utils.py\", line 150, in error_handler\n",
      "    return fn(*args, **kwargs)\n",
      "  File \"/home/matker/.local/lib/python3.8/site-packages/tensorflow/python/util/traceback_utils.py\", line 150, in error_handler\n",
      "    return fn(*args, **kwargs)\n",
      "  File \"/home/matker/.local/lib/python3.8/site-packages/tensorflow/python/util/dispatch.py\", line 1096, in op_dispatch_handler\n",
      "    return dispatch_target(*args, **kwargs)\n",
      "  File \"/home/matker/.local/lib/python3.8/site-packages/tensorflow/python/profiler/trace.py\", line 163, in wrapped\n",
      "    return func(*args, **kwargs)\n",
      "  File \"/home/matker/.local/lib/python3.8/site-packages/tensorflow/python/util/dispatch.py\", line 1096, in op_dispatch_handler\n",
      "    return dispatch_target(*args, **kwargs)\n",
      "  File \"/home/matker/.local/lib/python3.8/site-packages/tensorflow/python/framework/constant_op.py\", line 308, in _constant_eager_impl\n",
      "    t = convert_to_eager_tensor(value, ctx, dtype)\n",
      "KeyboardInterrupt\n",
      "  File \"/home/matker/.local/lib/python3.8/site-packages/tensorflow/python/framework/constant_op.py\", line 308, in _constant_eager_impl\n",
      "    t = convert_to_eager_tensor(value, ctx, dtype)\n"
     ]
    },
    {
     "name": "stderr",
     "output_type": "stream",
     "text": [
      "  File \"/home/matker/.local/lib/python3.8/site-packages/tensorflow/python/ops/array_ops.py\", line 1414, in stack\n",
      "    return ops.convert_to_tensor(values, name=name)\n",
      "  File \"/home/matker/.local/lib/python3.8/site-packages/tensorflow/python/ops/math_ops.py\", line 1566, in truediv\n",
      "    return _truediv_python3(x, y, name)\n",
      "  File \"/home/matker/.local/lib/python3.8/site-packages/tensorflow/python/ops/math_ops.py\", line 1377, in binary_op_wrapper\n",
      "    with ops.name_scope(None, op_name, [x, y]) as name:\n",
      "  File \"/home/matker/.local/lib/python3.8/site-packages/tensorflow/python/ops/math_ops.py\", line 1487, in _truediv_python3\n",
      "    with ops.name_scope(name, \"truediv\", [x, y]) as name:\n",
      "  File \"/home/matker/.local/lib/python3.8/site-packages/tensorflow/python/framework/ops.py\", line 1621, in convert_to_tensor\n",
      "    ret = conversion_func(value, dtype=dtype, name=name, as_ref=as_ref)\n",
      "  File \"/home/matker/.local/lib/python3.8/site-packages/tensorflow/python/profiler/trace.py\", line 163, in wrapped\n",
      "    return func(*args, **kwargs)\n",
      "  File \"/home/matker/.local/lib/python3.8/site-packages/tensorflow/python/util/dispatch.py\", line 1096, in op_dispatch_handler\n",
      "    return dispatch_target(*args, **kwargs)\n",
      "  File \"/home/matker/.local/lib/python3.8/site-packages/tensorflow/python/framework/constant_op.py\", line 347, in _constant_tensor_conversion_function\n",
      "    return constant(v, dtype=dtype, name=name)\n",
      "  File \"/home/matker/.local/lib/python3.8/site-packages/tensorflow/python/framework/constant_op.py\", line 106, in convert_to_eager_tensor\n",
      "    return ops.EagerTensor(value, ctx.device_name, dtype)\n",
      "  File \"/home/matker/.local/lib/python3.8/site-packages/tensorflow/python/framework/constant_op.py\", line 106, in convert_to_eager_tensor\n",
      "    return ops.EagerTensor(value, ctx.device_name, dtype)\n",
      "  File \"/home/matker/.local/lib/python3.8/site-packages/tensorflow/python/framework/ops.py\", line 6638, in name_scope\n",
      "    if not context.executing_eagerly():\n",
      "  File \"/home/matker/.local/lib/python3.8/site-packages/tensorflow/python/framework/constant_op.py\", line 271, in constant\n",
      "    return _constant_impl(value, dtype, shape, name, verify_shape=False,\n",
      "  File \"/home/matker/.local/lib/python3.8/site-packages/tensorflow/python/ops/array_ops.py\", line 1414, in stack\n",
      "    return ops.convert_to_tensor(values, name=name)\n",
      "  File \"/home/matker/.local/lib/python3.8/site-packages/tensorflow/python/framework/ops.py\", line 6638, in name_scope\n",
      "    if not context.executing_eagerly():\n",
      "KeyboardInterrupt\n",
      "  File \"/home/matker/.local/lib/python3.8/site-packages/tensorflow/python/ops/array_ops.py\", line 1028, in _slice_helper\n",
      "    packed_begin, packed_end, packed_strides = (stack(begin), stack(end),\n",
      "KeyboardInterrupt\n",
      "  File \"/home/matker/.local/lib/python3.8/site-packages/tensorflow/python/framework/ops.py\", line 1621, in convert_to_tensor\n",
      "    ret = conversion_func(value, dtype=dtype, name=name, as_ref=as_ref)\n",
      "  File \"/home/matker/.local/lib/python3.8/site-packages/tensorflow/python/eager/context.py\", line 2084, in executing_eagerly\n",
      "    return ctx.executing_eagerly()\n",
      "  File \"/home/matker/.local/lib/python3.8/site-packages/tensorflow/python/framework/constant_op.py\", line 283, in _constant_impl\n",
      "    return _constant_eager_impl(ctx, value, dtype, shape, verify_shape)\n",
      "  File \"/home/matker/.local/lib/python3.8/site-packages/tensorflow/python/eager/context.py\", line 2084, in executing_eagerly\n",
      "    return ctx.executing_eagerly()\n",
      "  File \"/home/matker/.local/lib/python3.8/site-packages/tensorflow/python/profiler/trace.py\", line 163, in wrapped\n",
      "    return func(*args, **kwargs)\n",
      "  File \"/home/matker/.local/lib/python3.8/site-packages/tensorflow/python/util/traceback_utils.py\", line 150, in error_handler\n",
      "    return fn(*args, **kwargs)\n",
      "  File \"/home/matker/.local/lib/python3.8/site-packages/tensorflow/python/profiler/trace.py\", line 163, in wrapped\n",
      "    return func(*args, **kwargs)\n",
      "  File \"/home/matker/.local/lib/python3.8/site-packages/tensorflow/python/framework/constant_op.py\", line 347, in _constant_tensor_conversion_function\n",
      "    return constant(v, dtype=dtype, name=name)\n",
      "  File \"/home/matker/.local/lib/python3.8/site-packages/tensorflow/python/eager/context.py\", line 905, in executing_eagerly\n",
      "    return self._thread_local_data.is_eager\n",
      "  File \"/home/matker/.local/lib/python3.8/site-packages/tensorflow/python/eager/context.py\", line 905, in executing_eagerly\n",
      "    return self._thread_local_data.is_eager\n",
      "  File \"/home/matker/.local/lib/python3.8/site-packages/tensorflow/python/framework/constant_op.py\", line 308, in _constant_eager_impl\n",
      "    t = convert_to_eager_tensor(value, ctx, dtype)\n",
      "  File \"/home/matker/.local/lib/python3.8/site-packages/tensorflow/python/framework/ops.py\", line 1621, in convert_to_tensor\n",
      "    ret = conversion_func(value, dtype=dtype, name=name, as_ref=as_ref)\n",
      "  File \"/home/matker/.local/lib/python3.8/site-packages/tensorflow/python/framework/constant_op.py\", line 271, in constant\n",
      "    return _constant_impl(value, dtype, shape, name, verify_shape=False,\n",
      "KeyboardInterrupt\n",
      "  File \"/home/matker/.local/lib/python3.8/site-packages/tensorflow/python/framework/ops.py\", line 1621, in convert_to_tensor\n",
      "    ret = conversion_func(value, dtype=dtype, name=name, as_ref=as_ref)\n",
      "KeyboardInterrupt\n",
      "  File \"/home/matker/.local/lib/python3.8/site-packages/tensorflow/python/framework/constant_op.py\", line 106, in convert_to_eager_tensor\n",
      "    return ops.EagerTensor(value, ctx.device_name, dtype)\n",
      "  File \"/home/matker/.local/lib/python3.8/site-packages/tensorflow/python/util/dispatch.py\", line 1096, in op_dispatch_handler\n",
      "    return dispatch_target(*args, **kwargs)\n",
      "  File \"/home/matker/.local/lib/python3.8/site-packages/tensorflow/python/framework/constant_op.py\", line 283, in _constant_impl\n",
      "    return _constant_eager_impl(ctx, value, dtype, shape, verify_shape)\n",
      "  File \"/home/matker/.local/lib/python3.8/site-packages/tensorflow/python/framework/constant_op.py\", line 347, in _constant_tensor_conversion_function\n",
      "    return constant(v, dtype=dtype, name=name)\n",
      "KeyboardInterrupt\n",
      "  File \"/home/matker/.local/lib/python3.8/site-packages/tensorflow/python/framework/constant_op.py\", line 347, in _constant_tensor_conversion_function\n",
      "    return constant(v, dtype=dtype, name=name)\n",
      "  File \"/home/matker/.local/lib/python3.8/site-packages/tensorflow/python/ops/array_ops.py\", line 1414, in stack\n",
      "    return ops.convert_to_tensor(values, name=name)\n",
      "  File \"/home/matker/.local/lib/python3.8/site-packages/tensorflow/python/framework/constant_op.py\", line 308, in _constant_eager_impl\n",
      "    t = convert_to_eager_tensor(value, ctx, dtype)\n",
      "  File \"/home/matker/.local/lib/python3.8/site-packages/tensorflow/python/framework/constant_op.py\", line 271, in constant\n",
      "    return _constant_impl(value, dtype, shape, name, verify_shape=False,\n",
      "  File \"/home/matker/.local/lib/python3.8/site-packages/tensorflow/python/framework/constant_op.py\", line 271, in constant\n",
      "    return _constant_impl(value, dtype, shape, name, verify_shape=False,\n",
      "  File \"/home/matker/.local/lib/python3.8/site-packages/tensorflow/python/profiler/trace.py\", line 163, in wrapped\n",
      "    return func(*args, **kwargs)\n",
      "KeyboardInterrupt\n",
      "  File \"/home/matker/.local/lib/python3.8/site-packages/tensorflow/python/framework/constant_op.py\", line 283, in _constant_impl\n",
      "    return _constant_eager_impl(ctx, value, dtype, shape, verify_shape)\n",
      "  File \"/home/matker/.local/lib/python3.8/site-packages/tensorflow/python/framework/constant_op.py\", line 283, in _constant_impl\n",
      "    return _constant_eager_impl(ctx, value, dtype, shape, verify_shape)\n",
      "  File \"/home/matker/.local/lib/python3.8/site-packages/tensorflow/python/framework/ops.py\", line 1621, in convert_to_tensor\n",
      "    ret = conversion_func(value, dtype=dtype, name=name, as_ref=as_ref)\n",
      "  File \"/home/matker/.local/lib/python3.8/site-packages/tensorflow/python/framework/constant_op.py\", line 308, in _constant_eager_impl\n",
      "    t = convert_to_eager_tensor(value, ctx, dtype)\n",
      "  File \"/home/matker/.local/lib/python3.8/site-packages/tensorflow/python/framework/constant_op.py\", line 308, in _constant_eager_impl\n",
      "    t = convert_to_eager_tensor(value, ctx, dtype)\n",
      "  File \"/home/matker/.local/lib/python3.8/site-packages/tensorflow/python/framework/constant_op.py\", line 347, in _constant_tensor_conversion_function\n",
      "    return constant(v, dtype=dtype, name=name)\n"
     ]
    },
    {
     "name": "stderr",
     "output_type": "stream",
     "text": [
      "  File \"/home/matker/.local/lib/python3.8/site-packages/tensorflow/python/framework/constant_op.py\", line 106, in convert_to_eager_tensor\n",
      "    return ops.EagerTensor(value, ctx.device_name, dtype)\n",
      "  File \"/home/matker/.local/lib/python3.8/site-packages/tensorflow/python/framework/constant_op.py\", line 271, in constant\n",
      "    return _constant_impl(value, dtype, shape, name, verify_shape=False,\n",
      "  File \"/home/matker/.local/lib/python3.8/site-packages/tensorflow/python/framework/constant_op.py\", line 106, in convert_to_eager_tensor\n",
      "    return ops.EagerTensor(value, ctx.device_name, dtype)\n",
      "KeyboardInterrupt\n",
      "  File \"/home/matker/.local/lib/python3.8/site-packages/tensorflow/python/framework/constant_op.py\", line 283, in _constant_impl\n",
      "    return _constant_eager_impl(ctx, value, dtype, shape, verify_shape)\n",
      "KeyboardInterrupt\n",
      "  File \"/home/matker/.local/lib/python3.8/site-packages/tensorflow/python/framework/constant_op.py\", line 308, in _constant_eager_impl\n",
      "    t = convert_to_eager_tensor(value, ctx, dtype)\n",
      "  File \"/home/matker/.local/lib/python3.8/site-packages/tensorflow/python/framework/constant_op.py\", line 106, in convert_to_eager_tensor\n",
      "    return ops.EagerTensor(value, ctx.device_name, dtype)\n",
      "KeyboardInterrupt\n",
      "Traceback (most recent call last):\n",
      "Traceback (most recent call last):\n",
      "Traceback (most recent call last):\n",
      "  File \"/usr/lib/python3.8/multiprocessing/process.py\", line 313, in _bootstrap\n",
      "    self.run()\n",
      "Traceback (most recent call last):\n",
      "Traceback (most recent call last):\n",
      "Traceback (most recent call last):\n",
      "Traceback (most recent call last):\n",
      "Traceback (most recent call last):\n",
      "Traceback (most recent call last):\n",
      "Traceback (most recent call last):\n",
      "  File \"/usr/lib/python3.8/multiprocessing/process.py\", line 108, in run\n",
      "    self._target(*self._args, **self._kwargs)\n",
      "Traceback (most recent call last):\n",
      "Traceback (most recent call last):\n",
      "  File \"/usr/lib/python3.8/multiprocessing/process.py\", line 313, in _bootstrap\n",
      "    self.run()\n",
      "  File \"/usr/lib/python3.8/multiprocessing/process.py\", line 313, in _bootstrap\n",
      "    self.run()\n",
      "  File \"/usr/lib/python3.8/multiprocessing/process.py\", line 313, in _bootstrap\n",
      "    self.run()\n",
      "  File \"/usr/lib/python3.8/multiprocessing/process.py\", line 313, in _bootstrap\n",
      "    self.run()\n",
      "  File \"/usr/lib/python3.8/multiprocessing/process.py\", line 313, in _bootstrap\n",
      "    self.run()\n",
      "  File \"/usr/lib/python3.8/multiprocessing/process.py\", line 313, in _bootstrap\n",
      "    self.run()\n",
      "  File \"/usr/lib/python3.8/multiprocessing/process.py\", line 313, in _bootstrap\n",
      "    self.run()\n",
      "  File \"/usr/lib/python3.8/multiprocessing/process.py\", line 313, in _bootstrap\n",
      "    self.run()\n",
      "  File \"/usr/lib/python3.8/multiprocessing/pool.py\", line 125, in worker\n",
      "    result = (True, func(*args, **kwds))\n",
      "  File \"/usr/lib/python3.8/multiprocessing/process.py\", line 313, in _bootstrap\n",
      "    self.run()\n",
      "  File \"/usr/lib/python3.8/multiprocessing/process.py\", line 313, in _bootstrap\n",
      "    self.run()\n",
      "  File \"/usr/lib/python3.8/multiprocessing/process.py\", line 108, in run\n",
      "    self._target(*self._args, **self._kwargs)\n",
      "Traceback (most recent call last):\n",
      "  File \"/usr/lib/python3.8/multiprocessing/process.py\", line 313, in _bootstrap\n",
      "    self.run()\n",
      "  File \"/usr/lib/python3.8/multiprocessing/process.py\", line 108, in run\n",
      "    self._target(*self._args, **self._kwargs)\n",
      "  File \"/usr/lib/python3.8/multiprocessing/process.py\", line 108, in run\n",
      "    self._target(*self._args, **self._kwargs)\n",
      "  File \"/usr/lib/python3.8/multiprocessing/process.py\", line 108, in run\n",
      "    self._target(*self._args, **self._kwargs)\n",
      "Traceback (most recent call last):\n",
      "  File \"/usr/lib/python3.8/multiprocessing/process.py\", line 108, in run\n",
      "    self._target(*self._args, **self._kwargs)\n",
      "  File \"/usr/lib/python3.8/multiprocessing/process.py\", line 108, in run\n",
      "    self._target(*self._args, **self._kwargs)\n",
      "  File \"../deepbayesHF/analyzers/probverification.py\", line 378, in compute_probability_subroutine\n",
      "    ps_weight.append(compute_interval_probs_weight_std((dimensionwise_intervals[i], margin, mean[i], np.asarray(var[i]))))\n",
      "  File \"/usr/lib/python3.8/multiprocessing/process.py\", line 108, in run\n",
      "    self._target(*self._args, **self._kwargs)\n",
      "  File \"/usr/lib/python3.8/multiprocessing/process.py\", line 108, in run\n",
      "    self._target(*self._args, **self._kwargs)\n",
      "  File \"/usr/lib/python3.8/multiprocessing/pool.py\", line 125, in worker\n",
      "    result = (True, func(*args, **kwds))\n",
      "  File \"/usr/lib/python3.8/multiprocessing/process.py\", line 313, in _bootstrap\n",
      "    self.run()\n",
      "  File \"/usr/lib/python3.8/multiprocessing/process.py\", line 108, in run\n",
      "    self._target(*self._args, **self._kwargs)\n",
      "  File \"/usr/lib/python3.8/multiprocessing/process.py\", line 108, in run\n",
      "    self._target(*self._args, **self._kwargs)\n",
      "  File \"/usr/lib/python3.8/multiprocessing/pool.py\", line 125, in worker\n",
      "    result = (True, func(*args, **kwds))\n",
      "  File \"/usr/lib/python3.8/multiprocessing/process.py\", line 108, in run\n",
      "    self._target(*self._args, **self._kwargs)\n",
      "  File \"/usr/lib/python3.8/multiprocessing/pool.py\", line 125, in worker\n",
      "    result = (True, func(*args, **kwds))\n",
      "  File \"/usr/lib/python3.8/multiprocessing/process.py\", line 313, in _bootstrap\n",
      "    self.run()\n",
      "  File \"/usr/lib/python3.8/multiprocessing/pool.py\", line 125, in worker\n",
      "    result = (True, func(*args, **kwds))\n",
      "  File \"/usr/lib/python3.8/multiprocessing/pool.py\", line 125, in worker\n",
      "    result = (True, func(*args, **kwds))\n",
      "  File \"/usr/lib/python3.8/multiprocessing/pool.py\", line 125, in worker\n",
      "    result = (True, func(*args, **kwds))\n",
      "  File \"/usr/lib/python3.8/multiprocessing/pool.py\", line 125, in worker\n",
      "    result = (True, func(*args, **kwds))\n",
      "  File \"/usr/lib/python3.8/multiprocessing/pool.py\", line 125, in worker\n",
      "    result = (True, func(*args, **kwds))\n",
      "  File \"/usr/lib/python3.8/multiprocessing/process.py\", line 108, in run\n",
      "    self._target(*self._args, **self._kwargs)\n",
      "  File \"/usr/lib/python3.8/multiprocessing/pool.py\", line 125, in worker\n",
      "    result = (True, func(*args, **kwds))\n",
      "  File \"../deepbayesHF/analyzers/probverification.py\", line 378, in compute_probability_subroutine\n",
      "    ps_weight.append(compute_interval_probs_weight_std((dimensionwise_intervals[i], margin, mean[i], np.asarray(var[i]))))\n",
      "  File \"../deepbayesHF/analyzers/probverification.py\", line 246, in compute_interval_probs_weight_std\n",
      "    p += compute_erf_prob(interval, means[i][j], var[i][j])\n",
      "  File \"../deepbayesHF/analyzers/probverification.py\", line 378, in compute_probability_subroutine\n",
      "    ps_weight.append(compute_interval_probs_weight_std((dimensionwise_intervals[i], margin, mean[i], np.asarray(var[i]))))\n",
      "  File \"/usr/lib/python3.8/multiprocessing/process.py\", line 108, in run\n",
      "    self._target(*self._args, **self._kwargs)\n",
      "  File \"../deepbayesHF/analyzers/probverification.py\", line 378, in compute_probability_subroutine\n",
      "    ps_weight.append(compute_interval_probs_weight_std((dimensionwise_intervals[i], margin, mean[i], np.asarray(var[i]))))\n",
      "  File \"../deepbayesHF/analyzers/probverification.py\", line 378, in compute_probability_subroutine\n",
      "    ps_weight.append(compute_interval_probs_weight_std((dimensionwise_intervals[i], margin, mean[i], np.asarray(var[i]))))\n",
      "  File \"/usr/lib/python3.8/multiprocessing/pool.py\", line 125, in worker\n",
      "    result = (True, func(*args, **kwds))\n",
      "  File \"../deepbayesHF/analyzers/probverification.py\", line 378, in compute_probability_subroutine\n",
      "    ps_weight.append(compute_interval_probs_weight_std((dimensionwise_intervals[i], margin, mean[i], np.asarray(var[i]))))\n",
      "  File \"../deepbayesHF/analyzers/probverification.py\", line 187, in compute_erf_prob\n",
      "    val2 = erf((mean-interval[1])/(math.sqrt(2)*(var)))\n",
      "  File \"../deepbayesHF/analyzers/probverification.py\", line 378, in compute_probability_subroutine\n",
      "    ps_weight.append(compute_interval_probs_weight_std((dimensionwise_intervals[i], margin, mean[i], np.asarray(var[i]))))\n",
      "  File \"/usr/lib/python3.8/multiprocessing/pool.py\", line 125, in worker\n",
      "    result = (True, func(*args, **kwds))\n",
      "  File \"../deepbayesHF/analyzers/probverification.py\", line 378, in compute_probability_subroutine\n",
      "    ps_weight.append(compute_interval_probs_weight_std((dimensionwise_intervals[i], margin, mean[i], np.asarray(var[i]))))\n",
      "  File \"/usr/lib/python3.8/multiprocessing/pool.py\", line 125, in worker\n",
      "    result = (True, func(*args, **kwds))\n"
     ]
    },
    {
     "name": "stderr",
     "output_type": "stream",
     "text": [
      "  File \"../deepbayesHF/analyzers/probverification.py\", line 378, in compute_probability_subroutine\n",
      "    ps_weight.append(compute_interval_probs_weight_std((dimensionwise_intervals[i], margin, mean[i], np.asarray(var[i]))))\n",
      "  File \"../deepbayesHF/analyzers/probverification.py\", line 246, in compute_interval_probs_weight_std\n",
      "    p += compute_erf_prob(interval, means[i][j], var[i][j])\n",
      "  File \"../deepbayesHF/analyzers/probverification.py\", line 378, in compute_probability_subroutine\n",
      "    ps_weight.append(compute_interval_probs_weight_std((dimensionwise_intervals[i], margin, mean[i], np.asarray(var[i]))))\n",
      "  File \"../deepbayesHF/analyzers/probverification.py\", line 246, in compute_interval_probs_weight_std\n",
      "    p += compute_erf_prob(interval, means[i][j], var[i][j])\n",
      "  File \"/usr/lib/python3.8/multiprocessing/pool.py\", line 125, in worker\n",
      "    result = (True, func(*args, **kwds))\n",
      "  File \"../deepbayesHF/analyzers/probverification.py\", line 246, in compute_interval_probs_weight_std\n",
      "    p += compute_erf_prob(interval, means[i][j], var[i][j])\n",
      "  File \"../deepbayesHF/analyzers/probverification.py\", line 246, in compute_interval_probs_weight_std\n",
      "    p += compute_erf_prob(interval, means[i][j], var[i][j])\n",
      "  File \"../deepbayesHF/analyzers/probverification.py\", line 378, in compute_probability_subroutine\n",
      "    ps_weight.append(compute_interval_probs_weight_std((dimensionwise_intervals[i], margin, mean[i], np.asarray(var[i]))))\n",
      "  File \"../deepbayesHF/analyzers/probverification.py\", line 246, in compute_interval_probs_weight_std\n",
      "    p += compute_erf_prob(interval, means[i][j], var[i][j])\n",
      "  File \"/home/matker/.local/lib/python3.8/site-packages/tensorflow/python/util/traceback_utils.py\", line 150, in error_handler\n",
      "    return fn(*args, **kwargs)\n",
      "  File \"../deepbayesHF/analyzers/probverification.py\", line 246, in compute_interval_probs_weight_std\n",
      "    p += compute_erf_prob(interval, means[i][j], var[i][j])\n",
      "  File \"../deepbayesHF/analyzers/probverification.py\", line 378, in compute_probability_subroutine\n",
      "    ps_weight.append(compute_interval_probs_weight_std((dimensionwise_intervals[i], margin, mean[i], np.asarray(var[i]))))\n",
      "  File \"../deepbayesHF/analyzers/probverification.py\", line 246, in compute_interval_probs_weight_std\n",
      "    p += compute_erf_prob(interval, means[i][j], var[i][j])\n",
      "  File \"../deepbayesHF/analyzers/probverification.py\", line 246, in compute_interval_probs_weight_std\n",
      "    p += compute_erf_prob(interval, means[i][j], var[i][j])\n",
      "  File \"../deepbayesHF/analyzers/probverification.py\", line 378, in compute_probability_subroutine\n",
      "    ps_weight.append(compute_interval_probs_weight_std((dimensionwise_intervals[i], margin, mean[i], np.asarray(var[i]))))\n",
      "  File \"../deepbayesHF/analyzers/probverification.py\", line 246, in compute_interval_probs_weight_std\n",
      "    p += compute_erf_prob(interval, means[i][j], var[i][j])\n",
      "  File \"../deepbayesHF/analyzers/probverification.py\", line 187, in compute_erf_prob\n",
      "    val2 = erf((mean-interval[1])/(math.sqrt(2)*(var)))\n",
      "  File \"../deepbayesHF/analyzers/probverification.py\", line 378, in compute_probability_subroutine\n",
      "    ps_weight.append(compute_interval_probs_weight_std((dimensionwise_intervals[i], margin, mean[i], np.asarray(var[i]))))\n",
      "  File \"../deepbayesHF/analyzers/probverification.py\", line 246, in compute_interval_probs_weight_std\n",
      "    p += compute_erf_prob(interval, means[i][j], var[i][j])\n",
      "  File \"../deepbayesHF/analyzers/probverification.py\", line 187, in compute_erf_prob\n",
      "    val2 = erf((mean-interval[1])/(math.sqrt(2)*(var)))\n",
      "  File \"../deepbayesHF/analyzers/probverification.py\", line 187, in compute_erf_prob\n",
      "    val2 = erf((mean-interval[1])/(math.sqrt(2)*(var)))\n",
      "  File \"/home/matker/.local/lib/python3.8/site-packages/tensorflow/python/util/traceback_utils.py\", line 150, in error_handler\n",
      "    return fn(*args, **kwargs)\n",
      "  File \"/home/matker/.local/lib/python3.8/site-packages/tensorflow/python/util/traceback_utils.py\", line 150, in error_handler\n",
      "    return fn(*args, **kwargs)\n",
      "  File \"/home/matker/.local/lib/python3.8/site-packages/tensorflow/python/ops/math_ops.py\", line 1383, in binary_op_wrapper\n",
      "    return func(x, y, name=name)\n",
      "  File \"../deepbayesHF/analyzers/probverification.py\", line 246, in compute_interval_probs_weight_std\n",
      "    p += compute_erf_prob(interval, means[i][j], var[i][j])\n",
      "  File \"../deepbayesHF/analyzers/probverification.py\", line 187, in compute_erf_prob\n",
      "    val2 = erf((mean-interval[1])/(math.sqrt(2)*(var)))\n",
      "  File \"../deepbayesHF/analyzers/probverification.py\", line 187, in compute_erf_prob\n",
      "    val2 = erf((mean-interval[1])/(math.sqrt(2)*(var)))\n",
      "  File \"/home/matker/.local/lib/python3.8/site-packages/tensorflow/python/util/traceback_utils.py\", line 150, in error_handler\n",
      "    return fn(*args, **kwargs)\n",
      "  File \"../deepbayesHF/analyzers/probverification.py\", line 246, in compute_interval_probs_weight_std\n",
      "    p += compute_erf_prob(interval, means[i][j], var[i][j])\n",
      "  File \"../deepbayesHF/analyzers/probverification.py\", line 246, in compute_interval_probs_weight_std\n",
      "    p += compute_erf_prob(interval, means[i][j], var[i][j])\n",
      "  File \"/home/matker/.local/lib/python3.8/site-packages/tensorflow/python/util/traceback_utils.py\", line 150, in error_handler\n",
      "    return fn(*args, **kwargs)\n",
      "  File \"/home/matker/.local/lib/python3.8/site-packages/tensorflow/python/util/traceback_utils.py\", line 150, in error_handler\n",
      "    return fn(*args, **kwargs)\n",
      "  File \"../deepbayesHF/analyzers/probverification.py\", line 187, in compute_erf_prob\n",
      "    val2 = erf((mean-interval[1])/(math.sqrt(2)*(var)))\n",
      "  File \"/home/matker/.local/lib/python3.8/site-packages/tensorflow/python/util/traceback_utils.py\", line 150, in error_handler\n",
      "    return fn(*args, **kwargs)\n",
      "  File \"/home/matker/.local/lib/python3.8/site-packages/tensorflow/python/util/dispatch.py\", line 1096, in op_dispatch_handler\n",
      "    return dispatch_target(*args, **kwargs)\n",
      "  File \"/home/matker/.local/lib/python3.8/site-packages/tensorflow/python/util/dispatch.py\", line 1096, in op_dispatch_handler\n",
      "    return dispatch_target(*args, **kwargs)\n",
      "  File \"/home/matker/.local/lib/python3.8/site-packages/tensorflow/python/util/traceback_utils.py\", line 150, in error_handler\n",
      "    return fn(*args, **kwargs)\n",
      "  File \"../deepbayesHF/analyzers/probverification.py\", line 186, in compute_erf_prob\n",
      "    val1 = erf((mean-interval[0])/(math.sqrt(2)*(var)))\n",
      "  File \"/home/matker/.local/lib/python3.8/site-packages/tensorflow/python/util/traceback_utils.py\", line 150, in error_handler\n",
      "    return fn(*args, **kwargs)\n",
      "  File \"/home/matker/.local/lib/python3.8/site-packages/tensorflow/python/util/traceback_utils.py\", line 150, in error_handler\n",
      "    return fn(*args, **kwargs)\n",
      "  File \"/home/matker/.local/lib/python3.8/site-packages/tensorflow/python/util/dispatch.py\", line 1096, in op_dispatch_handler\n",
      "    return dispatch_target(*args, **kwargs)\n",
      "  File \"/home/matker/.local/lib/python3.8/site-packages/tensorflow/python/util/traceback_utils.py\", line 150, in error_handler\n",
      "    return fn(*args, **kwargs)\n",
      "  File \"/home/matker/.local/lib/python3.8/site-packages/tensorflow/python/util/dispatch.py\", line 1096, in op_dispatch_handler\n",
      "    return dispatch_target(*args, **kwargs)\n",
      "  File \"/home/matker/.local/lib/python3.8/site-packages/tensorflow/python/ops/math_ops.py\", line 1383, in binary_op_wrapper\n",
      "    return func(x, y, name=name)\n",
      "  File \"../deepbayesHF/analyzers/probverification.py\", line 186, in compute_erf_prob\n",
      "    val1 = erf((mean-interval[0])/(math.sqrt(2)*(var)))\n",
      "  File \"/home/matker/.local/lib/python3.8/site-packages/tensorflow/python/ops/math_ops.py\", line 1383, in binary_op_wrapper\n",
      "    return func(x, y, name=name)\n",
      "  File \"/home/matker/.local/lib/python3.8/site-packages/tensorflow/python/ops/array_ops.py\", line 1029, in _slice_helper\n",
      "    stack(strides))\n",
      "  File \"/home/matker/.local/lib/python3.8/site-packages/tensorflow/python/ops/math_ops.py\", line 1383, in binary_op_wrapper\n",
      "    return func(x, y, name=name)\n",
      "  File \"/home/matker/.local/lib/python3.8/site-packages/tensorflow/python/util/dispatch.py\", line 1096, in op_dispatch_handler\n",
      "    return dispatch_target(*args, **kwargs)\n",
      "  File \"/home/matker/.local/lib/python3.8/site-packages/tensorflow/python/util/traceback_utils.py\", line 150, in error_handler\n",
      "    return fn(*args, **kwargs)\n"
     ]
    },
    {
     "name": "stderr",
     "output_type": "stream",
     "text": [
      "  File \"/home/matker/.local/lib/python3.8/site-packages/tensorflow/python/ops/array_ops.py\", line 966, in _slice_helper\n",
      "    tensor = ops.convert_to_tensor(tensor)\n",
      "  File \"/home/matker/.local/lib/python3.8/site-packages/tensorflow/python/util/traceback_utils.py\", line 150, in error_handler\n",
      "    return fn(*args, **kwargs)\n",
      "  File \"/home/matker/.local/lib/python3.8/site-packages/tensorflow/python/ops/array_ops.py\", line 1028, in _slice_helper\n",
      "    packed_begin, packed_end, packed_strides = (stack(begin), stack(end),\n",
      "  File \"/home/matker/.local/lib/python3.8/site-packages/tensorflow/python/ops/math_ops.py\", line 1383, in binary_op_wrapper\n",
      "    return func(x, y, name=name)\n",
      "  File \"/home/matker/.local/lib/python3.8/site-packages/tensorflow/python/ops/math_ops.py\", line 1383, in binary_op_wrapper\n",
      "    return func(x, y, name=name)\n",
      "  File \"/home/matker/.local/lib/python3.8/site-packages/tensorflow/python/ops/array_ops.py\", line 1028, in _slice_helper\n",
      "    packed_begin, packed_end, packed_strides = (stack(begin), stack(end),\n",
      "  File \"/home/matker/.local/lib/python3.8/site-packages/tensorflow/python/util/traceback_utils.py\", line 150, in error_handler\n",
      "    return fn(*args, **kwargs)\n",
      "  File \"../deepbayesHF/analyzers/probverification.py\", line 186, in compute_erf_prob\n",
      "    val1 = erf((mean-interval[0])/(math.sqrt(2)*(var)))\n",
      "  File \"/home/matker/.local/lib/python3.8/site-packages/tensorflow/python/util/traceback_utils.py\", line 150, in error_handler\n",
      "    return fn(*args, **kwargs)\n",
      "  File \"/home/matker/.local/lib/python3.8/site-packages/tensorflow/python/util/traceback_utils.py\", line 150, in error_handler\n",
      "    return fn(*args, **kwargs)\n",
      "  File \"/home/matker/.local/lib/python3.8/site-packages/tensorflow/python/ops/math_ops.py\", line 1535, in truediv\n",
      "    @tf_export(\"math.truediv\", \"truediv\")\n",
      "  File \"/home/matker/.local/lib/python3.8/site-packages/tensorflow/python/util/traceback_utils.py\", line 150, in error_handler\n",
      "    return fn(*args, **kwargs)\n",
      "  File \"/home/matker/.local/lib/python3.8/site-packages/tensorflow/python/ops/math_ops.py\", line 1383, in binary_op_wrapper\n",
      "    return func(x, y, name=name)\n",
      "  File \"/home/matker/.local/lib/python3.8/site-packages/tensorflow/python/util/traceback_utils.py\", line 150, in error_handler\n",
      "    return fn(*args, **kwargs)\n",
      "  File \"/home/matker/.local/lib/python3.8/site-packages/tensorflow/python/ops/math_ops.py\", line 1383, in binary_op_wrapper\n",
      "    return func(x, y, name=name)\n",
      "  File \"/home/matker/.local/lib/python3.8/site-packages/tensorflow/python/profiler/trace.py\", line 163, in wrapped\n",
      "    return func(*args, **kwargs)\n",
      "  File \"/home/matker/.local/lib/python3.8/site-packages/tensorflow/python/util/traceback_utils.py\", line 150, in error_handler\n",
      "    return fn(*args, **kwargs)\n",
      "  File \"/home/matker/.local/lib/python3.8/site-packages/tensorflow/python/util/traceback_utils.py\", line 150, in error_handler\n",
      "    return fn(*args, **kwargs)\n",
      "  File \"/home/matker/.local/lib/python3.8/site-packages/tensorflow/python/util/dispatch.py\", line 1096, in op_dispatch_handler\n",
      "    return dispatch_target(*args, **kwargs)\n",
      "  File \"/home/matker/.local/lib/python3.8/site-packages/tensorflow/python/util/traceback_utils.py\", line 150, in error_handler\n",
      "    return fn(*args, **kwargs)\n",
      "  File \"/home/matker/.local/lib/python3.8/site-packages/tensorflow/python/util/traceback_utils.py\", line 150, in error_handler\n",
      "    return fn(*args, **kwargs)\n",
      "  File \"/home/matker/.local/lib/python3.8/site-packages/tensorflow/python/util/traceback_utils.py\", line 150, in error_handler\n",
      "    return fn(*args, **kwargs)\n",
      "  File \"/home/matker/.local/lib/python3.8/site-packages/tensorflow/python/ops/math_ops.py\", line 1383, in binary_op_wrapper\n",
      "    return func(x, y, name=name)\n",
      "  File \"/home/matker/.local/lib/python3.8/site-packages/tensorflow/python/util/dispatch.py\", line 1096, in op_dispatch_handler\n",
      "    return dispatch_target(*args, **kwargs)\n",
      "KeyboardInterrupt\n",
      "  File \"/home/matker/.local/lib/python3.8/site-packages/tensorflow/python/util/dispatch.py\", line 1096, in op_dispatch_handler\n",
      "    return dispatch_target(*args, **kwargs)\n",
      "  File \"/home/matker/.local/lib/python3.8/site-packages/tensorflow/python/util/traceback_utils.py\", line 150, in error_handler\n",
      "    return fn(*args, **kwargs)\n",
      "  File \"/home/matker/.local/lib/python3.8/site-packages/tensorflow/python/framework/ops.py\", line 1577, in convert_to_tensor\n",
      "    if not ctx.executing_eagerly():\n",
      "  File \"/home/matker/.local/lib/python3.8/site-packages/tensorflow/python/util/dispatch.py\", line 1096, in op_dispatch_handler\n",
      "    return dispatch_target(*args, **kwargs)\n",
      "  File \"/home/matker/.local/lib/python3.8/site-packages/tensorflow/python/util/traceback_utils.py\", line 150, in error_handler\n",
      "    return fn(*args, **kwargs)\n",
      "  File \"/home/matker/.local/lib/python3.8/site-packages/tensorflow/python/util/dispatch.py\", line 1096, in op_dispatch_handler\n",
      "    return dispatch_target(*args, **kwargs)\n",
      "  File \"/home/matker/.local/lib/python3.8/site-packages/tensorflow/python/util/dispatch.py\", line 1096, in op_dispatch_handler\n",
      "    return dispatch_target(*args, **kwargs)\n",
      "  File \"/home/matker/.local/lib/python3.8/site-packages/tensorflow/python/ops/math_ops.py\", line 1535, in truediv\n",
      "    @tf_export(\"math.truediv\", \"truediv\")\n",
      "  File \"/home/matker/.local/lib/python3.8/site-packages/tensorflow/python/ops/math_ops.py\", line 553, in subtract\n",
      "    return gen_math_ops.sub(x, y, name)\n",
      "  File \"/home/matker/.local/lib/python3.8/site-packages/tensorflow/python/util/dispatch.py\", line 1096, in op_dispatch_handler\n",
      "    return dispatch_target(*args, **kwargs)\n",
      "  File \"/home/matker/.local/lib/python3.8/site-packages/tensorflow/python/util/traceback_utils.py\", line 140, in error_handler\n",
      "    if not is_traceback_filtering_enabled():\n",
      "  File \"/home/matker/.local/lib/python3.8/site-packages/tensorflow/python/ops/math_ops.py\", line 1383, in binary_op_wrapper\n",
      "    return func(x, y, name=name)\n",
      "  File \"/home/matker/.local/lib/python3.8/site-packages/tensorflow/python/util/dispatch.py\", line 1096, in op_dispatch_handler\n",
      "    return dispatch_target(*args, **kwargs)\n",
      "  File \"/home/matker/.local/lib/python3.8/site-packages/tensorflow/python/ops/math_ops.py\", line 1566, in truediv\n",
      "    return _truediv_python3(x, y, name)\n",
      "  File \"/home/matker/.local/lib/python3.8/site-packages/tensorflow/python/util/dispatch.py\", line 1096, in op_dispatch_handler\n",
      "    return dispatch_target(*args, **kwargs)\n",
      "  File \"/home/matker/.local/lib/python3.8/site-packages/tensorflow/python/ops/array_ops.py\", line 1414, in stack\n",
      "    return ops.convert_to_tensor(values, name=name)\n",
      "  File \"/home/matker/.local/lib/python3.8/site-packages/tensorflow/python/util/dispatch.py\", line 1096, in op_dispatch_handler\n",
      "    return dispatch_target(*args, **kwargs)\n",
      "  File \"/home/matker/.local/lib/python3.8/site-packages/tensorflow/python/ops/array_ops.py\", line 1414, in stack\n",
      "    return ops.convert_to_tensor(values, name=name)\n",
      "  File \"/home/matker/.local/lib/python3.8/site-packages/tensorflow/python/ops/math_ops.py\", line 553, in subtract\n",
      "    return gen_math_ops.sub(x, y, name)\n",
      "KeyboardInterrupt\n",
      "  File \"/home/matker/.local/lib/python3.8/site-packages/tensorflow/python/ops/array_ops.py\", line 1414, in stack\n",
      "    return ops.convert_to_tensor(values, name=name)\n",
      "  File \"/home/matker/.local/lib/python3.8/site-packages/tensorflow/python/eager/context.py\", line 905, in executing_eagerly\n",
      "    return self._thread_local_data.is_eager\n",
      "  File \"/home/matker/.local/lib/python3.8/site-packages/tensorflow/python/ops/gen_math_ops.py\", line 11126, in sub\n",
      "    _result = pywrap_tfe.TFE_Py_FastPathExecute(\n",
      "  File \"/home/matker/.local/lib/python3.8/site-packages/tensorflow/python/util/traceback_utils.py\", line 47, in is_traceback_filtering_enabled\n",
      "    value = getattr(_ENABLE_TRACEBACK_FILTERING, 'value', True)\n",
      "  File \"/home/matker/.local/lib/python3.8/site-packages/tensorflow/python/util/traceback_utils.py\", line 150, in error_handler\n",
      "    return fn(*args, **kwargs)\n",
      "  File \"/home/matker/.local/lib/python3.8/site-packages/tensorflow/python/ops/math_ops.py\", line 1566, in truediv\n",
      "    return _truediv_python3(x, y, name)\n",
      "  File \"/home/matker/.local/lib/python3.8/site-packages/tensorflow/python/ops/math_ops.py\", line 1566, in truediv\n",
      "    return _truediv_python3(x, y, name)\n",
      "  File \"/home/matker/.local/lib/python3.8/site-packages/tensorflow/python/profiler/trace.py\", line 163, in wrapped\n",
      "    return func(*args, **kwargs)\n"
     ]
    },
    {
     "name": "stderr",
     "output_type": "stream",
     "text": [
      "  File \"/home/matker/.local/lib/python3.8/site-packages/tensorflow/python/ops/math_ops.py\", line 1488, in _truediv_python3\n",
      "    x = ops.convert_to_tensor(x, name=\"x\")\n",
      "  File \"/home/matker/.local/lib/python3.8/site-packages/tensorflow/python/ops/math_ops.py\", line 1566, in truediv\n",
      "    return _truediv_python3(x, y, name)\n",
      "  File \"/home/matker/.local/lib/python3.8/site-packages/tensorflow/python/profiler/trace.py\", line 163, in wrapped\n",
      "    return func(*args, **kwargs)\n",
      "  File \"/home/matker/.local/lib/python3.8/site-packages/tensorflow/python/ops/gen_math_ops.py\", line 11126, in sub\n",
      "    _result = pywrap_tfe.TFE_Py_FastPathExecute(\n",
      "  File \"/home/matker/.local/lib/python3.8/site-packages/tensorflow/python/profiler/trace.py\", line 163, in wrapped\n",
      "    return func(*args, **kwargs)\n",
      "KeyboardInterrupt\n",
      "KeyboardInterrupt\n",
      "KeyboardInterrupt\n",
      "  File \"/home/matker/.local/lib/python3.8/site-packages/tensorflow/python/util/dispatch.py\", line 1096, in op_dispatch_handler\n",
      "    return dispatch_target(*args, **kwargs)\n",
      "  File \"/home/matker/.local/lib/python3.8/site-packages/tensorflow/python/ops/math_ops.py\", line 1487, in _truediv_python3\n",
      "    with ops.name_scope(name, \"truediv\", [x, y]) as name:\n",
      "  File \"/home/matker/.local/lib/python3.8/site-packages/tensorflow/python/ops/math_ops.py\", line 1487, in _truediv_python3\n",
      "    with ops.name_scope(name, \"truediv\", [x, y]) as name:\n",
      "  File \"/home/matker/.local/lib/python3.8/site-packages/tensorflow/python/ops/math_ops.py\", line 1504, in _truediv_python3\n",
      "    return gen_math_ops.real_div(x, y, name=name)\n",
      "  File \"/home/matker/.local/lib/python3.8/site-packages/tensorflow/python/framework/ops.py\", line 1621, in convert_to_tensor\n",
      "    ret = conversion_func(value, dtype=dtype, name=name, as_ref=as_ref)\n",
      "  File \"/home/matker/.local/lib/python3.8/site-packages/tensorflow/python/framework/ops.py\", line 1621, in convert_to_tensor\n",
      "    ret = conversion_func(value, dtype=dtype, name=name, as_ref=as_ref)\n",
      "  File \"/home/matker/.local/lib/python3.8/site-packages/tensorflow/python/framework/ops.py\", line 1621, in convert_to_tensor\n",
      "    ret = conversion_func(value, dtype=dtype, name=name, as_ref=as_ref)\n",
      "KeyboardInterrupt\n",
      "  File \"/home/matker/.local/lib/python3.8/site-packages/tensorflow/python/profiler/trace.py\", line 158, in wrapped\n",
      "    @functools.wraps(func)\n",
      "  File \"/home/matker/.local/lib/python3.8/site-packages/tensorflow/python/ops/math_ops.py\", line 553, in subtract\n",
      "    return gen_math_ops.sub(x, y, name)\n",
      "KeyboardInterrupt\n",
      "  File \"/home/matker/.local/lib/python3.8/site-packages/tensorflow/python/framework/ops.py\", line 6638, in name_scope\n",
      "    if not context.executing_eagerly():\n",
      "  File \"/home/matker/.local/lib/python3.8/site-packages/tensorflow/python/framework/constant_op.py\", line 347, in _constant_tensor_conversion_function\n",
      "    return constant(v, dtype=dtype, name=name)\n",
      "  File \"/home/matker/.local/lib/python3.8/site-packages/tensorflow/python/ops/gen_math_ops.py\", line 7871, in real_div\n",
      "    _result = pywrap_tfe.TFE_Py_FastPathExecute(\n",
      "  File \"/home/matker/.local/lib/python3.8/site-packages/tensorflow/python/framework/constant_op.py\", line 347, in _constant_tensor_conversion_function\n",
      "    return constant(v, dtype=dtype, name=name)\n",
      "  File \"/home/matker/.local/lib/python3.8/site-packages/tensorflow/python/framework/constant_op.py\", line 347, in _constant_tensor_conversion_function\n",
      "    return constant(v, dtype=dtype, name=name)\n",
      "  File \"/home/matker/.local/lib/python3.8/site-packages/tensorflow/python/ops/gen_math_ops.py\", line 11126, in sub\n",
      "    _result = pywrap_tfe.TFE_Py_FastPathExecute(\n",
      "KeyboardInterrupt\n",
      "  File \"/home/matker/.local/lib/python3.8/site-packages/tensorflow/python/eager/context.py\", line 2084, in executing_eagerly\n",
      "    return ctx.executing_eagerly()\n",
      "KeyboardInterrupt\n",
      "  File \"/home/matker/.local/lib/python3.8/site-packages/tensorflow/python/framework/constant_op.py\", line 271, in constant\n",
      "    return _constant_impl(value, dtype, shape, name, verify_shape=False,\n",
      "  File \"/home/matker/.local/lib/python3.8/site-packages/tensorflow/python/framework/constant_op.py\", line 271, in constant\n",
      "    return _constant_impl(value, dtype, shape, name, verify_shape=False,\n",
      "KeyboardInterrupt\n",
      "  File \"/home/matker/.local/lib/python3.8/site-packages/tensorflow/python/framework/constant_op.py\", line 271, in constant\n",
      "    return _constant_impl(value, dtype, shape, name, verify_shape=False,\n",
      "  File \"/home/matker/.local/lib/python3.8/site-packages/tensorflow/python/eager/context.py\", line 905, in executing_eagerly\n",
      "    return self._thread_local_data.is_eager\n",
      "  File \"/home/matker/.local/lib/python3.8/site-packages/tensorflow/python/framework/constant_op.py\", line 283, in _constant_impl\n",
      "    return _constant_eager_impl(ctx, value, dtype, shape, verify_shape)\n",
      "  File \"/home/matker/.local/lib/python3.8/site-packages/tensorflow/python/framework/constant_op.py\", line 283, in _constant_impl\n",
      "    return _constant_eager_impl(ctx, value, dtype, shape, verify_shape)\n",
      "KeyboardInterrupt\n",
      "  File \"/home/matker/.local/lib/python3.8/site-packages/tensorflow/python/framework/constant_op.py\", line 308, in _constant_eager_impl\n",
      "    t = convert_to_eager_tensor(value, ctx, dtype)\n",
      "  File \"/home/matker/.local/lib/python3.8/site-packages/tensorflow/python/framework/constant_op.py\", line 309, in _constant_eager_impl\n",
      "    if shape is None:\n",
      "  File \"/home/matker/.local/lib/python3.8/site-packages/tensorflow/python/framework/constant_op.py\", line 106, in convert_to_eager_tensor\n",
      "    return ops.EagerTensor(value, ctx.device_name, dtype)\n",
      "KeyboardInterrupt\n",
      "KeyboardInterrupt\n",
      "  File \"/home/matker/.local/lib/python3.8/site-packages/tensorflow/python/framework/constant_op.py\", line 283, in _constant_impl\n",
      "    return _constant_eager_impl(ctx, value, dtype, shape, verify_shape)\n",
      "  File \"/home/matker/.local/lib/python3.8/site-packages/tensorflow/python/framework/constant_op.py\", line 308, in _constant_eager_impl\n",
      "    t = convert_to_eager_tensor(value, ctx, dtype)\n",
      "  File \"/home/matker/.local/lib/python3.8/site-packages/tensorflow/python/framework/constant_op.py\", line 106, in convert_to_eager_tensor\n",
      "    return ops.EagerTensor(value, ctx.device_name, dtype)\n",
      "KeyboardInterrupt\n",
      "Process ForkPoolWorker-1588:\n",
      "Process ForkPoolWorker-1586:\n",
      "Traceback (most recent call last):\n",
      "Traceback (most recent call last):\n",
      "  File \"/usr/lib/python3.8/multiprocessing/process.py\", line 313, in _bootstrap\n",
      "    self.run()\n",
      "  File \"/usr/lib/python3.8/multiprocessing/process.py\", line 313, in _bootstrap\n",
      "    self.run()\n",
      "  File \"/usr/lib/python3.8/multiprocessing/process.py\", line 108, in run\n",
      "    self._target(*self._args, **self._kwargs)\n",
      "  File \"/usr/lib/python3.8/multiprocessing/process.py\", line 108, in run\n",
      "    self._target(*self._args, **self._kwargs)\n",
      "  File \"/usr/lib/python3.8/multiprocessing/pool.py\", line 125, in worker\n",
      "    result = (True, func(*args, **kwds))\n",
      "  File \"/usr/lib/python3.8/multiprocessing/pool.py\", line 125, in worker\n",
      "    result = (True, func(*args, **kwds))\n",
      "  File \"../deepbayesHF/analyzers/probverification.py\", line 378, in compute_probability_subroutine\n",
      "    ps_weight.append(compute_interval_probs_weight_std((dimensionwise_intervals[i], margin, mean[i], np.asarray(var[i]))))\n",
      "  File \"../deepbayesHF/analyzers/probverification.py\", line 378, in compute_probability_subroutine\n",
      "    ps_weight.append(compute_interval_probs_weight_std((dimensionwise_intervals[i], margin, mean[i], np.asarray(var[i]))))\n",
      "  File \"../deepbayesHF/analyzers/probverification.py\", line 246, in compute_interval_probs_weight_std\n",
      "    p += compute_erf_prob(interval, means[i][j], var[i][j])\n",
      "  File \"../deepbayesHF/analyzers/probverification.py\", line 246, in compute_interval_probs_weight_std\n",
      "    p += compute_erf_prob(interval, means[i][j], var[i][j])\n",
      "  File \"/home/matker/.local/lib/python3.8/site-packages/tensorflow/python/util/traceback_utils.py\", line 150, in error_handler\n",
      "    return fn(*args, **kwargs)\n",
      "  File \"../deepbayesHF/analyzers/probverification.py\", line 186, in compute_erf_prob\n",
      "    val1 = erf((mean-interval[0])/(math.sqrt(2)*(var)))\n",
      "  File \"/home/matker/.local/lib/python3.8/site-packages/tensorflow/python/util/dispatch.py\", line 1096, in op_dispatch_handler\n",
      "    return dispatch_target(*args, **kwargs)\n",
      "  File \"/home/matker/.local/lib/python3.8/site-packages/tensorflow/python/util/traceback_utils.py\", line 150, in error_handler\n",
      "    return fn(*args, **kwargs)\n"
     ]
    },
    {
     "name": "stderr",
     "output_type": "stream",
     "text": [
      "  File \"/home/matker/.local/lib/python3.8/site-packages/tensorflow/python/ops/array_ops.py\", line 1015, in _slice_helper\n",
      "    _check_index(s)\n",
      "  File \"/home/matker/.local/lib/python3.8/site-packages/tensorflow/python/ops/math_ops.py\", line 1377, in binary_op_wrapper\n",
      "    with ops.name_scope(None, op_name, [x, y]) as name:\n",
      "  File \"/home/matker/.local/lib/python3.8/site-packages/tensorflow/python/ops/array_ops.py\", line 878, in _check_index\n",
      "    if isinstance(idx, (numbers.Integral, tensor_shape.Dimension)):\n",
      "  File \"/home/matker/.local/lib/python3.8/site-packages/tensorflow/python/framework/ops.py\", line 6638, in name_scope\n",
      "    if not context.executing_eagerly():\n",
      "  File \"/usr/lib/python3.8/abc.py\", line 98, in __instancecheck__\n",
      "    return _abc_instancecheck(cls, instance)\n",
      "  File \"/home/matker/.local/lib/python3.8/site-packages/tensorflow/python/eager/context.py\", line 2084, in executing_eagerly\n",
      "    return ctx.executing_eagerly()\n",
      "  File \"/usr/lib/python3.8/abc.py\", line 100, in __subclasscheck__\n",
      "    def __subclasscheck__(cls, subclass):\n",
      "  File \"/home/matker/.local/lib/python3.8/site-packages/tensorflow/python/eager/context.py\", line 905, in executing_eagerly\n",
      "    return self._thread_local_data.is_eager\n",
      "KeyboardInterrupt\n",
      "KeyboardInterrupt\n"
     ]
    }
   ],
   "source": [
    "EPSILON = 0.09\n",
    "img = np.asarray([X_test[INDEX]])\n",
    "img_upper = np.clip(np.asarray([X_test[INDEX]+(EPSILON)]), 0, 1)\n",
    "img_lower = np.clip(np.asarray([X_test[INDEX]-(EPSILON)]), 0, 1)\n",
    "p_lower = prob_veri(bayes_model, img_lower, img_upper, 2.5, 100, predicate=predicate_safe, depth=1)\n",
    "lowers.append(p_lower)"
   ]
  },
  {
   "cell_type": "code",
   "execution_count": 45,
   "id": "bed7b6b9",
   "metadata": {},
   "outputs": [
    {
     "name": "stderr",
     "output_type": "stream",
     "text": [
      "Checking Samples: 100%|██████████████████████████████████████████████████████████████████████████████████| 3/3 [00:10<00:00,  3.41s/it]\n"
     ]
    },
    {
     "name": "stdout",
     "output_type": "stream",
     "text": [
      "Found 3 safe intervals\n",
      "About to compute intersection for this many intervals:  3\n"
     ]
    },
    {
     "name": "stderr",
     "output_type": "stream",
     "text": [
      "Computing intersection weights: 100%|██████████████████████████████████████████████████████████████████| 3/3 [00:00<00:00, 7273.36it/s]"
     ]
    },
    {
     "name": "stdout",
     "output_type": "stream",
     "text": [
      "Depth 1 has 3 intersections\n"
     ]
    },
    {
     "name": "stderr",
     "output_type": "stream",
     "text": [
      "\n",
      "100%|████████████████████████████████████████████████████████████████████████████████████████████████████| 3/3 [00:08<00:00,  2.79s/it]"
     ]
    },
    {
     "name": "stdout",
     "output_type": "stream",
     "text": [
      "Depth 1 prob:  0.9560563554092866\n",
      "Depth 2 has 3 intersections\n"
     ]
    },
    {
     "name": "stderr",
     "output_type": "stream",
     "text": [
      "\n",
      "100%|████████████████████████████████████████████████████████████████████████████████████████████████████| 3/3 [00:10<00:00,  3.54s/it]"
     ]
    },
    {
     "name": "stdout",
     "output_type": "stream",
     "text": [
      "Depth 2 prob: -0.3121180095128921\n",
      "Current approximation: 0.6439383458963945\n",
      "Depth 2 prob::  0.6439383458963945\n",
      "Depth 3 has 1 intersections\n"
     ]
    },
    {
     "name": "stderr",
     "output_type": "stream",
     "text": [
      "\n",
      "100%|████████████████████████████████████████████████████████████████████████████████████████████████████| 1/1 [00:09<00:00,  9.34s/it]"
     ]
    },
    {
     "name": "stdout",
     "output_type": "stream",
     "text": [
      "Depth 3 prob: 0.03471557381786752\n",
      "Current approximation: 0.678653919714262\n",
      "Got this approximation:  0.678653919714262\n"
     ]
    },
    {
     "name": "stderr",
     "output_type": "stream",
     "text": [
      "\n"
     ]
    }
   ],
   "source": [
    "EPSILON = 0.65\n",
    "img = np.asarray([X_test[INDEX]])\n",
    "img_upper = np.clip(np.asarray([X_test[INDEX]+(EPSILON)]), 0, 1)\n",
    "img_lower = np.clip(np.asarray([X_test[INDEX]-(EPSILON)]), 0, 1)\n",
    "p_lower = prob_veri_upper(bayes_model, img_lower, img_upper, 2.75, 3, predicate=predicate_unsafe, depth=3)\n",
    "lowers.append(p_lower)"
   ]
  },
  {
   "cell_type": "code",
   "execution_count": 31,
   "id": "1778a503",
   "metadata": {},
   "outputs": [
    {
     "name": "stdout",
     "output_type": "stream",
     "text": [
      "hello\n"
     ]
    }
   ],
   "source": [
    "print(\"hello\")"
   ]
  },
  {
   "cell_type": "code",
   "execution_count": 47,
   "id": "6b9bd2bc",
   "metadata": {},
   "outputs": [
    {
     "data": {
      "text/plain": [
       "(0.0, 1.05)"
      ]
     },
     "execution_count": 47,
     "metadata": {},
     "output_type": "execute_result"
    },
    {
     "data": {
      "image/png": "[encoded data removed]",
      "text/plain": [
       "<Figure size 480x960 with 1 Axes>"
      ]
     },
     "metadata": {
      "needs_background": "light"
     },
     "output_type": "display_data"
    }
   ],
   "source": [
    "plt.figure(figsize=(4, 8), dpi=120)\n",
    "plt.title('Probabilistic Robustness')\n",
    "plt.ylabel(r'MSE ($\\epsilon$)')\n",
    "sns.swarmplot(y=MSR, linewidth=1, edgecolor='w', color='#7f7faf')\n",
    "sns.boxplot(y=MSR, color='#7f7faf')\n",
    "plt.axhline(y=0.65, color='#6374c9', linestyle='-')\n",
    "plt.axhline(y=0.11, color='#c95244', linestyle='-')\n",
    "plt.ylim((0.0,1.05))"
   ]
  }
 ],
 "metadata": {
  "kernelspec": {
   "display_name": "Python 2",
   "language": "python",
   "name": "python2"
  },
  "language_info": {
   "codemirror_mode": {
    "name": "ipython",
    "version": 3
   },
   "file_extension": ".py",
   "mimetype": "text/x-python",
   "name": "python",
   "nbconvert_exporter": "python",
   "pygments_lexer": "ipython3",
   "version": "3.8.0"
  }
 },
 "nbformat": 4,
 "nbformat_minor": 5
}
