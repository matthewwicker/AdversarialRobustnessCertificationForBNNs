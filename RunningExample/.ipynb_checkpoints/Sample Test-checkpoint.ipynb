{
 "cells": [
  {
   "cell_type": "code",
   "execution_count": 2,
   "id": "0ed4cad2",
   "metadata": {},
   "outputs": [],
   "source": [
    "import sys\n",
    "sys.path.append('../')\n",
    "import deepbayesHF\n",
    "import deepbayesHF.optimizers as optimizers\n",
    "import tensorflow as tf\n",
    "from tensorflow.keras.models import *\n",
    "from tensorflow.keras.layers import *\n",
    "\n",
    "import os\n",
    "os.environ[\"CUDA_VISIBLE_DEVICES\"] = \"-1\""
   ]
  },
  {
   "cell_type": "code",
   "execution_count": 3,
   "id": "5b738a97",
   "metadata": {},
   "outputs": [],
   "source": [
    "(X_train, y_train), (X_test, y_test) = tf.keras.datasets.mnist.load_data()\n",
    "X_train = X_train/255.\n",
    "X_test = X_test/255.\n",
    "X_train = X_train.astype(\"float32\").reshape(-1, 28*28)\n",
    "X_test = X_test.astype(\"float32\").reshape(-1, 28* 28)"
   ]
  },
  {
   "cell_type": "code",
   "execution_count": 4,
   "id": "071541b3",
   "metadata": {},
   "outputs": [
    {
     "name": "stderr",
     "output_type": "stream",
     "text": [
      "2022-05-31 19:48:55.767984: E tensorflow/stream_executor/cuda/cuda_driver.cc:271] failed call to cuInit: CUDA_ERROR_NO_DEVICE: no CUDA-capable device is detected\n"
     ]
    }
   ],
   "source": [
    "model = Sequential()\n",
    "model.add(Dense(16, activation=\"relu\", input_shape=(None, 28*28)))\n",
    "model.add(Dense(10, activation=\"softmax\"))\n",
    "loss = tf.keras.losses.SparseCategoricalCrossentropy()"
   ]
  },
  {
   "cell_type": "code",
   "execution_count": null,
   "id": "86fa8f67",
   "metadata": {},
   "outputs": [],
   "source": [
    "\"\"\"\n",
    "learning_rate = 0.35; decay=0.0\n",
    "opt = optimizers.VariationalOnlineGuassNewton()\n",
    "bayes_model = opt.compile(model, loss_fn=loss, epochs=10, learning_rate=learning_rate, batch_size=128,\n",
    "                         robust_train=1, epsilon=0.05, robust_lam = 0.5)\n",
    "bayes_model.train(X_train, y_train, X_test, y_test)\n",
    "\"\"\""
   ]
  },
  {
   "cell_type": "code",
   "execution_count": 6,
   "id": "65505fb9",
   "metadata": {},
   "outputs": [],
   "source": [
    "#bayes_model.save(\"PosteriorModels/VOGN_MNIST_Posterior\")"
   ]
  },
  {
   "cell_type": "code",
   "execution_count": 7,
   "id": "08deab53",
   "metadata": {},
   "outputs": [
    {
     "name": "stdout",
     "output_type": "stream",
     "text": [
      "WARNING:tensorflow:No training configuration found in the save file, so the model was *not* compiled. Compile it manually.\n",
      "Model: \"sequential\"\n",
      "_________________________________________________________________\n",
      " Layer (type)                Output Shape              Param #   \n",
      "=================================================================\n",
      " dense (Dense)               (None, None, 16)          12560     \n",
      "                                                                 \n",
      " dense_1 (Dense)             (None, None, 10)          170       \n",
      "                                                                 \n",
      "=================================================================\n",
      "Total params: 12,730\n",
      "Trainable params: 12,730\n",
      "Non-trainable params: 0\n",
      "_________________________________________________________________\n",
      "BayesKeras detected the above model \n",
      " None\n"
     ]
    }
   ],
   "source": [
    "from deepbayesHF import PosteriorModel\n",
    "\n",
    "bayes_model = PosteriorModel(\"PosteriorModels/VOGN_MNIST_Posterior\")"
   ]
  },
  {
   "cell_type": "code",
   "execution_count": 8,
   "id": "d757c396",
   "metadata": {},
   "outputs": [],
   "source": [
    "y_pred = bayes_model.predict(X_test)"
   ]
  },
  {
   "cell_type": "code",
   "execution_count": 9,
   "id": "a6ca2e82",
   "metadata": {},
   "outputs": [
    {
     "name": "stderr",
     "output_type": "stream",
     "text": [
      "100%|████████████████████████████████████████████████████████████████████████████████████████| 10000/10000 [00:00<00:00, 490768.51it/s]"
     ]
    },
    {
     "name": "stdout",
     "output_type": "stream",
     "text": [
      "Test set accuracy:  0.923\n"
     ]
    },
    {
     "name": "stderr",
     "output_type": "stream",
     "text": [
      "\n"
     ]
    }
   ],
   "source": [
    "import numpy as np\n",
    "from tqdm import trange\n",
    "from deepbayesHF.analyzers import FGSM\n",
    "y_cls = np.argmax(y_pred, axis=1)\n",
    "corr = 0\n",
    "for i in trange(len(y_cls)):\n",
    "    corr += int(y_cls[i] == y_test[i])\n",
    "print(\"Test set accuracy: \", corr/10000)"
   ]
  },
  {
   "cell_type": "code",
   "execution_count": 23,
   "id": "19113808",
   "metadata": {},
   "outputs": [
    {
     "name": "stderr",
     "output_type": "stream",
     "text": [
      "100%|██████████████████████████████████████████████████████████████████████████████████████████████| 1000/1000 [02:37<00:00,  6.35it/s]\n"
     ]
    }
   ],
   "source": [
    "from tqdm import trange\n",
    "import random\n",
    "INDEX = 7\n",
    "EPSILON = 0.025\n",
    "bayes_model.input_lower = 0; bayes_model.input_upper = 1.0\n",
    "confs = []\n",
    "for i in trange(1000):\n",
    "    eps = random.uniform(0, EPSILON)\n",
    "    x_adv = FGSM(bayes_model, np.asarray([X_test[INDEX]]), loss, eps, direction=-1, num_models=1, order=1, samples=1)\n",
    "    bayes_model.model.set_weights(bayes_model.sample())\n",
    "    y = bayes_model._predict(np.asarray([x_adv]))\n",
    "    confs.append(np.max(y))"
   ]
  },
  {
   "cell_type": "code",
   "execution_count": 24,
   "id": "d024fc2a",
   "metadata": {},
   "outputs": [
    {
     "name": "stdout",
     "output_type": "stream",
     "text": [
      "[0.90212315, 0.8888087, 0.8900434, 0.88995403, 0.9066051, 0.89673096, 0.89384097, 0.880778, 0.8979375, 0.8873097, 0.8909908, 0.91252494, 0.8856617, 0.8935814, 0.89678246, 0.87896997, 0.88342047, 0.8799315, 0.9099779, 0.8833082, 0.8967539, 0.91294354, 0.89960676, 0.8947865, 0.911144, 0.89992, 0.90356284, 0.9134772, 0.9080413, 0.878305, 0.88492614, 0.8821031, 0.8916582, 0.88297826, 0.9021508, 0.8842813, 0.90287966, 0.9028887, 0.8781786, 0.87880456, 0.89561653, 0.88706386, 0.9031105, 0.88293284, 0.90729755, 0.9059967, 0.890358, 0.9073431, 0.90425247, 0.87850815, 0.913608, 0.88954794, 0.9038368, 0.8954852, 0.884085, 0.8977416, 0.8989351, 0.9055945, 0.906975, 0.8911883, 0.894777, 0.89093846, 0.8954351, 0.88220364, 0.8903623, 0.90931135, 0.89323753, 0.89669394, 0.90328234, 0.89854896, 0.89616364, 0.88110864, 0.8876661, 0.91058564, 0.9042976, 0.89144915, 0.91365856, 0.9068837, 0.8890377, 0.9105049, 0.9115422, 0.91341424, 0.8894276, 0.89710164, 0.91243607, 0.8901969, 0.9059282, 0.88908327, 0.91135204, 0.90384716, 0.9047786, 0.91262907, 0.8993192, 0.88619494, 0.9132221, 0.88770086, 0.878429, 0.8999728, 0.8910782, 0.9080189, 0.9125117, 0.89806914, 0.8793702, 0.8951565, 0.9132915, 0.9105963, 0.907041, 0.8987644, 0.9097012, 0.9071014, 0.90713567, 0.8921894, 0.88496834, 0.88901466, 0.8978633, 0.9092817, 0.9067391, 0.89225787, 0.87940425, 0.8947354, 0.9108021, 0.900847, 0.90589553, 0.9017986, 0.89216775, 0.88993186, 0.89981073, 0.89797187, 0.891099, 0.8838142, 0.8788754, 0.90361345, 0.88868344, 0.886178, 0.9067848, 0.9108854, 0.884331, 0.89071953, 0.91372615, 0.88271683, 0.89240414, 0.8827756, 0.8904369, 0.8845919, 0.90893465, 0.89985734, 0.8787071, 0.8819353, 0.88126737, 0.9116592, 0.8875075, 0.8805041, 0.9004746, 0.8915153, 0.8872193, 0.90001744, 0.88655275, 0.9094169, 0.8885403, 0.883727, 0.9063717, 0.88548803, 0.8927753, 0.9037554, 0.87961525, 0.88587284, 0.88708234, 0.8930753, 0.8818613, 0.8881676, 0.8874845, 0.9126928, 0.9098524, 0.9127642, 0.90685123, 0.88871956, 0.8933844, 0.8889713, 0.8888131, 0.8921706, 0.8896904, 0.9052463, 0.8927981, 0.9137253, 0.9086531, 0.90766615, 0.9130088, 0.8864404, 0.89635813, 0.9093005, 0.8967785, 0.9122169, 0.8855647, 0.9063428, 0.8863487, 0.8872923, 0.8910927, 0.87824214, 0.90798175, 0.90810174, 0.88849705, 0.88336164, 0.9017872, 0.900754, 0.88851726, 0.89000654, 0.90238255, 0.90121806, 0.8847034, 0.89211905, 0.89248085, 0.88778013, 0.91099226, 0.9089991, 0.9035904, 0.8918519, 0.88164204, 0.89926285, 0.8956227, 0.9030288, 0.902931, 0.9064897, 0.88600034, 0.8836221, 0.8937731, 0.8794191, 0.885337, 0.89629877, 0.9067647, 0.8869882, 0.90071285, 0.9096151, 0.89863014, 0.8925548, 0.89006454, 0.89661, 0.8848948, 0.9101989, 0.90362895, 0.9012374, 0.879352, 0.9071453, 0.8965395, 0.9010256, 0.89337796, 0.89204895, 0.8868489, 0.8951247, 0.894873, 0.8893127, 0.9067495, 0.88549495, 0.887999, 0.8949296, 0.90987027, 0.9068033, 0.8976711, 0.91283494, 0.9109883, 0.89122224, 0.8987114, 0.87931406, 0.89034283, 0.90149736, 0.90796375, 0.89468646, 0.9044502, 0.89466316, 0.8954419, 0.8803864, 0.8940461, 0.8979901, 0.89686704, 0.89356446, 0.8955429, 0.90252674, 0.8794812, 0.8926519, 0.90188295, 0.90260476, 0.8986674, 0.8982469, 0.8919681, 0.8926002, 0.8936949, 0.9049915, 0.90885156, 0.8857173, 0.89198434, 0.9131409, 0.90220845, 0.8853558, 0.8936548, 0.8811232, 0.91067284, 0.8997288, 0.89433944, 0.8995717, 0.8812315, 0.90209687, 0.9042662, 0.9091589, 0.88520586, 0.88493, 0.8844389, 0.89196044, 0.8831701, 0.8844947, 0.87818617, 0.8984451, 0.88700926, 0.90602833, 0.9046905, 0.87919563, 0.88088655, 0.8825571, 0.9023797, 0.90615594, 0.9120707, 0.90589154, 0.9054927, 0.8927357, 0.9098325, 0.90109134, 0.89350367, 0.8809295, 0.8916158, 0.88261354, 0.8839734, 0.8840321, 0.8874918, 0.88602245, 0.9065798, 0.907883, 0.8868729, 0.89428645, 0.90323734, 0.89347196, 0.9091269, 0.8786308, 0.89681095, 0.8859481, 0.8828217, 0.9030482, 0.88532776, 0.91250306, 0.90239966, 0.89291775, 0.9057941, 0.91287696, 0.8829164, 0.90614563, 0.90598416, 0.904028, 0.9090658, 0.88126534, 0.895883, 0.89286447, 0.90663373, 0.91331136, 0.9131671, 0.88486737, 0.8928599, 0.8903193, 0.9136385, 0.9103222, 0.8855492, 0.911068, 0.909589, 0.91325897, 0.8993108, 0.9062771, 0.8857895, 0.91169393, 0.9035253, 0.8890655, 0.9050094, 0.9080436, 0.89974153, 0.90536034, 0.900306, 0.888689, 0.88535917, 0.9093248, 0.8975686, 0.88398254, 0.903918, 0.9074784, 0.88884795, 0.904808, 0.9064495, 0.9051289, 0.89216805, 0.9077315, 0.8811462, 0.884467, 0.87977093, 0.9106047, 0.8813845, 0.8891235, 0.88611287, 0.9131336, 0.8916241, 0.8785203, 0.90139925, 0.9052347, 0.91182554, 0.8932987, 0.90160453, 0.89391476, 0.88255113, 0.8821862, 0.8865269, 0.9086086, 0.90598965, 0.9104125, 0.882592, 0.88190293, 0.87819344, 0.9064481, 0.8984562, 0.8819713, 0.9042097, 0.9022568, 0.90650845, 0.8878216, 0.8981833, 0.8956216, 0.8851995, 0.8958936, 0.9034952, 0.9101498, 0.89309174, 0.88969153, 0.8824499, 0.90043306, 0.9080448, 0.90464514, 0.9099345, 0.90797645, 0.9024568, 0.89933217, 0.88044184, 0.89542544, 0.8988175, 0.88842297, 0.9090972, 0.904596, 0.88193256, 0.90046245, 0.8894081, 0.90794194, 0.88481164, 0.9095805, 0.9110001, 0.8950808, 0.9099409, 0.9082676, 0.879109, 0.9135603, 0.90681535, 0.9003409, 0.8828793, 0.91009116, 0.8978004, 0.90313655, 0.9110497, 0.91004, 0.9009174, 0.8838183, 0.9062017, 0.8893314, 0.88560295, 0.88456047, 0.9028817, 0.8849812, 0.89427614, 0.9106636, 0.8966001, 0.87822807, 0.8894809, 0.8966641, 0.9132281, 0.90144485, 0.89871293, 0.88316256, 0.88087744, 0.9128816, 0.8980561, 0.91348326, 0.8944702, 0.903826, 0.9098793, 0.87970597, 0.9086646, 0.9073313, 0.90849817, 0.8851899, 0.8903866, 0.90503025, 0.90195256, 0.91196203, 0.8896408, 0.90750897, 0.8949977, 0.9097467, 0.90234435, 0.912351, 0.8784098, 0.89607704, 0.89884204, 0.89139926, 0.907387, 0.8931157, 0.88716525, 0.907953, 0.8884891, 0.87841153, 0.89290047, 0.8957124, 0.88781905, 0.90028584, 0.8957921, 0.88925636, 0.9010012, 0.8952199, 0.89426935, 0.9022129, 0.8976608, 0.87959224, 0.8964451, 0.9118521, 0.88894427, 0.9129907, 0.88447315, 0.8842276, 0.9101967, 0.9002099, 0.8973079, 0.9044074, 0.8838632, 0.8968494, 0.9078582, 0.9069995, 0.9060953, 0.8928047, 0.8856663, 0.9098337, 0.8975701, 0.8918366, 0.9007706, 0.8902048, 0.8798097, 0.9087974, 0.8825116, 0.9124835, 0.89401346, 0.88221514, 0.8903577, 0.8905613, 0.88348603, 0.8884806, 0.8793739, 0.8950623, 0.88631546, 0.88311076, 0.9078091, 0.9075029, 0.9045572, 0.89398205, 0.9084841, 0.9125315, 0.9128562, 0.8974728, 0.8994288, 0.89291984, 0.8861988, 0.90753853, 0.8833864, 0.9084236, 0.8913408, 0.8870634, 0.8801841, 0.88466465, 0.8805429, 0.87832177, 0.90967005, 0.9120382, 0.8934097, 0.89150536, 0.90452653, 0.90363437, 0.90972984, 0.88447875, 0.90297997, 0.9130398, 0.8866491, 0.88780254, 0.9052754, 0.90235287, 0.8796092, 0.89362556, 0.88721836, 0.898712, 0.8840952, 0.9104124, 0.9094986, 0.8911722, 0.881951, 0.9101881, 0.87972075, 0.891953, 0.89169014, 0.87842894, 0.9093266, 0.90910584, 0.9044141, 0.89471817, 0.904603, 0.8834676, 0.8862945, 0.90400493, 0.87878025, 0.8902489, 0.90325797, 0.886095, 0.9092013, 0.90597427, 0.89410037, 0.88148314, 0.91025746, 0.8853095, 0.9116641, 0.88644135, 0.90413386, 0.9094748, 0.8942218, 0.8878295, 0.890327, 0.9087954, 0.8941715, 0.91300297, 0.9022528, 0.9090569, 0.89586246, 0.9129725, 0.91241604, 0.9021673, 0.8992857, 0.8970907, 0.8932147, 0.91251904, 0.9043117, 0.88563293, 0.9055813, 0.90600616, 0.90644133, 0.88568574, 0.91222304, 0.8913483, 0.88148427, 0.9057066, 0.9054354, 0.88603365, 0.8974848, 0.9069856, 0.912847, 0.89950246, 0.8804673, 0.88054436, 0.8825802, 0.9014823, 0.8789279, 0.90921694, 0.8885712, 0.9111675, 0.9129205, 0.90300536, 0.8914959, 0.8978743, 0.9118958, 0.9128525, 0.8841217, 0.9032177, 0.909912, 0.87935, 0.89177346, 0.90330666, 0.8816802, 0.90208244, 0.8990455, 0.88904, 0.8903446, 0.89602196, 0.89656466, 0.8994336, 0.8873604, 0.89405966, 0.8810783, 0.885481, 0.90022653, 0.8792631, 0.9020381, 0.890072, 0.90318644, 0.9024335, 0.88934207, 0.88003373, 0.8860164, 0.90682274, 0.91324437, 0.89257234, 0.9038209, 0.9077369, 0.8880279, 0.8807187, 0.9025165, 0.89498043, 0.90314776, 0.8830686, 0.8897572, 0.8821199, 0.903246, 0.8810569, 0.88527244, 0.9039142, 0.9071577, 0.90944785, 0.90524346, 0.91253453, 0.8844989, 0.891036, 0.9073096, 0.885307, 0.90773964, 0.91066825, 0.8784222, 0.8973975, 0.8931469, 0.88057613, 0.91307706, 0.8873261, 0.9083945, 0.8834386, 0.88725, 0.9093746, 0.88058615, 0.88688564, 0.90391666, 0.9105172, 0.88904935, 0.8879553, 0.89459485, 0.9108076, 0.91107845, 0.89243406, 0.90861136, 0.8805309, 0.89537793, 0.8818069, 0.8827709, 0.90581316, 0.9069061, 0.9031605, 0.8807226, 0.90826184, 0.9000984, 0.9128705, 0.8812708, 0.90603113, 0.8866838, 0.91317093, 0.9019665, 0.88281703, 0.91171694, 0.88292533, 0.9136059, 0.9047229, 0.89924634, 0.91265386, 0.90958947, 0.88110197, 0.8927548, 0.90799075, 0.9077339, 0.887108, 0.9082416, 0.91171634, 0.8929812, 0.90656596, 0.9120005, 0.8861365, 0.9123274, 0.88382924, 0.89253396, 0.885171, 0.87911403, 0.89025164, 0.9097639, 0.8828794, 0.8988101, 0.9081137, 0.89704186, 0.90421903, 0.9121942, 0.905075, 0.90769976, 0.8863138, 0.9057941, 0.90556765, 0.89056385, 0.8874512, 0.8856002, 0.89103955, 0.901613, 0.90605974, 0.8883146, 0.8898263, 0.8944206, 0.8891414, 0.8803955, 0.9039347, 0.90137136, 0.9006809, 0.8833719, 0.8988628, 0.9019514, 0.9124601, 0.90291375, 0.91237736, 0.89117974, 0.9028477, 0.90901023, 0.9099809, 0.9002724, 0.91083556, 0.8913913, 0.9090053, 0.87949514, 0.9039506, 0.9111012, 0.88384956, 0.8908566, 0.9097724, 0.91186947, 0.88206536, 0.9127112, 0.879409, 0.878284, 0.90625745, 0.908688, 0.88343996, 0.9093403, 0.89711446, 0.90762794, 0.90118265, 0.89919615, 0.89409935, 0.909045, 0.9106655, 0.91318613, 0.91033167, 0.90914303, 0.9012011, 0.89327043, 0.91074586, 0.88695973, 0.89749426, 0.88996565, 0.8965132, 0.8845775, 0.89246047, 0.90607643, 0.906464, 0.87956023, 0.9115373, 0.8958373, 0.8896399, 0.8864232, 0.8821975, 0.9042445, 0.91160285, 0.8900741, 0.90158844, 0.90210736, 0.8811371, 0.8826348, 0.8932651, 0.9021293, 0.8871917, 0.89058095, 0.9074901, 0.8924916, 0.8780029, 0.8899935, 0.8873864, 0.88781184, 0.8890278, 0.8920697, 0.8784168, 0.8833382, 0.892183, 0.88686234, 0.9028855, 0.90426445, 0.893482, 0.904532, 0.9057695, 0.89724326, 0.8950369, 0.89277, 0.8860297, 0.8945382, 0.89493656, 0.8870644, 0.89761853, 0.88302624, 0.89730227, 0.91166914, 0.8789715, 0.88419527, 0.90996146, 0.8802493, 0.9088686, 0.8969014, 0.88871723, 0.90482575, 0.9136324, 0.9048814, 0.89649856, 0.88230294, 0.897717, 0.9099732, 0.88494706, 0.88084966, 0.9006698, 0.8897671, 0.90047383, 0.8951194, 0.88672525, 0.909538, 0.9070611, 0.8790683, 0.8922278, 0.8856627, 0.9018809, 0.90461713, 0.89138407, 0.9120154, 0.90649885, 0.90860015, 0.87844604, 0.88186353, 0.9045423, 0.90621555, 0.8821166, 0.91304684, 0.88078815, 0.90611744, 0.88107336, 0.9064352, 0.9028815, 0.9017005, 0.8788505, 0.9126935, 0.8900491, 0.9081627, 0.8860316, 0.899869, 0.8809289, 0.9067931, 0.8778672, 0.8978291, 0.8926953, 0.90501434, 0.905131, 0.8908448, 0.9047842, 0.8806016, 0.90579695, 0.8993938, 0.90374273, 0.90086305, 0.8826513, 0.8919555, 0.9127919, 0.8787751, 0.8928043, 0.9115262, 0.9114412, 0.8855645, 0.9075393, 0.8949652, 0.88810825, 0.89499384, 0.9048015, 0.889664, 0.89101267, 0.912378, 0.8828187]\n"
     ]
    }
   ],
   "source": [
    "print(confs)"
   ]
  },
  {
   "cell_type": "code",
   "execution_count": 20,
   "id": "56defe2f",
   "metadata": {},
   "outputs": [],
   "source": [
    "from deepbayesHF.analyzers import decision_veri\n",
    "\n",
    "def predicate_safe(iml, imu, ol, ou):\n",
    "    return True\n",
    "\n",
    "def logit_value(iml, imu, ol, ou):\n",
    "    v1 = tf.one_hot(TRUE_VALUE, depth=10)\n",
    "    v2 = 1 - tf.one_hot(TRUE_VALUE, depth=10)\n",
    "    v1 = tf.squeeze(v1); v2 = tf.squeeze(v2)\n",
    "    worst_case = tf.math.add(tf.math.multiply(v2, ou), tf.math.multiply(v1, ol))\n",
    "    worst_case = tf.nn.softmax(worst_case)\n",
    "    return worst_case[TRUE_VALUE]\n",
    "\n"
   ]
  },
  {
   "cell_type": "code",
   "execution_count": 19,
   "id": "25a10edf",
   "metadata": {},
   "outputs": [
    {
     "name": "stderr",
     "output_type": "stream",
     "text": [
      "Checking Samples: 100%|██████████████████████████████████████████████████████████████████████████████████| 3/3 [00:00<00:00, 88.81it/s]\n"
     ]
    },
    {
     "name": "stdout",
     "output_type": "stream",
     "text": [
      "--  tf.Tensor(0.86458933, shape=(), dtype=float32)\n",
      "--  tf.Tensor(0.86448413, shape=(), dtype=float32)\n",
      "--  tf.Tensor(0.86457497, shape=(), dtype=float32)\n",
      "Found 3 safe intervals\n",
      "About to compute intersection for this many intervals:  3\n",
      "GOT THIS MANY VALUES:  3 [0.86458933 0.86448413 0.86457497]\n"
     ]
    },
    {
     "name": "stderr",
     "output_type": "stream",
     "text": [
      "Computing intersection weights:   0%|                                                                            | 0/3 [00:00<?, ?it/s]/home/matker/.local/lib/python3.8/site-packages/numpy/core/_asarray.py:83: VisibleDeprecationWarning: Creating an ndarray from ragged nested sequences (which is a list-or-tuple of lists-or-tuples-or ndarrays with different lengths or shapes) is deprecated. If you meant to do this, you must specify 'dtype=object' when creating the ndarray\n",
      "  return array(a, dtype, copy=False, order=order)\n",
      "Computing intersection weights: 100%|██████████████████████████████████████████████████████████████████| 3/3 [00:00<00:00, 7210.84it/s]"
     ]
    },
    {
     "name": "stdout",
     "output_type": "stream",
     "text": [
      "Depth 1 has 3 intersections\n"
     ]
    },
    {
     "name": "stderr",
     "output_type": "stream",
     "text": [
      "\n",
      "100%|████████████████████████████████████████████████████████████████████████████████████████████████████| 3/3 [00:06<00:00,  2.19s/it]"
     ]
    },
    {
     "name": "stdout",
     "output_type": "stream",
     "text": [
      "[0.792481328895817, 0.7147631694282518, 0.7600805546117386] [0.86458933 0.86448413 0.86457497]\n",
      "Depth 1 prob:  2.2673250529358073 logit val:  1.9602189434228814\n",
      "Depth 2 has 3 intersections\n"
     ]
    },
    {
     "name": "stderr",
     "output_type": "stream",
     "text": [
      "\n",
      "100%|████████████████████████████████████████████████████████████████████████████████████████████████████| 3/3 [00:06<00:00,  2.28s/it]\n"
     ]
    },
    {
     "name": "stdout",
     "output_type": "stream",
     "text": [
      "Current prob:  0.5499955519463133  Current dec:  0.47544286147438086\n",
      "Depth 3 has 1 intersections\n"
     ]
    },
    {
     "name": "stderr",
     "output_type": "stream",
     "text": [
      "100%|████████████████████████████████████████████████████████████████████████████████████████████████████| 1/1 [00:06<00:00,  6.73s/it]"
     ]
    },
    {
     "name": "stdout",
     "output_type": "stream",
     "text": [
      "Current prob:  0.9843803473559554  Current dec:  0.851001082419317\n",
      "Got this p approx:  0.9843803473559554\n",
      "Got this d approx:  0.851001082419317\n",
      "Final Bound:  0.8377087411122213\n"
     ]
    },
    {
     "name": "stderr",
     "output_type": "stream",
     "text": [
      "\n"
     ]
    }
   ],
   "source": [
    "\n",
    "TRUE_VALUE = y_test[INDEX]\n",
    "MARGIN = 3.0\n",
    "SAMPLES = 3\n",
    "MAXDEPTH = 3\n",
    "img = np.asarray([X_test[INDEX]])\n",
    "img_upper = np.clip(np.asarray([X_test[INDEX]+(EPSILON)]), 0, 1)\n",
    "img_lower = np.clip(np.asarray([X_test[INDEX]-(EPSILON)]), 0, 1)\n",
    "p_lower = decision_veri(bayes_model, img_lower, img_upper, MARGIN, SAMPLES,\n",
    "                        predicate=predicate_safe, value=logit_value, depth=MAXDEPTH)\n",
    "  \n",
    "print(\"Final Bound: \", p_lower)\n",
    "    "
   ]
  },
  {
   "cell_type": "code",
   "execution_count": 21,
   "id": "9493af9e",
   "metadata": {
    "scrolled": true
   },
   "outputs": [
    {
     "name": "stderr",
     "output_type": "stream",
     "text": [
      "Checking Samples:  33%|███████████████████████████▎                                                      | 1/3 [00:00<00:01,  1.25it/s]"
     ]
    },
    {
     "name": "stdout",
     "output_type": "stream",
     "text": [
      "Best Case:  tf.Tensor(0.93999887, shape=(), dtype=float32)\n"
     ]
    },
    {
     "name": "stderr",
     "output_type": "stream",
     "text": [
      "\r",
      "Checking Samples:  67%|██████████████████████████████████████████████████████▋                           | 2/3 [00:01<00:00,  1.28it/s]"
     ]
    },
    {
     "name": "stdout",
     "output_type": "stream",
     "text": [
      "Best Case:  tf.Tensor(0.9399055, shape=(), dtype=float32)\n"
     ]
    },
    {
     "name": "stderr",
     "output_type": "stream",
     "text": [
      "Checking Samples: 100%|██████████████████████████████████████████████████████████████████████████████████| 3/3 [00:02<00:00,  1.20it/s]\n"
     ]
    },
    {
     "name": "stdout",
     "output_type": "stream",
     "text": [
      "Best Case:  tf.Tensor(0.9399459, shape=(), dtype=float32)\n",
      "Found 3 safe intervals\n",
      "About to compute intersection for this many intervals:  3\n",
      "GOT THIS MANY VALUES:  3 [<tf.Tensor: shape=(), dtype=float32, numpy=0.93999887>, <tf.Tensor: shape=(), dtype=float32, numpy=0.9399055>, <tf.Tensor: shape=(), dtype=float32, numpy=0.9399459>]\n"
     ]
    },
    {
     "name": "stderr",
     "output_type": "stream",
     "text": [
      "Computing intersection weights: 100%|█████████████████████████████████████████████████████████████████| 3/3 [00:00<00:00, 39693.73it/s]"
     ]
    },
    {
     "name": "stdout",
     "output_type": "stream",
     "text": [
      "Depth 1 has 3 intersections\n"
     ]
    },
    {
     "name": "stderr",
     "output_type": "stream",
     "text": [
      "\n",
      "100%|████████████████████████████████████████████████████████████████████████████████████████████████████| 3/3 [00:05<00:00,  1.89s/it]"
     ]
    },
    {
     "name": "stdout",
     "output_type": "stream",
     "text": [
      "[0.7829337674303587, 0.7927870327025319, 0.7851447340620342] [<tf.Tensor: shape=(), dtype=float32, numpy=0.93999887>, <tf.Tensor: shape=(), dtype=float32, numpy=0.9399055>, <tf.Tensor: shape=(), dtype=float32, numpy=0.9399459>]\n",
      "Depth 1 prob:  2.3608655341949247 logit val:  2.2190953197630323\n",
      "Depth 2 has 3 intersections\n"
     ]
    },
    {
     "name": "stderr",
     "output_type": "stream",
     "text": [
      "\n",
      "100%|████████████████████████████████████████████████████████████████████████████████████████████████████| 3/3 [00:07<00:00,  2.61s/it]"
     ]
    },
    {
     "name": "stdout",
     "output_type": "stream",
     "text": [
      "Current prob:  0.4962044413706632  Current dec:  0.46634918775411593\n",
      "Depth 3 has 1 intersections\n"
     ]
    },
    {
     "name": "stderr",
     "output_type": "stream",
     "text": [
      "\n",
      "100%|████████████████████████████████████████████████████████████████████████████████████████████████████| 1/1 [00:07<00:00,  7.80s/it]"
     ]
    },
    {
     "name": "stdout",
     "output_type": "stream",
     "text": [
      "Current prob:  0.9888203013409946  Current dec:  0.9293814340801831\n",
      "Got this p approx:  0.9888203013409946\n",
      "Got this d approx:  0.9293814340801831\n",
      "Final Bound:  0.9301709283668979\n"
     ]
    },
    {
     "name": "stderr",
     "output_type": "stream",
     "text": [
      "\n"
     ]
    }
   ],
   "source": [
    "from deepbayesHF.analyzers import decision_veri_upper\n",
    "\n",
    "\n",
    "def logit_value(iml, imu, ol, ou):\n",
    "    v1 = tf.one_hot(TRUE_VALUE, depth=10)\n",
    "    v2 = 1 - tf.one_hot(TRUE_VALUE, depth=10)\n",
    "    v1 = tf.squeeze(v1); v2 = tf.squeeze(v2)\n",
    "    best_case = tf.math.add(tf.math.multiply(v1, ou), tf.math.multiply(v2, ol))\n",
    "    best_case = tf.nn.softmax(best_case)\n",
    "    print(\"Best Case: \", best_case[TRUE_VALUE])\n",
    "    return best_case[TRUE_VALUE]\n",
    "\n",
    "\n",
    "p_upper = decision_veri_upper(bayes_model, img_lower, img_upper, MARGIN, SAMPLES,\n",
    "                        predicate=predicate_safe, value=logit_value, depth=MAXDEPTH)\n",
    "\n",
    "    \n",
    "print(\"Final Bound: \", p_upper)"
   ]
  },
  {
   "cell_type": "code",
   "execution_count": 144,
   "id": "d95eb2fb",
   "metadata": {},
   "outputs": [
    {
     "data": {
      "text/plain": [
       "(0.8, 0.95)"
      ]
     },
     "execution_count": 144,
     "metadata": {},
     "output_type": "execute_result"
    },
    {
     "data": {
      "image/png": "[encoded data removed]",
      "text/plain": [
       "<Figure size 480x960 with 1 Axes>"
      ]
     },
     "metadata": {
      "needs_background": "light"
     },
     "output_type": "display_data"
    }
   ],
   "source": [
    "import matplotlib \n",
    "import matplotlib.pyplot as plt\n",
    "import seaborn as sns\n",
    "sns.set_context('poster')\n",
    "\n",
    "plt.figure(figsize=(4, 8), dpi=120)\n",
    "\n",
    "sns.boxplot(y=confs, color='#7f7faf')\n",
    "plt.title('Decision Robustness')\n",
    "plt.ylabel(r'$\\sigma(f^{w}(x))$')\n",
    "sns.swarmplot(y=confs[0:200], linewidth=1, edgecolor='w', color='#7f7faf')\n",
    "plt.axhline(y=p_upper, color='#6374c9', linestyle='-')\n",
    "plt.axhline(y=p_lower, color='#c95244', linestyle='-')\n",
    "plt.ylim((0.8, 0.95))"
   ]
  },
  {
   "cell_type": "code",
   "execution_count": 64,
   "id": "4324b489",
   "metadata": {},
   "outputs": [
    {
     "data": {
      "image/png": "[encoded data removed]",
      "text/plain": [
       "<Figure size 432x288 with 2 Axes>"
      ]
     },
     "metadata": {
      "needs_background": "light"
     },
     "output_type": "display_data"
    },
    {
     "data": {
      "image/png": "[encoded data removed]",
      "text/plain": [
       "<Figure size 432x288 with 2 Axes>"
      ]
     },
     "metadata": {
      "needs_background": "light"
     },
     "output_type": "display_data"
    }
   ],
   "source": [
    "plt.imshow(np.clip(X_test[INDEX].reshape(28,28)-0.25, 0, 1), cmap='Greys')\n",
    "ax = plt.gca()\n",
    "ax.axes.xaxis.set_visible(False)\n",
    "ax.axes.yaxis.set_visible(False)\n",
    "c = plt.colorbar()\n",
    "plt.clim(0.0, 1.0) \n",
    "plt.show()\n",
    "\n",
    "plt.imshow(np.clip(X_test[INDEX].reshape(28,28)+0.25, 0, 1), cmap='Greys')\n",
    "ax = plt.gca()\n",
    "ax.axes.xaxis.set_visible(False)\n",
    "ax.axes.yaxis.set_visible(False)\n",
    "c = plt.colorbar()\n",
    "plt.clim(0.0, 1.0) \n",
    "plt.show()"
   ]
  },
  {
   "cell_type": "code",
   "execution_count": 201,
   "id": "71fd789c",
   "metadata": {},
   "outputs": [],
   "source": [
    "MSR = []"
   ]
  },
  {
   "cell_type": "code",
   "execution_count": 202,
   "id": "f1732fa2",
   "metadata": {},
   "outputs": [
    {
     "name": "stderr",
     "output_type": "stream",
     "text": [
      "  3%|██▊                                                                                                | 1/35 [00:02<01:41,  2.98s/it]"
     ]
    },
    {
     "name": "stdout",
     "output_type": "stream",
     "text": [
      "0.330039989759072 0\n"
     ]
    },
    {
     "name": "stderr",
     "output_type": "stream",
     "text": [
      "\r",
      "  6%|█████▋                                                                                             | 2/35 [00:07<02:05,  3.79s/it]"
     ]
    },
    {
     "name": "stdout",
     "output_type": "stream",
     "text": [
      "0.4450289882480426 0\n"
     ]
    },
    {
     "name": "stderr",
     "output_type": "stream",
     "text": [
      "\r",
      "  9%|████████▍                                                                                          | 3/35 [00:10<01:48,  3.40s/it]"
     ]
    },
    {
     "name": "stdout",
     "output_type": "stream",
     "text": [
      "0.3075556473542952 0\n"
     ]
    },
    {
     "name": "stderr",
     "output_type": "stream",
     "text": [
      "\r",
      " 11%|███████████▎                                                                                       | 4/35 [00:14<01:57,  3.78s/it]"
     ]
    },
    {
     "name": "stdout",
     "output_type": "stream",
     "text": [
      "0.44740070086245154 0\n"
     ]
    },
    {
     "name": "stderr",
     "output_type": "stream",
     "text": [
      "\r",
      " 14%|██████████████▏                                                                                    | 5/35 [00:17<01:47,  3.57s/it]"
     ]
    },
    {
     "name": "stdout",
     "output_type": "stream",
     "text": [
      "0.31990109420774715 0\n"
     ]
    },
    {
     "name": "stderr",
     "output_type": "stream",
     "text": [
      "\r",
      " 17%|████████████████▉                                                                                  | 6/35 [00:20<01:37,  3.36s/it]"
     ]
    },
    {
     "name": "stdout",
     "output_type": "stream",
     "text": [
      "0.31006434587903653 0\n"
     ]
    },
    {
     "name": "stderr",
     "output_type": "stream",
     "text": [
      "\r",
      " 20%|███████████████████▊                                                                               | 7/35 [00:25<01:43,  3.69s/it]"
     ]
    },
    {
     "name": "stdout",
     "output_type": "stream",
     "text": [
      "0.43131252126271136 0\n"
     ]
    },
    {
     "name": "stderr",
     "output_type": "stream",
     "text": [
      "\r",
      " 23%|██████████████████████▋                                                                            | 8/35 [00:28<01:33,  3.46s/it]"
     ]
    },
    {
     "name": "stdout",
     "output_type": "stream",
     "text": [
      "0.2949526824437154 0\n"
     ]
    },
    {
     "name": "stderr",
     "output_type": "stream",
     "text": [
      "\r",
      " 26%|█████████████████████████▍                                                                         | 9/35 [00:31<01:25,  3.30s/it]"
     ]
    },
    {
     "name": "stdout",
     "output_type": "stream",
     "text": [
      "0.3490496882242883 0\n"
     ]
    },
    {
     "name": "stderr",
     "output_type": "stream",
     "text": [
      "\r",
      " 29%|████████████████████████████                                                                      | 10/35 [00:34<01:19,  3.20s/it]"
     ]
    },
    {
     "name": "stdout",
     "output_type": "stream",
     "text": [
      "0.32183076571466307 0\n"
     ]
    },
    {
     "name": "stderr",
     "output_type": "stream",
     "text": [
      "\r",
      " 31%|██████████████████████████████▊                                                                   | 11/35 [00:38<01:25,  3.56s/it]"
     ]
    },
    {
     "name": "stdout",
     "output_type": "stream",
     "text": [
      "0.43956887026668867 0\n"
     ]
    },
    {
     "name": "stderr",
     "output_type": "stream",
     "text": [
      "\r",
      " 34%|█████████████████████████████████▌                                                                | 12/35 [00:42<01:27,  3.81s/it]"
     ]
    },
    {
     "name": "stdout",
     "output_type": "stream",
     "text": [
      "0.41206153168090986 0\n"
     ]
    },
    {
     "name": "stderr",
     "output_type": "stream",
     "text": [
      "\r",
      " 37%|████████████████████████████████████▍                                                             | 13/35 [00:47<01:27,  3.98s/it]"
     ]
    },
    {
     "name": "stdout",
     "output_type": "stream",
     "text": [
      "0.4191641176143469 0\n"
     ]
    },
    {
     "name": "stderr",
     "output_type": "stream",
     "text": [
      "\r",
      " 40%|███████████████████████████████████████▏                                                          | 14/35 [00:51<01:26,  4.10s/it]"
     ]
    },
    {
     "name": "stdout",
     "output_type": "stream",
     "text": [
      "0.43332930669610414 0\n"
     ]
    },
    {
     "name": "stderr",
     "output_type": "stream",
     "text": [
      "\r",
      " 43%|██████████████████████████████████████████                                                        | 15/35 [00:54<01:15,  3.76s/it]"
     ]
    },
    {
     "name": "stdout",
     "output_type": "stream",
     "text": [
      "0.3336230068706638 0\n"
     ]
    },
    {
     "name": "stderr",
     "output_type": "stream",
     "text": [
      "\r",
      " 46%|████████████████████████████████████████████▊                                                     | 16/35 [00:58<01:14,  3.95s/it]"
     ]
    },
    {
     "name": "stdout",
     "output_type": "stream",
     "text": [
      "0.43848971298105177 0\n"
     ]
    },
    {
     "name": "stderr",
     "output_type": "stream",
     "text": [
      "\r",
      " 49%|███████████████████████████████████████████████▌                                                  | 17/35 [01:01<01:05,  3.66s/it]"
     ]
    },
    {
     "name": "stdout",
     "output_type": "stream",
     "text": [
      "0.3342303971920234 0\n"
     ]
    },
    {
     "name": "stderr",
     "output_type": "stream",
     "text": [
      "\r",
      " 51%|██████████████████████████████████████████████████▍                                               | 18/35 [01:04<00:58,  3.45s/it]"
     ]
    },
    {
     "name": "stdout",
     "output_type": "stream",
     "text": [
      "0.31890875909691424 0\n"
     ]
    },
    {
     "name": "stderr",
     "output_type": "stream",
     "text": [
      "\r",
      " 54%|█████████████████████████████████████████████████████▏                                            | 19/35 [01:07<00:52,  3.30s/it]"
     ]
    },
    {
     "name": "stdout",
     "output_type": "stream",
     "text": [
      "0.3099675078113581 0\n"
     ]
    },
    {
     "name": "stderr",
     "output_type": "stream",
     "text": [
      "\r",
      " 57%|████████████████████████████████████████████████████████                                          | 20/35 [01:10<00:48,  3.20s/it]"
     ]
    },
    {
     "name": "stdout",
     "output_type": "stream",
     "text": [
      "0.309106784995161 0\n"
     ]
    },
    {
     "name": "stderr",
     "output_type": "stream",
     "text": [
      "\r",
      " 60%|██████████████████████████████████████████████████████████▊                                       | 21/35 [01:13<00:43,  3.13s/it]"
     ]
    },
    {
     "name": "stdout",
     "output_type": "stream",
     "text": [
      "0.3250617602330835 0\n"
     ]
    },
    {
     "name": "stderr",
     "output_type": "stream",
     "text": [
      "\r",
      " 63%|█████████████████████████████████████████████████████████████▌                                    | 22/35 [01:16<00:40,  3.08s/it]"
     ]
    },
    {
     "name": "stdout",
     "output_type": "stream",
     "text": [
      "0.29983048781682653 0\n"
     ]
    },
    {
     "name": "stderr",
     "output_type": "stream",
     "text": [
      "\r",
      " 66%|████████████████████████████████████████████████████████████████▍                                 | 23/35 [01:21<00:41,  3.47s/it]"
     ]
    },
    {
     "name": "stdout",
     "output_type": "stream",
     "text": [
      "0.3535538739207995 0\n"
     ]
    },
    {
     "name": "stderr",
     "output_type": "stream",
     "text": [
      "\r",
      " 69%|███████████████████████████████████████████████████████████████████▏                              | 24/35 [01:25<00:41,  3.74s/it]"
     ]
    },
    {
     "name": "stdout",
     "output_type": "stream",
     "text": [
      "0.378440387655276 0\n"
     ]
    },
    {
     "name": "stderr",
     "output_type": "stream",
     "text": [
      "\r",
      " 71%|██████████████████████████████████████████████████████████████████████                            | 25/35 [01:28<00:35,  3.51s/it]"
     ]
    },
    {
     "name": "stdout",
     "output_type": "stream",
     "text": [
      "0.29190205592873575 0\n"
     ]
    },
    {
     "name": "stderr",
     "output_type": "stream",
     "text": [
      "\r",
      " 74%|████████████████████████████████████████████████████████████████████████▊                         | 26/35 [01:32<00:34,  3.79s/it]"
     ]
    },
    {
     "name": "stdout",
     "output_type": "stream",
     "text": [
      "0.4034140197981584 0\n"
     ]
    },
    {
     "name": "stderr",
     "output_type": "stream",
     "text": [
      "\r",
      " 77%|███████████████████████████████████████████████████████████████████████████▌                      | 27/35 [01:37<00:31,  3.97s/it]"
     ]
    },
    {
     "name": "stdout",
     "output_type": "stream",
     "text": [
      "0.3784339629558985 0\n"
     ]
    },
    {
     "name": "stderr",
     "output_type": "stream",
     "text": [
      "\r",
      " 80%|██████████████████████████████████████████████████████████████████████████████▍                   | 28/35 [01:41<00:28,  4.09s/it]"
     ]
    },
    {
     "name": "stdout",
     "output_type": "stream",
     "text": [
      "0.373627334146841 0\n"
     ]
    },
    {
     "name": "stderr",
     "output_type": "stream",
     "text": [
      "\r",
      " 83%|█████████████████████████████████████████████████████████████████████████████████▏                | 29/35 [01:44<00:22,  3.75s/it]"
     ]
    },
    {
     "name": "stdout",
     "output_type": "stream",
     "text": [
      "0.34630180940098787 0\n"
     ]
    },
    {
     "name": "stderr",
     "output_type": "stream",
     "text": [
      "\r",
      " 86%|████████████████████████████████████████████████████████████████████████████████████              | 30/35 [01:47<00:17,  3.51s/it]"
     ]
    },
    {
     "name": "stdout",
     "output_type": "stream",
     "text": [
      "0.30166563263288826 0\n"
     ]
    },
    {
     "name": "stderr",
     "output_type": "stream",
     "text": [
      "\r",
      " 89%|██████████████████████████████████████████████████████████████████████████████████████▊           | 31/35 [01:50<00:13,  3.35s/it]"
     ]
    },
    {
     "name": "stdout",
     "output_type": "stream",
     "text": [
      "0.32864165986170574 0\n"
     ]
    },
    {
     "name": "stderr",
     "output_type": "stream",
     "text": [
      "\r",
      " 91%|█████████████████████████████████████████████████████████████████████████████████████████▌        | 32/35 [01:54<00:10,  3.65s/it]"
     ]
    },
    {
     "name": "stdout",
     "output_type": "stream",
     "text": [
      "0.43989326794152706 0\n"
     ]
    },
    {
     "name": "stderr",
     "output_type": "stream",
     "text": [
      "\r",
      " 94%|████████████████████████████████████████████████████████████████████████████████████████████▍     | 33/35 [01:57<00:06,  3.44s/it]"
     ]
    },
    {
     "name": "stdout",
     "output_type": "stream",
     "text": [
      "0.299644660976919 0\n"
     ]
    },
    {
     "name": "stderr",
     "output_type": "stream",
     "text": [
      "\r",
      " 97%|███████████████████████████████████████████████████████████████████████████████████████████████▏  | 34/35 [02:00<00:03,  3.30s/it]"
     ]
    },
    {
     "name": "stdout",
     "output_type": "stream",
     "text": [
      "0.29521420792162956 0\n"
     ]
    },
    {
     "name": "stderr",
     "output_type": "stream",
     "text": [
      "100%|██████████████████████████████████████████████████████████████████████████████████████████████████| 35/35 [02:03<00:00,  3.54s/it]"
     ]
    },
    {
     "name": "stdout",
     "output_type": "stream",
     "text": [
      "0.3079481660971564 0\n"
     ]
    },
    {
     "name": "stderr",
     "output_type": "stream",
     "text": [
      "\n"
     ]
    }
   ],
   "source": [
    "INDEX = 7\n",
    "EPSILON = 0.15\n",
    "bayes_model.input_lower = 0; bayes_model.input_upper = 1.0\n",
    "for E in trange(35):\n",
    "    for i in range(5):\n",
    "        eps = EPSILON + random.uniform(0.1*i, (0.1*(i+1)))\n",
    "        x_adv = FGSM(bayes_model, np.asarray([X_test[INDEX]]), loss, eps, direction=-1, num_models=1, order=1, samples=15)\n",
    "        est = 0\n",
    "        for j in range(100):\n",
    "            bayes_model.model.set_weights(bayes_model.sample())\n",
    "            y = bayes_model._predict(np.asarray([x_adv]))\n",
    "            if(np.argmax(y) == TRUE_VALUE):\n",
    "                est += 1\n",
    "            if(est > 51):\n",
    "                break\n",
    "        if(j == 99):\n",
    "            print(eps, est)\n",
    "            MSR.append(eps)\n",
    "            break"
   ]
  },
  {
   "cell_type": "code",
   "execution_count": 203,
   "id": "b2ec355f",
   "metadata": {},
   "outputs": [
    {
     "name": "stdout",
     "output_type": "stream",
     "text": [
      "[0.330039989759072, 0.4450289882480426, 0.3075556473542952, 0.44740070086245154, 0.31990109420774715, 0.31006434587903653, 0.43131252126271136, 0.2949526824437154, 0.3490496882242883, 0.32183076571466307, 0.43956887026668867, 0.41206153168090986, 0.4191641176143469, 0.43332930669610414, 0.3336230068706638, 0.43848971298105177, 0.3342303971920234, 0.31890875909691424, 0.3099675078113581, 0.309106784995161, 0.3250617602330835, 0.29983048781682653, 0.3535538739207995, 0.378440387655276, 0.29190205592873575, 0.4034140197981584, 0.3784339629558985, 0.373627334146841, 0.34630180940098787, 0.30166563263288826, 0.32864165986170574, 0.43989326794152706, 0.299644660976919, 0.29521420792162956, 0.3079481660971564]\n"
     ]
    }
   ],
   "source": [
    "print(MSR)"
   ]
  },
  {
   "cell_type": "code",
   "execution_count": 121,
   "id": "ac9bab95",
   "metadata": {},
   "outputs": [
    {
     "name": "stdout",
     "output_type": "stream",
     "text": [
      "[0.37, 0.43, 0.62, 0.395, 0.38]\n"
     ]
    }
   ],
   "source": [
    "print(ests)"
   ]
  },
  {
   "cell_type": "code",
   "execution_count": 124,
   "id": "a5ded72c",
   "metadata": {},
   "outputs": [
    {
     "name": "stderr",
     "output_type": "stream",
     "text": [
      "Checking Samples: 100%|█████████████████████████████████████████████████████████████████████████████████| 3/3 [00:00<00:00, 122.45it/s]\n"
     ]
    },
    {
     "name": "stdout",
     "output_type": "stream",
     "text": [
      "Found 3 safe intervals\n",
      "About to compute intersection for this many intervals:  3\n"
     ]
    },
    {
     "name": "stderr",
     "output_type": "stream",
     "text": [
      "Computing intersection weights: 100%|█████████████████████████████████████████████████████████████████| 3/3 [00:00<00:00, 38597.89it/s]"
     ]
    },
    {
     "name": "stdout",
     "output_type": "stream",
     "text": [
      "Depth 1 has 3 intersections\n"
     ]
    },
    {
     "name": "stderr",
     "output_type": "stream",
     "text": [
      "\n",
      "100%|████████████████████████████████████████████████████████████████████████████████████████████████████| 3/3 [00:06<00:00,  2.23s/it]"
     ]
    },
    {
     "name": "stdout",
     "output_type": "stream",
     "text": [
      "Depth 1 prob:  2.3039518347357757\n",
      "Depth 2 has 3 intersections\n"
     ]
    },
    {
     "name": "stderr",
     "output_type": "stream",
     "text": [
      "\n",
      "100%|████████████████████████████████████████████████████████████████████████████████████████████████████| 3/3 [00:07<00:00,  2.40s/it]"
     ]
    },
    {
     "name": "stdout",
     "output_type": "stream",
     "text": [
      "Depth 2 prob: -1.774289186634383\n",
      "Current approximation: 0.5296626481013926\n",
      "Depth 2 prob::  0.5296626481013926\n",
      "Depth 3 has 1 intersections\n"
     ]
    },
    {
     "name": "stderr",
     "output_type": "stream",
     "text": [
      "\n",
      "100%|████████████████████████████████████████████████████████████████████████████████████████████████████| 1/1 [00:06<00:00,  6.77s/it]\n"
     ]
    },
    {
     "name": "stdout",
     "output_type": "stream",
     "text": [
      "Depth 3 prob: 0.45667536656658914\n",
      "Current approximation: 0.9863380146679818\n",
      "Got this approximation:  0.9863380146679818\n"
     ]
    },
    {
     "name": "stderr",
     "output_type": "stream",
     "text": [
      "Checking Samples: 100%|█████████████████████████████████████████████████████████████████████████████████| 3/3 [00:00<00:00, 141.53it/s]\n"
     ]
    },
    {
     "name": "stdout",
     "output_type": "stream",
     "text": [
      "Found 3 safe intervals\n",
      "About to compute intersection for this many intervals:  3\n"
     ]
    },
    {
     "name": "stderr",
     "output_type": "stream",
     "text": [
      "Computing intersection weights: 100%|███████████████████████████████████████████████████████████████████| 3/3 [00:00<00:00, 743.01it/s]"
     ]
    },
    {
     "name": "stdout",
     "output_type": "stream",
     "text": [
      "Depth 1 has 3 intersections\n"
     ]
    },
    {
     "name": "stderr",
     "output_type": "stream",
     "text": [
      "\n",
      "100%|████████████████████████████████████████████████████████████████████████████████████████████████████| 3/3 [00:06<00:00,  2.18s/it]"
     ]
    },
    {
     "name": "stdout",
     "output_type": "stream",
     "text": [
      "Depth 1 prob:  2.2237617643652756\n",
      "Depth 2 has 3 intersections\n"
     ]
    },
    {
     "name": "stderr",
     "output_type": "stream",
     "text": [
      "\n",
      "100%|████████████████████████████████████████████████████████████████████████████████████████████████████| 3/3 [00:06<00:00,  2.31s/it]"
     ]
    },
    {
     "name": "stdout",
     "output_type": "stream",
     "text": [
      "Depth 2 prob: -1.6527779152388695\n",
      "Current approximation: 0.5709838491264061\n",
      "Depth 2 prob::  0.5709838491264061\n",
      "Depth 3 has 1 intersections\n"
     ]
    },
    {
     "name": "stderr",
     "output_type": "stream",
     "text": [
      "\n",
      "100%|████████████████████████████████████████████████████████████████████████████████████████████████████| 1/1 [00:07<00:00,  7.65s/it]\n"
     ]
    },
    {
     "name": "stdout",
     "output_type": "stream",
     "text": [
      "Depth 3 prob: 0.4104821215978743\n",
      "Current approximation: 0.9814659707242803\n",
      "Got this approximation:  0.9814659707242803\n"
     ]
    },
    {
     "name": "stderr",
     "output_type": "stream",
     "text": [
      "Checking Samples: 100%|█████████████████████████████████████████████████████████████████████████████████| 3/3 [00:00<00:00, 102.15it/s]\n"
     ]
    },
    {
     "name": "stdout",
     "output_type": "stream",
     "text": [
      "Found 0 safe intervals\n",
      "About to compute intersection for this many intervals:  0\n"
     ]
    },
    {
     "name": "stderr",
     "output_type": "stream",
     "text": [
      "Computing intersection weights: 0it [00:00, ?it/s]"
     ]
    },
    {
     "name": "stdout",
     "output_type": "stream",
     "text": [
      "Depth 1 has 0 intersections\n"
     ]
    },
    {
     "name": "stderr",
     "output_type": "stream",
     "text": [
      "\n",
      "0it [00:00, ?it/s]"
     ]
    },
    {
     "name": "stdout",
     "output_type": "stream",
     "text": [
      "Depth 1 prob:  0\n",
      "Depth 2 has 0 intersections\n"
     ]
    },
    {
     "name": "stderr",
     "output_type": "stream",
     "text": [
      "\n",
      "0it [00:00, ?it/s]"
     ]
    },
    {
     "name": "stdout",
     "output_type": "stream",
     "text": [
      "Depth 2 prob: 0\n",
      "Current approximation: 0\n",
      "Depth 2 prob::  0\n",
      "Depth 3 has 0 intersections\n"
     ]
    },
    {
     "name": "stderr",
     "output_type": "stream",
     "text": [
      "\n",
      "0it [00:00, ?it/s]\n"
     ]
    },
    {
     "name": "stdout",
     "output_type": "stream",
     "text": [
      "Depth 3 prob: 0\n",
      "Current approximation: 0\n",
      "Got this approximation:  0\n"
     ]
    },
    {
     "name": "stderr",
     "output_type": "stream",
     "text": [
      "Checking Samples: 100%|█████████████████████████████████████████████████████████████████████████████████| 3/3 [00:00<00:00, 108.51it/s]\n"
     ]
    },
    {
     "name": "stdout",
     "output_type": "stream",
     "text": [
      "Found 0 safe intervals\n",
      "About to compute intersection for this many intervals:  0\n"
     ]
    },
    {
     "name": "stderr",
     "output_type": "stream",
     "text": [
      "Computing intersection weights: 0it [00:00, ?it/s]"
     ]
    },
    {
     "name": "stdout",
     "output_type": "stream",
     "text": [
      "Depth 1 has 0 intersections\n"
     ]
    },
    {
     "name": "stderr",
     "output_type": "stream",
     "text": [
      "\n",
      "0it [00:00, ?it/s]"
     ]
    },
    {
     "name": "stdout",
     "output_type": "stream",
     "text": [
      "Depth 1 prob:  0\n",
      "Depth 2 has 0 intersections\n"
     ]
    },
    {
     "name": "stderr",
     "output_type": "stream",
     "text": [
      "\n",
      "0it [00:00, ?it/s]"
     ]
    },
    {
     "name": "stdout",
     "output_type": "stream",
     "text": [
      "Depth 2 prob: 0\n",
      "Current approximation: 0\n",
      "Depth 2 prob::  0\n",
      "Depth 3 has 0 intersections\n"
     ]
    },
    {
     "name": "stderr",
     "output_type": "stream",
     "text": [
      "\n",
      "0it [00:00, ?it/s]\n"
     ]
    },
    {
     "name": "stdout",
     "output_type": "stream",
     "text": [
      "Depth 3 prob: 0\n",
      "Current approximation: 0\n",
      "Got this approximation:  0\n"
     ]
    },
    {
     "name": "stderr",
     "output_type": "stream",
     "text": [
      "Checking Samples: 100%|█████████████████████████████████████████████████████████████████████████████████| 3/3 [00:00<00:00, 158.97it/s]\n"
     ]
    },
    {
     "name": "stdout",
     "output_type": "stream",
     "text": [
      "Found 0 safe intervals\n",
      "About to compute intersection for this many intervals:  0\n"
     ]
    },
    {
     "name": "stderr",
     "output_type": "stream",
     "text": [
      "Computing intersection weights: 0it [00:00, ?it/s]"
     ]
    },
    {
     "name": "stdout",
     "output_type": "stream",
     "text": [
      "Depth 1 has 0 intersections\n"
     ]
    },
    {
     "name": "stderr",
     "output_type": "stream",
     "text": [
      "\n",
      "0it [00:00, ?it/s]"
     ]
    },
    {
     "name": "stdout",
     "output_type": "stream",
     "text": [
      "Depth 1 prob:  0\n",
      "Depth 2 has 0 intersections\n"
     ]
    },
    {
     "name": "stderr",
     "output_type": "stream",
     "text": [
      "\n",
      "0it [00:00, ?it/s]"
     ]
    },
    {
     "name": "stdout",
     "output_type": "stream",
     "text": [
      "Depth 2 prob: 0\n",
      "Current approximation: 0\n",
      "Depth 2 prob::  0\n",
      "Depth 3 has 0 intersections\n"
     ]
    },
    {
     "name": "stderr",
     "output_type": "stream",
     "text": [
      "\n",
      "0it [00:00, ?it/s]\n"
     ]
    },
    {
     "name": "stdout",
     "output_type": "stream",
     "text": [
      "Depth 3 prob: 0\n",
      "Current approximation: 0\n",
      "Got this approximation:  0\n"
     ]
    },
    {
     "name": "stderr",
     "output_type": "stream",
     "text": [
      "Checking Samples: 100%|█████████████████████████████████████████████████████████████████████████████████| 3/3 [00:00<00:00, 105.72it/s]\n"
     ]
    },
    {
     "name": "stdout",
     "output_type": "stream",
     "text": [
      "Found 0 safe intervals\n",
      "About to compute intersection for this many intervals:  0\n"
     ]
    },
    {
     "name": "stderr",
     "output_type": "stream",
     "text": [
      "Computing intersection weights: 0it [00:00, ?it/s]"
     ]
    },
    {
     "name": "stdout",
     "output_type": "stream",
     "text": [
      "Depth 1 has 0 intersections\n"
     ]
    },
    {
     "name": "stderr",
     "output_type": "stream",
     "text": [
      "\n",
      "0it [00:00, ?it/s]"
     ]
    },
    {
     "name": "stdout",
     "output_type": "stream",
     "text": [
      "Depth 1 prob:  0\n",
      "Depth 2 has 0 intersections\n"
     ]
    },
    {
     "name": "stderr",
     "output_type": "stream",
     "text": [
      "\n",
      "0it [00:00, ?it/s]"
     ]
    },
    {
     "name": "stdout",
     "output_type": "stream",
     "text": [
      "Depth 2 prob: 0\n",
      "Current approximation: 0\n",
      "Depth 2 prob::  0\n",
      "Depth 3 has 0 intersections\n"
     ]
    },
    {
     "name": "stderr",
     "output_type": "stream",
     "text": [
      "\n",
      "0it [00:00, ?it/s]\n"
     ]
    },
    {
     "name": "stdout",
     "output_type": "stream",
     "text": [
      "Depth 3 prob: 0\n",
      "Current approximation: 0\n",
      "Got this approximation:  0\n"
     ]
    },
    {
     "name": "stderr",
     "output_type": "stream",
     "text": [
      "Checking Samples: 100%|█████████████████████████████████████████████████████████████████████████████████| 3/3 [00:00<00:00, 165.17it/s]\n"
     ]
    },
    {
     "name": "stdout",
     "output_type": "stream",
     "text": [
      "Found 0 safe intervals\n",
      "About to compute intersection for this many intervals:  0\n"
     ]
    },
    {
     "name": "stderr",
     "output_type": "stream",
     "text": [
      "Computing intersection weights: 0it [00:00, ?it/s]"
     ]
    },
    {
     "name": "stdout",
     "output_type": "stream",
     "text": [
      "Depth 1 has 0 intersections\n"
     ]
    },
    {
     "name": "stderr",
     "output_type": "stream",
     "text": [
      "\n",
      "0it [00:00, ?it/s]"
     ]
    },
    {
     "name": "stdout",
     "output_type": "stream",
     "text": [
      "Depth 1 prob:  0\n",
      "Depth 2 has 0 intersections\n"
     ]
    },
    {
     "name": "stderr",
     "output_type": "stream",
     "text": [
      "\n",
      "0it [00:00, ?it/s]"
     ]
    },
    {
     "name": "stdout",
     "output_type": "stream",
     "text": [
      "Depth 2 prob: 0\n",
      "Current approximation: 0\n",
      "Depth 2 prob::  0\n",
      "Depth 3 has 0 intersections\n"
     ]
    },
    {
     "name": "stderr",
     "output_type": "stream",
     "text": [
      "\n",
      "0it [00:00, ?it/s]"
     ]
    },
    {
     "name": "stdout",
     "output_type": "stream",
     "text": [
      "Depth 3 prob: 0\n",
      "Current approximation: 0\n",
      "Got this approximation:  0\n"
     ]
    },
    {
     "name": "stderr",
     "output_type": "stream",
     "text": [
      "\n"
     ]
    }
   ],
   "source": [
    "from deepbayesHF.analyzers import prob_veri \n",
    "\n",
    "MARGIN = 1.0\n",
    "SAMPLES = \n",
    "def predicate_safe(iml, imu, ol, ou):\n",
    "    v1 = tf.one_hot(TRUE_VALUE, depth=10)\n",
    "    v2 = 1 - tf.one_hot(TRUE_VALUE, depth=10)\n",
    "    v1 = tf.squeeze(v1); v2 = tf.squeeze(v2)\n",
    "    worst_case = tf.math.add(tf.math.multiply(v2, ou), tf.math.multiply(v1, ol))\n",
    "    if(np.argmax(worst_case) == TRUE_VALUE):\n",
    "        return True\n",
    "    else:\n",
    "        return False\n",
    "\n",
    "lowers = []\n",
    "epsilons = [0.01, 0.05, 0.1, 0.25, 0.5, 0.75, 1.0]\n",
    "for EPSILON in epsilons:\n",
    "    img = np.asarray([X_test[INDEX]])\n",
    "    img_upper = np.clip(np.asarray([X_test[INDEX]+(EPSILON)]), 0, 1)\n",
    "    img_lower = np.clip(np.asarray([X_test[INDEX]-(EPSILON)]), 0, 1)\n",
    "    p_lower = prob_veri(bayes_model, img_lower, img_upper, MARGIN, SAMPLES, predicate=predicate_safe, depth=MAXDEPTH)\n",
    "    lowers.append(p_lower)"
   ]
  },
  {
   "cell_type": "code",
   "execution_count": 125,
   "id": "a43845f7",
   "metadata": {},
   "outputs": [
    {
     "name": "stderr",
     "output_type": "stream",
     "text": [
      "Checking Samples: 100%|██████████████████████████████████████████████████████████████████████████████████| 3/3 [00:06<00:00,  2.24s/it]\n"
     ]
    },
    {
     "name": "stdout",
     "output_type": "stream",
     "text": [
      "Found 0 safe intervals\n",
      "About to compute intersection for this many intervals:  0\n"
     ]
    },
    {
     "name": "stderr",
     "output_type": "stream",
     "text": [
      "Computing intersection weights: 0it [00:00, ?it/s]"
     ]
    },
    {
     "name": "stdout",
     "output_type": "stream",
     "text": [
      "Depth 1 has 0 intersections\n"
     ]
    },
    {
     "name": "stderr",
     "output_type": "stream",
     "text": [
      "\n",
      "0it [00:00, ?it/s]"
     ]
    },
    {
     "name": "stdout",
     "output_type": "stream",
     "text": [
      "Depth 1 prob:  0\n",
      "Depth 2 has 0 intersections\n"
     ]
    },
    {
     "name": "stderr",
     "output_type": "stream",
     "text": [
      "\n",
      "0it [00:00, ?it/s]"
     ]
    },
    {
     "name": "stdout",
     "output_type": "stream",
     "text": [
      "Depth 2 prob: 0\n",
      "Current approximation: 0\n",
      "Depth 2 prob::  0\n",
      "Depth 3 has 0 intersections\n"
     ]
    },
    {
     "name": "stderr",
     "output_type": "stream",
     "text": [
      "\n",
      "0it [00:00, ?it/s]\n"
     ]
    },
    {
     "name": "stdout",
     "output_type": "stream",
     "text": [
      "Depth 3 prob: 0\n",
      "Current approximation: 0\n",
      "Got this approximation:  0\n"
     ]
    },
    {
     "name": "stderr",
     "output_type": "stream",
     "text": [
      "Checking Samples: 100%|██████████████████████████████████████████████████████████████████████████████████| 3/3 [00:08<00:00,  2.74s/it]\n"
     ]
    },
    {
     "name": "stdout",
     "output_type": "stream",
     "text": [
      "Found 0 safe intervals\n",
      "About to compute intersection for this many intervals:  0\n"
     ]
    },
    {
     "name": "stderr",
     "output_type": "stream",
     "text": [
      "Computing intersection weights: 0it [00:00, ?it/s]"
     ]
    },
    {
     "name": "stdout",
     "output_type": "stream",
     "text": [
      "Depth 1 has 0 intersections\n"
     ]
    },
    {
     "name": "stderr",
     "output_type": "stream",
     "text": [
      "\n",
      "0it [00:00, ?it/s]"
     ]
    },
    {
     "name": "stdout",
     "output_type": "stream",
     "text": [
      "Depth 1 prob:  0\n",
      "Depth 2 has 0 intersections\n"
     ]
    },
    {
     "name": "stderr",
     "output_type": "stream",
     "text": [
      "\n",
      "0it [00:00, ?it/s]"
     ]
    },
    {
     "name": "stdout",
     "output_type": "stream",
     "text": [
      "Depth 2 prob: 0\n",
      "Current approximation: 0\n",
      "Depth 2 prob::  0\n",
      "Depth 3 has 0 intersections\n"
     ]
    },
    {
     "name": "stderr",
     "output_type": "stream",
     "text": [
      "\n",
      "0it [00:00, ?it/s]\n"
     ]
    },
    {
     "name": "stdout",
     "output_type": "stream",
     "text": [
      "Depth 3 prob: 0\n",
      "Current approximation: 0\n",
      "Got this approximation:  0\n"
     ]
    },
    {
     "name": "stderr",
     "output_type": "stream",
     "text": [
      "Checking Samples: 100%|██████████████████████████████████████████████████████████████████████████████████| 3/3 [00:07<00:00,  2.37s/it]\n"
     ]
    },
    {
     "name": "stdout",
     "output_type": "stream",
     "text": [
      "Found 0 safe intervals\n",
      "About to compute intersection for this many intervals:  0\n"
     ]
    },
    {
     "name": "stderr",
     "output_type": "stream",
     "text": [
      "Computing intersection weights: 0it [00:00, ?it/s]"
     ]
    },
    {
     "name": "stdout",
     "output_type": "stream",
     "text": [
      "Depth 1 has 0 intersections\n"
     ]
    },
    {
     "name": "stderr",
     "output_type": "stream",
     "text": [
      "\n",
      "0it [00:00, ?it/s]"
     ]
    },
    {
     "name": "stdout",
     "output_type": "stream",
     "text": [
      "Depth 1 prob:  0\n",
      "Depth 2 has 0 intersections\n"
     ]
    },
    {
     "name": "stderr",
     "output_type": "stream",
     "text": [
      "\n",
      "0it [00:00, ?it/s]"
     ]
    },
    {
     "name": "stdout",
     "output_type": "stream",
     "text": [
      "Depth 2 prob: 0\n",
      "Current approximation: 0\n",
      "Depth 2 prob::  0\n",
      "Depth 3 has 0 intersections\n"
     ]
    },
    {
     "name": "stderr",
     "output_type": "stream",
     "text": [
      "\n",
      "0it [00:00, ?it/s]\n"
     ]
    },
    {
     "name": "stdout",
     "output_type": "stream",
     "text": [
      "Depth 3 prob: 0\n",
      "Current approximation: 0\n",
      "Got this approximation:  0\n"
     ]
    },
    {
     "name": "stderr",
     "output_type": "stream",
     "text": [
      "Checking Samples: 100%|██████████████████████████████████████████████████████████████████████████████████| 3/3 [00:07<00:00,  2.51s/it]\n"
     ]
    },
    {
     "name": "stdout",
     "output_type": "stream",
     "text": [
      "Found 0 safe intervals\n",
      "About to compute intersection for this many intervals:  0\n"
     ]
    },
    {
     "name": "stderr",
     "output_type": "stream",
     "text": [
      "Computing intersection weights: 0it [00:00, ?it/s]"
     ]
    },
    {
     "name": "stdout",
     "output_type": "stream",
     "text": [
      "Depth 1 has 0 intersections\n"
     ]
    },
    {
     "name": "stderr",
     "output_type": "stream",
     "text": [
      "\n",
      "0it [00:00, ?it/s]"
     ]
    },
    {
     "name": "stdout",
     "output_type": "stream",
     "text": [
      "Depth 1 prob:  0\n",
      "Depth 2 has 0 intersections\n"
     ]
    },
    {
     "name": "stderr",
     "output_type": "stream",
     "text": [
      "\n",
      "0it [00:00, ?it/s]"
     ]
    },
    {
     "name": "stdout",
     "output_type": "stream",
     "text": [
      "Depth 2 prob: 0\n",
      "Current approximation: 0\n",
      "Depth 2 prob::  0\n",
      "Depth 3 has 0 intersections\n"
     ]
    },
    {
     "name": "stderr",
     "output_type": "stream",
     "text": [
      "\n",
      "0it [00:00, ?it/s]\n"
     ]
    },
    {
     "name": "stdout",
     "output_type": "stream",
     "text": [
      "Depth 3 prob: 0\n",
      "Current approximation: 0\n",
      "Got this approximation:  0\n"
     ]
    },
    {
     "name": "stderr",
     "output_type": "stream",
     "text": [
      "Checking Samples: 100%|██████████████████████████████████████████████████████████████████████████████████| 3/3 [00:07<00:00,  2.34s/it]\n"
     ]
    },
    {
     "name": "stdout",
     "output_type": "stream",
     "text": [
      "Found 0 safe intervals\n",
      "About to compute intersection for this many intervals:  0\n"
     ]
    },
    {
     "name": "stderr",
     "output_type": "stream",
     "text": [
      "Computing intersection weights: 0it [00:00, ?it/s]"
     ]
    },
    {
     "name": "stdout",
     "output_type": "stream",
     "text": [
      "Depth 1 has 0 intersections\n"
     ]
    },
    {
     "name": "stderr",
     "output_type": "stream",
     "text": [
      "\n",
      "0it [00:00, ?it/s]"
     ]
    },
    {
     "name": "stdout",
     "output_type": "stream",
     "text": [
      "Depth 1 prob:  0\n",
      "Depth 2 has 0 intersections\n"
     ]
    },
    {
     "name": "stderr",
     "output_type": "stream",
     "text": [
      "\n",
      "0it [00:00, ?it/s]"
     ]
    },
    {
     "name": "stdout",
     "output_type": "stream",
     "text": [
      "Depth 2 prob: 0\n",
      "Current approximation: 0\n",
      "Depth 2 prob::  0\n",
      "Depth 3 has 0 intersections\n"
     ]
    },
    {
     "name": "stderr",
     "output_type": "stream",
     "text": [
      "\n",
      "0it [00:00, ?it/s]\n"
     ]
    },
    {
     "name": "stdout",
     "output_type": "stream",
     "text": [
      "Depth 3 prob: 0\n",
      "Current approximation: 0\n",
      "Got this approximation:  0\n"
     ]
    },
    {
     "name": "stderr",
     "output_type": "stream",
     "text": [
      "Checking Samples: 100%|██████████████████████████████████████████████████████████████████████████████████| 3/3 [00:07<00:00,  2.35s/it]\n"
     ]
    },
    {
     "name": "stdout",
     "output_type": "stream",
     "text": [
      "Found 3 safe intervals\n",
      "About to compute intersection for this many intervals:  3\n"
     ]
    },
    {
     "name": "stderr",
     "output_type": "stream",
     "text": [
      "Computing intersection weights: 100%|█████████████████████████████████████████████████████████████████| 3/3 [00:00<00:00, 24624.09it/s]"
     ]
    },
    {
     "name": "stdout",
     "output_type": "stream",
     "text": [
      "Depth 1 has 3 intersections\n"
     ]
    },
    {
     "name": "stderr",
     "output_type": "stream",
     "text": [
      "\n",
      "100%|████████████████████████████████████████████████████████████████████████████████████████████████████| 3/3 [00:05<00:00,  2.00s/it]"
     ]
    },
    {
     "name": "stdout",
     "output_type": "stream",
     "text": [
      "Depth 1 prob:  2.2391120414944954\n",
      "Depth 2 has 3 intersections\n"
     ]
    },
    {
     "name": "stderr",
     "output_type": "stream",
     "text": [
      "\n",
      "100%|████████████████████████████████████████████████████████████████████████████████████████████████████| 3/3 [00:07<00:00,  2.42s/it]"
     ]
    },
    {
     "name": "stdout",
     "output_type": "stream",
     "text": [
      "Depth 2 prob: -1.6728289506768117\n",
      "Current approximation: 0.5662830908176837\n",
      "Depth 2 prob::  0.5662830908176837\n",
      "Depth 3 has 1 intersections\n"
     ]
    },
    {
     "name": "stderr",
     "output_type": "stream",
     "text": [
      "\n",
      "100%|████████████████████████████████████████████████████████████████████████████████████████████████████| 1/1 [00:06<00:00,  6.74s/it]\n"
     ]
    },
    {
     "name": "stdout",
     "output_type": "stream",
     "text": [
      "Depth 3 prob: 0.4169513220528277\n",
      "Current approximation: 0.9832344128705114\n",
      "Got this approximation:  0.9832344128705114\n"
     ]
    },
    {
     "name": "stderr",
     "output_type": "stream",
     "text": [
      "Checking Samples: 100%|██████████████████████████████████████████████████████████████████████████████████| 3/3 [00:08<00:00,  2.70s/it]\n"
     ]
    },
    {
     "name": "stdout",
     "output_type": "stream",
     "text": [
      "Found 3 safe intervals\n",
      "About to compute intersection for this many intervals:  3\n"
     ]
    },
    {
     "name": "stderr",
     "output_type": "stream",
     "text": [
      "Computing intersection weights: 100%|█████████████████████████████████████████████████████████████████| 3/3 [00:00<00:00, 25420.02it/s]"
     ]
    },
    {
     "name": "stdout",
     "output_type": "stream",
     "text": [
      "Depth 1 has 3 intersections\n"
     ]
    },
    {
     "name": "stderr",
     "output_type": "stream",
     "text": [
      "\n",
      "100%|████████████████████████████████████████████████████████████████████████████████████████████████████| 3/3 [00:06<00:00,  2.16s/it]"
     ]
    },
    {
     "name": "stdout",
     "output_type": "stream",
     "text": [
      "Depth 1 prob:  2.2740554461552898\n",
      "Depth 2 has 3 intersections\n"
     ]
    },
    {
     "name": "stderr",
     "output_type": "stream",
     "text": [
      "\n",
      "100%|████████████████████████████████████████████████████████████████████████████████████████████████████| 3/3 [00:07<00:00,  2.37s/it]"
     ]
    },
    {
     "name": "stdout",
     "output_type": "stream",
     "text": [
      "Depth 2 prob: -1.7248151237193898\n",
      "Current approximation: 0.5492403224358999\n",
      "Depth 2 prob::  0.5492403224358999\n",
      "Depth 3 has 1 intersections\n"
     ]
    },
    {
     "name": "stderr",
     "output_type": "stream",
     "text": [
      "\n",
      "100%|████████████████████████████████████████████████████████████████████████████████████████████████████| 1/1 [00:06<00:00,  6.51s/it]"
     ]
    },
    {
     "name": "stdout",
     "output_type": "stream",
     "text": [
      "Depth 3 prob: 0.4362335429274074\n",
      "Current approximation: 0.9854738653633073\n",
      "Got this approximation:  0.9854738653633073\n"
     ]
    },
    {
     "name": "stderr",
     "output_type": "stream",
     "text": [
      "\n"
     ]
    }
   ],
   "source": [
    "from deepbayesHF.analyzers import prob_veri_upper \n",
    "\n",
    "def predicate_unsafe(iml, imu, ol, ou):\n",
    "    v1 = tf.one_hot(TRUE_VALUE, depth=10)\n",
    "    v2 = 1 - tf.one_hot(TRUE_VALUE, depth=10)\n",
    "    v1 = tf.squeeze(v1); v2 = tf.squeeze(v2)\n",
    "    #worst_case = tf.math.add(tf.math.multiply(v2, ou), tf.math.multiply(v1, ol))\n",
    "    best_case = tf.math.add(tf.math.multiply(v1, ou), tf.math.multiply(v2, ol))\n",
    "    if(np.argmax(best_case) == TRUE_VALUE):\n",
    "        return False\n",
    "    else:\n",
    "        return True\n",
    "\n",
    "uppers = []\n",
    "epsilons = [0.01, 0.05, 0.1, 0.25, 0.5, 0.75, 1.0]\n",
    "for EPSILON in epsilons:\n",
    "    img = np.asarray([X_test[INDEX]])\n",
    "    img_upper = np.clip(np.asarray([X_test[INDEX]+(EPSILON)]), 0, 1)\n",
    "    img_lower = np.clip(np.asarray([X_test[INDEX]-(EPSILON)]), 0, 1)\n",
    "    p_upper = prob_veri_upper(bayes_model, img_lower, img_upper, MARGIN, SAMPLES, predicate=predicate_unsafe, depth=MAXDEPTH)\n",
    "    p_upper = 1-p_upper\n",
    "    uppers.append(p_upper)\n",
    "\n"
   ]
  },
  {
   "cell_type": "code",
   "execution_count": 129,
   "id": "af0e1ba5",
   "metadata": {},
   "outputs": [
    {
     "name": "stdout",
     "output_type": "stream",
     "text": [
      "[1, 1, 1, 1, 1, 0.02, 0.01]\n",
      "[0.99, 0.98, 0, 0, 0, 0, 0]\n"
     ]
    }
   ],
   "source": [
    "print([round(i, 2) for i in uppers])\n",
    "print([round(i, 2) for i in lowers])"
   ]
  },
  {
   "cell_type": "code",
   "execution_count": 139,
   "id": "e4d630e1",
   "metadata": {},
   "outputs": [
    {
     "name": "stderr",
     "output_type": "stream",
     "text": [
      "Checking Samples: 100%|██████████████████████████████████████████████████████████████████████████████| 100/100 [00:01<00:00, 64.92it/s]\n"
     ]
    },
    {
     "name": "stdout",
     "output_type": "stream",
     "text": [
      "Found 100 safe intervals\n",
      "About to compute intersection for this many intervals:  100\n"
     ]
    },
    {
     "name": "stderr",
     "output_type": "stream",
     "text": [
      "Computing intersection weights: 100%|█████████████████████████████████████████████████████████████| 100/100 [00:00<00:00, 60690.26it/s]"
     ]
    },
    {
     "name": "stdout",
     "output_type": "stream",
     "text": [
      "Depth 1 has 100 intersections\n"
     ]
    },
    {
     "name": "stderr",
     "output_type": "stream",
     "text": [
      "\n",
      "100%|████████████████████████████████████████████████████████████████████████████████████████████████| 100/100 [01:51<00:00,  1.12s/it]\n"
     ]
    },
    {
     "name": "stdout",
     "output_type": "stream",
     "text": [
      "Depth 1 prob:  0.5996020857825053\n"
     ]
    },
    {
     "name": "stderr",
     "output_type": "stream",
     "text": [
      "\n",
      "KeyboardInterrupt\n",
      "\n"
     ]
    }
   ],
   "source": [
    "EPSILON = 0.05\n",
    "img = np.asarray([X_test[INDEX]])\n",
    "img_upper = np.clip(np.asarray([X_test[INDEX]+(EPSILON)]), 0, 1)\n",
    "img_lower = np.clip(np.asarray([X_test[INDEX]-(EPSILON)]), 0, 1)\n",
    "p_lower = prob_veri(bayes_model, img_lower, img_upper, 2.5, 100, predicate=predicate_safe, depth=1)\n",
    "lowers.append(p_lower)"
   ]
  },
  {
   "cell_type": "code",
   "execution_count": 156,
   "id": "bed7b6b9",
   "metadata": {},
   "outputs": [
    {
     "name": "stderr",
     "output_type": "stream",
     "text": [
      "Checking Samples: 100%|████████████████████████████████████████████████████████████████████████████████| 10/10 [00:23<00:00,  2.34s/it]\n"
     ]
    },
    {
     "name": "stdout",
     "output_type": "stream",
     "text": [
      "Found 10 safe intervals\n",
      "About to compute intersection for this many intervals:  10\n"
     ]
    },
    {
     "name": "stderr",
     "output_type": "stream",
     "text": [
      "Computing intersection weights:   0%|                                                                           | 0/10 [00:00<?, ?it/s]/home/matker/.local/lib/python3.8/site-packages/numpy/core/_asarray.py:83: VisibleDeprecationWarning: Creating an ndarray from ragged nested sequences (which is a list-or-tuple of lists-or-tuples-or ndarrays with different lengths or shapes) is deprecated. If you meant to do this, you must specify 'dtype=object' when creating the ndarray\n",
      "  return array(a, dtype, copy=False, order=order)\n",
      "Computing intersection weights: 100%|███████████████████████████████████████████████████████████████| 10/10 [00:00<00:00, 35575.10it/s]"
     ]
    },
    {
     "name": "stdout",
     "output_type": "stream",
     "text": [
      "Depth 1 has 10 intersections\n"
     ]
    },
    {
     "name": "stderr",
     "output_type": "stream",
     "text": [
      "\n",
      "100%|██████████████████████████████████████████████████████████████████████████████████████████████████| 10/10 [00:07<00:00,  1.39it/s]"
     ]
    },
    {
     "name": "stdout",
     "output_type": "stream",
     "text": [
      "Depth 1 prob:  0.0\n",
      "Depth 2 has 45 intersections\n"
     ]
    },
    {
     "name": "stderr",
     "output_type": "stream",
     "text": [
      "\n",
      "  0%|                                                                                                           | 0/45 [00:01<?, ?it/s]Process ForkPoolWorker-3298:\n",
      "Process ForkPoolWorker-3291:\n",
      "Process ForkPoolWorker-3286:\n",
      "\n"
     ]
    },
    {
     "ename": "KeyboardInterrupt",
     "evalue": "",
     "output_type": "error",
     "traceback": [
      "\u001b[0;31m---------------------------------------------------------------------------\u001b[0m",
      "\u001b[0;31mIndexError\u001b[0m                                Traceback (most recent call last)",
      "File \u001b[0;32m/usr/lib/python3.8/multiprocessing/pool.py:848\u001b[0m, in \u001b[0;36mIMapIterator.next\u001b[0;34m(self, timeout)\u001b[0m\n\u001b[1;32m    847\u001b[0m \u001b[38;5;28;01mtry\u001b[39;00m:\n\u001b[0;32m--> 848\u001b[0m     item \u001b[38;5;241m=\u001b[39m \u001b[38;5;28;43mself\u001b[39;49m\u001b[38;5;241;43m.\u001b[39;49m\u001b[43m_items\u001b[49m\u001b[38;5;241;43m.\u001b[39;49m\u001b[43mpopleft\u001b[49m\u001b[43m(\u001b[49m\u001b[43m)\u001b[49m\n\u001b[1;32m    849\u001b[0m \u001b[38;5;28;01mexcept\u001b[39;00m \u001b[38;5;167;01mIndexError\u001b[39;00m:\n",
      "\u001b[0;31mIndexError\u001b[0m: pop from an empty deque",
      "\nDuring handling of the above exception, another exception occurred:\n",
      "\u001b[0;31mKeyboardInterrupt\u001b[0m                         Traceback (most recent call last)",
      "Input \u001b[0;32mIn [156]\u001b[0m, in \u001b[0;36m<cell line: 5>\u001b[0;34m()\u001b[0m\n\u001b[1;32m      3\u001b[0m img_upper \u001b[38;5;241m=\u001b[39m np\u001b[38;5;241m.\u001b[39mclip(np\u001b[38;5;241m.\u001b[39masarray([X_test[INDEX]\u001b[38;5;241m+\u001b[39m(EPSILON)]), \u001b[38;5;241m0\u001b[39m, \u001b[38;5;241m1\u001b[39m)\n\u001b[1;32m      4\u001b[0m img_lower \u001b[38;5;241m=\u001b[39m np\u001b[38;5;241m.\u001b[39mclip(np\u001b[38;5;241m.\u001b[39masarray([X_test[INDEX]\u001b[38;5;241m-\u001b[39m(EPSILON)]), \u001b[38;5;241m0\u001b[39m, \u001b[38;5;241m1\u001b[39m)\n\u001b[0;32m----> 5\u001b[0m p_lower \u001b[38;5;241m=\u001b[39m \u001b[43mprob_veri_upper\u001b[49m\u001b[43m(\u001b[49m\u001b[43mbayes_model\u001b[49m\u001b[43m,\u001b[49m\u001b[43m \u001b[49m\u001b[43mimg_lower\u001b[49m\u001b[43m,\u001b[49m\u001b[43m \u001b[49m\u001b[43mimg_upper\u001b[49m\u001b[43m,\u001b[49m\u001b[43m \u001b[49m\u001b[38;5;241;43m0.5\u001b[39;49m\u001b[43m,\u001b[49m\u001b[43m \u001b[49m\u001b[38;5;241;43m10\u001b[39;49m\u001b[43m,\u001b[49m\u001b[43m \u001b[49m\u001b[43mpredicate\u001b[49m\u001b[38;5;241;43m=\u001b[39;49m\u001b[43mpredicate_unsafe\u001b[49m\u001b[43m,\u001b[49m\u001b[43m \u001b[49m\u001b[43mdepth\u001b[49m\u001b[38;5;241;43m=\u001b[39;49m\u001b[38;5;241;43m1\u001b[39;49m\u001b[43m)\u001b[49m\n\u001b[1;32m      6\u001b[0m lowers\u001b[38;5;241m.\u001b[39mappend(p_lower)\n",
      "File \u001b[0;32m~/Active/IEEEJournalCode/deepbayesHF/analyzers/probverification.py:617\u001b[0m, in \u001b[0;36mprob_veri_upper\u001b[0;34m(model, s0, s1, w_marg, samples, predicate, depth, loss_fn)\u001b[0m\n\u001b[1;32m    613\u001b[0m \u001b[38;5;28mprint\u001b[39m(\u001b[38;5;124m\"\u001b[39m\u001b[38;5;124mFound \u001b[39m\u001b[38;5;132;01m%s\u001b[39;00m\u001b[38;5;124m safe intervals\u001b[39m\u001b[38;5;124m\"\u001b[39m\u001b[38;5;241m%\u001b[39m(\u001b[38;5;28mlen\u001b[39m(safe_weights)))\n\u001b[1;32m    614\u001b[0m \u001b[38;5;66;03m#if(len(safe_weights) < 2):\u001b[39;00m\n\u001b[1;32m    615\u001b[0m \u001b[38;5;66;03m#    return 0.0, -1\u001b[39;00m\n\u001b[1;32m    616\u001b[0m \u001b[38;5;66;03m#p = compute_probability(model, np.swapaxes(np.asarray(safe_weights),1,0), w_marg)\u001b[39;00m\n\u001b[0;32m--> 617\u001b[0m p \u001b[38;5;241m=\u001b[39m \u001b[43mcompute_probability_bonferroni\u001b[49m\u001b[43m(\u001b[49m\u001b[43mmodel\u001b[49m\u001b[43m,\u001b[49m\u001b[43m \u001b[49m\u001b[43msafe_weights\u001b[49m\u001b[43m,\u001b[49m\u001b[43m \u001b[49m\u001b[43mw_marg\u001b[49m\u001b[43m,\u001b[49m\u001b[43m \u001b[49m\u001b[43mmax_depth\u001b[49m\u001b[38;5;241;43m=\u001b[39;49m\u001b[43mdepth\u001b[49m\u001b[43m)\u001b[49m\n\u001b[1;32m    618\u001b[0m \u001b[38;5;28;01mreturn\u001b[39;00m p\n",
      "File \u001b[0;32m~/Active/IEEEJournalCode/deepbayesHF/analyzers/probverification.py:442\u001b[0m, in \u001b[0;36mcompute_probability_bonferroni\u001b[0;34m(model, weight_intervals, margin, max_depth, verbose, n_proc)\u001b[0m\n\u001b[1;32m    439\u001b[0m p1 \u001b[38;5;241m=\u001b[39m \u001b[38;5;28msum\u001b[39m(stage1p)\n\u001b[1;32m    440\u001b[0m \u001b[38;5;28mprint\u001b[39m(\u001b[38;5;124m\"\u001b[39m\u001b[38;5;124mDepth 1 prob: \u001b[39m\u001b[38;5;124m\"\u001b[39m, p1)\n\u001b[0;32m--> 442\u001b[0m current_approx \u001b[38;5;241m=\u001b[39m \u001b[43mcompute_probability_bonferroni_n\u001b[49m\u001b[43m(\u001b[49m\u001b[43mmodel\u001b[49m\u001b[43m,\u001b[49m\u001b[43m \u001b[49m\u001b[43mweight_intervals\u001b[49m\u001b[43m,\u001b[49m\u001b[43m \u001b[49m\u001b[43mmargin\u001b[49m\u001b[43m,\u001b[49m\u001b[43m \u001b[49m\u001b[38;5;241;43m2\u001b[39;49m\u001b[43m,\u001b[49m\u001b[43m \u001b[49m\u001b[43mmax_depth\u001b[49m\u001b[43m,\u001b[49m\u001b[43m \u001b[49m\u001b[43mp1\u001b[49m\u001b[43m,\u001b[49m\u001b[43m \u001b[49m\u001b[43mverbose\u001b[49m\u001b[43m,\u001b[49m\u001b[43m \u001b[49m\u001b[43mn_proc\u001b[49m\u001b[43m)\u001b[49m\n\u001b[1;32m    443\u001b[0m \u001b[38;5;28mprint\u001b[39m(\u001b[38;5;124m\"\u001b[39m\u001b[38;5;124mDepth 2 prob:: \u001b[39m\u001b[38;5;124m\"\u001b[39m, current_approx)\n\u001b[1;32m    445\u001b[0m \u001b[38;5;28;01mif\u001b[39;00m(max_depth \u001b[38;5;241m>\u001b[39m\u001b[38;5;241m=\u001b[39m \u001b[38;5;241m3\u001b[39m):\n",
      "File \u001b[0;32m~/Active/IEEEJournalCode/deepbayesHF/analyzers/probverification.py:412\u001b[0m, in \u001b[0;36mcompute_probability_bonferroni_n\u001b[0;34m(model, weight_intervals, margin, depth, max_depth, current_approx, verbose, n_proc)\u001b[0m\n\u001b[1;32m    410\u001b[0m proc_pool \u001b[38;5;241m=\u001b[39m Pool(n_proc)\n\u001b[1;32m    411\u001b[0m stage1p \u001b[38;5;241m=\u001b[39m []\n\u001b[0;32m--> 412\u001b[0m \u001b[38;5;28;01mfor\u001b[39;00m result \u001b[38;5;129;01min\u001b[39;00m tqdm\u001b[38;5;241m.\u001b[39mtqdm(proc_pool\u001b[38;5;241m.\u001b[39mimap_unordered(compute_probability_subroutine, probability_args), total\u001b[38;5;241m=\u001b[39m\u001b[38;5;28mlen\u001b[39m(probability_args)):\n\u001b[1;32m    413\u001b[0m     stage1p\u001b[38;5;241m.\u001b[39mappend(result)\n\u001b[1;32m    414\u001b[0m proc_pool\u001b[38;5;241m.\u001b[39mclose()\n",
      "File \u001b[0;32m~/.local/lib/python3.8/site-packages/tqdm/std.py:1180\u001b[0m, in \u001b[0;36mtqdm.__iter__\u001b[0;34m(self)\u001b[0m\n\u001b[1;32m   1177\u001b[0m time \u001b[38;5;241m=\u001b[39m \u001b[38;5;28mself\u001b[39m\u001b[38;5;241m.\u001b[39m_time\n\u001b[1;32m   1179\u001b[0m \u001b[38;5;28;01mtry\u001b[39;00m:\n\u001b[0;32m-> 1180\u001b[0m     \u001b[38;5;28;01mfor\u001b[39;00m obj \u001b[38;5;129;01min\u001b[39;00m iterable:\n\u001b[1;32m   1181\u001b[0m         \u001b[38;5;28;01myield\u001b[39;00m obj\n\u001b[1;32m   1182\u001b[0m         \u001b[38;5;66;03m# Update and possibly print the progressbar.\u001b[39;00m\n\u001b[1;32m   1183\u001b[0m         \u001b[38;5;66;03m# Note: does not call self.update(1) for speed optimisation.\u001b[39;00m\n",
      "File \u001b[0;32m/usr/lib/python3.8/multiprocessing/pool.py:853\u001b[0m, in \u001b[0;36mIMapIterator.next\u001b[0;34m(self, timeout)\u001b[0m\n\u001b[1;32m    851\u001b[0m     \u001b[38;5;28mself\u001b[39m\u001b[38;5;241m.\u001b[39m_pool \u001b[38;5;241m=\u001b[39m \u001b[38;5;28;01mNone\u001b[39;00m\n\u001b[1;32m    852\u001b[0m     \u001b[38;5;28;01mraise\u001b[39;00m \u001b[38;5;167;01mStopIteration\u001b[39;00m \u001b[38;5;28;01mfrom\u001b[39;00m \u001b[38;5;28mNone\u001b[39m\n\u001b[0;32m--> 853\u001b[0m \u001b[38;5;28;43mself\u001b[39;49m\u001b[38;5;241;43m.\u001b[39;49m\u001b[43m_cond\u001b[49m\u001b[38;5;241;43m.\u001b[39;49m\u001b[43mwait\u001b[49m\u001b[43m(\u001b[49m\u001b[43mtimeout\u001b[49m\u001b[43m)\u001b[49m\n\u001b[1;32m    854\u001b[0m \u001b[38;5;28;01mtry\u001b[39;00m:\n\u001b[1;32m    855\u001b[0m     item \u001b[38;5;241m=\u001b[39m \u001b[38;5;28mself\u001b[39m\u001b[38;5;241m.\u001b[39m_items\u001b[38;5;241m.\u001b[39mpopleft()\n",
      "File \u001b[0;32m/usr/lib/python3.8/threading.py:302\u001b[0m, in \u001b[0;36mCondition.wait\u001b[0;34m(self, timeout)\u001b[0m\n\u001b[1;32m    300\u001b[0m \u001b[38;5;28;01mtry\u001b[39;00m:    \u001b[38;5;66;03m# restore state no matter what (e.g., KeyboardInterrupt)\u001b[39;00m\n\u001b[1;32m    301\u001b[0m     \u001b[38;5;28;01mif\u001b[39;00m timeout \u001b[38;5;129;01mis\u001b[39;00m \u001b[38;5;28;01mNone\u001b[39;00m:\n\u001b[0;32m--> 302\u001b[0m         \u001b[43mwaiter\u001b[49m\u001b[38;5;241;43m.\u001b[39;49m\u001b[43macquire\u001b[49m\u001b[43m(\u001b[49m\u001b[43m)\u001b[49m\n\u001b[1;32m    303\u001b[0m         gotit \u001b[38;5;241m=\u001b[39m \u001b[38;5;28;01mTrue\u001b[39;00m\n\u001b[1;32m    304\u001b[0m     \u001b[38;5;28;01melse\u001b[39;00m:\n",
      "\u001b[0;31mKeyboardInterrupt\u001b[0m: "
     ]
    },
    {
     "name": "stderr",
     "output_type": "stream",
     "text": [
      "Process ForkPoolWorker-3297:\n",
      "Process ForkPoolWorker-3300:\n",
      "Process ForkPoolWorker-3296:\n",
      "Process ForkPoolWorker-3293:\n",
      "Process ForkPoolWorker-3285:\n",
      "Process ForkPoolWorker-3281:\n",
      "Process ForkPoolWorker-3290:\n",
      "Process ForkPoolWorker-3287:\n",
      "Process ForkPoolWorker-3294:\n",
      "Process ForkPoolWorker-3292:\n",
      "Process ForkPoolWorker-3299:\n",
      "Process ForkPoolWorker-3275:\n",
      "Process ForkPoolWorker-3295:\n",
      "Process ForkPoolWorker-3288:\n",
      "Process ForkPoolWorker-3282:\n",
      "Process ForkPoolWorker-3280:\n",
      "Process ForkPoolWorker-3277:\n",
      "Process ForkPoolWorker-3271:\n",
      "Process ForkPoolWorker-3276:\n",
      "Process ForkPoolWorker-3279:\n",
      "Process ForkPoolWorker-3284:\n",
      "Process ForkPoolWorker-3283:\n",
      "Process ForkPoolWorker-3274:\n",
      "Process ForkPoolWorker-3278:\n",
      "Process ForkPoolWorker-3289:\n",
      "Process ForkPoolWorker-3273:\n",
      "Process ForkPoolWorker-3272:\n",
      "Traceback (most recent call last):\n",
      "  File \"/usr/lib/python3.8/multiprocessing/process.py\", line 313, in _bootstrap\n",
      "    self.run()\n",
      "  File \"/usr/lib/python3.8/multiprocessing/process.py\", line 108, in run\n",
      "    self._target(*self._args, **self._kwargs)\n",
      "  File \"/usr/lib/python3.8/multiprocessing/pool.py\", line 125, in worker\n",
      "    result = (True, func(*args, **kwds))\n",
      "  File \"../deepbayesHF/analyzers/probverification.py\", line 376, in compute_probability_subroutine\n",
      "    ps_weight.append(compute_interval_probs_weight_int((dim_intervals_l[i], dim_intervals_u[i], mean[i], np.asarray(var[i]))))\n",
      "  File \"../deepbayesHF/analyzers/probverification.py\", line 261, in compute_interval_probs_weight_int\n",
      "    p += compute_erf_prob(interval, means[i][j], var[i][j])\n",
      "  File \"/home/matker/.local/lib/python3.8/site-packages/tensorflow/python/util/traceback_utils.py\", line 150, in error_handler\n",
      "    return fn(*args, **kwargs)\n",
      "  File \"/home/matker/.local/lib/python3.8/site-packages/tensorflow/python/util/dispatch.py\", line 1096, in op_dispatch_handler\n",
      "    return dispatch_target(*args, **kwargs)\n",
      "  File \"/home/matker/.local/lib/python3.8/site-packages/tensorflow/python/ops/array_ops.py\", line 1030, in _slice_helper\n",
      "    if (packed_begin.dtype == dtypes.int64 or\n",
      "  File \"/home/matker/.local/lib/python3.8/site-packages/tensorflow/python/framework/dtypes.py\", line 190, in __eq__\n",
      "    return self._type_enum == other._type_enum  # pylint: disable=protected-access\n",
      "KeyboardInterrupt\n",
      "Traceback (most recent call last):\n",
      "Traceback (most recent call last):\n",
      "  File \"/usr/lib/python3.8/multiprocessing/process.py\", line 313, in _bootstrap\n",
      "    self.run()\n",
      "  File \"/usr/lib/python3.8/multiprocessing/process.py\", line 313, in _bootstrap\n",
      "    self.run()\n",
      "  File \"/usr/lib/python3.8/multiprocessing/process.py\", line 108, in run\n",
      "    self._target(*self._args, **self._kwargs)\n",
      "  File \"/usr/lib/python3.8/multiprocessing/process.py\", line 108, in run\n",
      "    self._target(*self._args, **self._kwargs)\n",
      "  File \"/usr/lib/python3.8/multiprocessing/pool.py\", line 125, in worker\n",
      "    result = (True, func(*args, **kwds))\n",
      "  File \"/usr/lib/python3.8/multiprocessing/pool.py\", line 125, in worker\n",
      "    result = (True, func(*args, **kwds))\n",
      "  File \"../deepbayesHF/analyzers/probverification.py\", line 376, in compute_probability_subroutine\n",
      "    ps_weight.append(compute_interval_probs_weight_int((dim_intervals_l[i], dim_intervals_u[i], mean[i], np.asarray(var[i]))))\n",
      "  File \"../deepbayesHF/analyzers/probverification.py\", line 376, in compute_probability_subroutine\n",
      "    ps_weight.append(compute_interval_probs_weight_int((dim_intervals_l[i], dim_intervals_u[i], mean[i], np.asarray(var[i]))))\n",
      "  File \"../deepbayesHF/analyzers/probverification.py\", line 261, in compute_interval_probs_weight_int\n",
      "    p += compute_erf_prob(interval, means[i][j], var[i][j])\n",
      "  File \"../deepbayesHF/analyzers/probverification.py\", line 261, in compute_interval_probs_weight_int\n",
      "    p += compute_erf_prob(interval, means[i][j], var[i][j])\n",
      "  File \"/home/matker/.local/lib/python3.8/site-packages/tensorflow/python/util/traceback_utils.py\", line 150, in error_handler\n",
      "    return fn(*args, **kwargs)\n",
      "Traceback (most recent call last):\n",
      "  File \"../deepbayesHF/analyzers/probverification.py\", line 187, in compute_erf_prob\n",
      "    val2 = erf((mean-interval[1])/(math.sqrt(2)*(var)))\n",
      "Traceback (most recent call last):\n",
      "Traceback (most recent call last):\n",
      "Traceback (most recent call last):\n",
      "Traceback (most recent call last):\n",
      "  File \"/home/matker/.local/lib/python3.8/site-packages/tensorflow/python/util/dispatch.py\", line 1096, in op_dispatch_handler\n",
      "    return dispatch_target(*args, **kwargs)\n",
      "Traceback (most recent call last):\n",
      "Traceback (most recent call last):\n",
      "Traceback (most recent call last):\n",
      "Traceback (most recent call last):\n",
      "Traceback (most recent call last):\n",
      "Traceback (most recent call last):\n",
      "Traceback (most recent call last):\n",
      "Traceback (most recent call last):\n",
      "Traceback (most recent call last):\n",
      "Traceback (most recent call last):\n",
      "Traceback (most recent call last):\n",
      "Traceback (most recent call last):\n",
      "Traceback (most recent call last):\n",
      "Traceback (most recent call last):\n",
      "Traceback (most recent call last):\n",
      "Traceback (most recent call last):\n",
      "Traceback (most recent call last):\n",
      "Traceback (most recent call last):\n",
      "Traceback (most recent call last):\n",
      "Traceback (most recent call last):\n",
      "Traceback (most recent call last):\n",
      "Traceback (most recent call last):\n",
      "  File \"/home/matker/.local/lib/python3.8/site-packages/tensorflow/python/util/traceback_utils.py\", line 150, in error_handler\n",
      "    return fn(*args, **kwargs)\n",
      "  File \"/usr/lib/python3.8/multiprocessing/process.py\", line 313, in _bootstrap\n",
      "    self.run()\n",
      "  File \"/usr/lib/python3.8/multiprocessing/process.py\", line 313, in _bootstrap\n",
      "    self.run()\n",
      "  File \"/usr/lib/python3.8/multiprocessing/process.py\", line 313, in _bootstrap\n",
      "    self.run()\n",
      "  File \"/usr/lib/python3.8/multiprocessing/process.py\", line 313, in _bootstrap\n",
      "    self.run()\n",
      "  File \"/usr/lib/python3.8/multiprocessing/process.py\", line 313, in _bootstrap\n",
      "    self.run()\n",
      "  File \"/home/matker/.local/lib/python3.8/site-packages/tensorflow/python/ops/array_ops.py\", line 1029, in _slice_helper\n",
      "    stack(strides))\n",
      "  File \"/usr/lib/python3.8/multiprocessing/process.py\", line 313, in _bootstrap\n",
      "    self.run()\n",
      "  File \"/usr/lib/python3.8/multiprocessing/process.py\", line 313, in _bootstrap\n",
      "    self.run()\n",
      "  File \"/usr/lib/python3.8/multiprocessing/process.py\", line 313, in _bootstrap\n",
      "    self.run()\n",
      "  File \"/usr/lib/python3.8/multiprocessing/process.py\", line 313, in _bootstrap\n",
      "    self.run()\n",
      "  File \"/usr/lib/python3.8/multiprocessing/process.py\", line 313, in _bootstrap\n",
      "    self.run()\n",
      "  File \"/usr/lib/python3.8/multiprocessing/process.py\", line 313, in _bootstrap\n",
      "    self.run()\n",
      "  File \"/usr/lib/python3.8/multiprocessing/process.py\", line 313, in _bootstrap\n",
      "    self.run()\n",
      "  File \"/usr/lib/python3.8/multiprocessing/process.py\", line 313, in _bootstrap\n",
      "    self.run()\n",
      "  File \"/usr/lib/python3.8/multiprocessing/process.py\", line 313, in _bootstrap\n",
      "    self.run()\n",
      "  File \"/usr/lib/python3.8/multiprocessing/process.py\", line 313, in _bootstrap\n",
      "    self.run()\n",
      "  File \"/usr/lib/python3.8/multiprocessing/process.py\", line 313, in _bootstrap\n",
      "    self.run()\n",
      "  File \"/usr/lib/python3.8/multiprocessing/process.py\", line 313, in _bootstrap\n",
      "    self.run()\n",
      "  File \"/usr/lib/python3.8/multiprocessing/process.py\", line 313, in _bootstrap\n",
      "    self.run()\n",
      "  File \"/usr/lib/python3.8/multiprocessing/process.py\", line 313, in _bootstrap\n",
      "    self.run()\n",
      "  File \"/usr/lib/python3.8/multiprocessing/process.py\", line 313, in _bootstrap\n",
      "    self.run()\n",
      "  File \"/usr/lib/python3.8/multiprocessing/process.py\", line 313, in _bootstrap\n",
      "    self.run()\n",
      "  File \"/usr/lib/python3.8/multiprocessing/process.py\", line 313, in _bootstrap\n",
      "    self.run()\n",
      "  File \"/usr/lib/python3.8/multiprocessing/process.py\", line 313, in _bootstrap\n",
      "    self.run()\n",
      "  File \"/usr/lib/python3.8/multiprocessing/process.py\", line 313, in _bootstrap\n",
      "    self.run()\n",
      "  File \"/usr/lib/python3.8/multiprocessing/process.py\", line 313, in _bootstrap\n",
      "    self.run()\n",
      "  File \"/usr/lib/python3.8/multiprocessing/process.py\", line 313, in _bootstrap\n",
      "    self.run()\n",
      "  File \"/usr/lib/python3.8/multiprocessing/process.py\", line 313, in _bootstrap\n",
      "    self.run()\n",
      "  File \"/home/matker/.local/lib/python3.8/site-packages/tensorflow/python/ops/math_ops.py\", line 1383, in binary_op_wrapper\n",
      "    return func(x, y, name=name)\n",
      "  File \"/usr/lib/python3.8/multiprocessing/process.py\", line 108, in run\n",
      "    self._target(*self._args, **self._kwargs)\n"
     ]
    },
    {
     "name": "stderr",
     "output_type": "stream",
     "text": [
      "  File \"/usr/lib/python3.8/multiprocessing/process.py\", line 108, in run\n",
      "    self._target(*self._args, **self._kwargs)\n",
      "  File \"/usr/lib/python3.8/multiprocessing/process.py\", line 108, in run\n",
      "    self._target(*self._args, **self._kwargs)\n",
      "  File \"/usr/lib/python3.8/multiprocessing/process.py\", line 108, in run\n",
      "    self._target(*self._args, **self._kwargs)\n",
      "  File \"/home/matker/.local/lib/python3.8/site-packages/tensorflow/python/util/traceback_utils.py\", line 150, in error_handler\n",
      "    return fn(*args, **kwargs)\n",
      "  File \"/usr/lib/python3.8/multiprocessing/process.py\", line 108, in run\n",
      "    self._target(*self._args, **self._kwargs)\n",
      "  File \"/usr/lib/python3.8/multiprocessing/process.py\", line 108, in run\n",
      "    self._target(*self._args, **self._kwargs)\n",
      "  File \"/usr/lib/python3.8/multiprocessing/process.py\", line 108, in run\n",
      "    self._target(*self._args, **self._kwargs)\n",
      "  File \"/usr/lib/python3.8/multiprocessing/process.py\", line 108, in run\n",
      "    self._target(*self._args, **self._kwargs)\n",
      "  File \"/usr/lib/python3.8/multiprocessing/process.py\", line 108, in run\n",
      "    self._target(*self._args, **self._kwargs)\n",
      "  File \"/usr/lib/python3.8/multiprocessing/process.py\", line 108, in run\n",
      "    self._target(*self._args, **self._kwargs)\n",
      "  File \"/usr/lib/python3.8/multiprocessing/process.py\", line 108, in run\n",
      "    self._target(*self._args, **self._kwargs)\n",
      "  File \"/usr/lib/python3.8/multiprocessing/process.py\", line 108, in run\n",
      "    self._target(*self._args, **self._kwargs)\n",
      "  File \"/usr/lib/python3.8/multiprocessing/process.py\", line 108, in run\n",
      "    self._target(*self._args, **self._kwargs)\n",
      "  File \"/usr/lib/python3.8/multiprocessing/process.py\", line 108, in run\n",
      "    self._target(*self._args, **self._kwargs)\n",
      "  File \"/usr/lib/python3.8/multiprocessing/process.py\", line 108, in run\n",
      "    self._target(*self._args, **self._kwargs)\n",
      "  File \"/usr/lib/python3.8/multiprocessing/process.py\", line 108, in run\n",
      "    self._target(*self._args, **self._kwargs)\n",
      "  File \"/usr/lib/python3.8/multiprocessing/process.py\", line 108, in run\n",
      "    self._target(*self._args, **self._kwargs)\n",
      "  File \"/usr/lib/python3.8/multiprocessing/process.py\", line 108, in run\n",
      "    self._target(*self._args, **self._kwargs)\n",
      "  File \"/usr/lib/python3.8/multiprocessing/process.py\", line 108, in run\n",
      "    self._target(*self._args, **self._kwargs)\n",
      "  File \"/usr/lib/python3.8/multiprocessing/process.py\", line 108, in run\n",
      "    self._target(*self._args, **self._kwargs)\n",
      "  File \"/usr/lib/python3.8/multiprocessing/process.py\", line 108, in run\n",
      "    self._target(*self._args, **self._kwargs)\n",
      "  File \"/usr/lib/python3.8/multiprocessing/process.py\", line 108, in run\n",
      "    self._target(*self._args, **self._kwargs)\n",
      "  File \"/usr/lib/python3.8/multiprocessing/process.py\", line 108, in run\n",
      "    self._target(*self._args, **self._kwargs)\n",
      "  File \"/usr/lib/python3.8/multiprocessing/process.py\", line 108, in run\n",
      "    self._target(*self._args, **self._kwargs)\n",
      "  File \"/usr/lib/python3.8/multiprocessing/process.py\", line 108, in run\n",
      "    self._target(*self._args, **self._kwargs)\n",
      "  File \"/usr/lib/python3.8/multiprocessing/process.py\", line 108, in run\n",
      "    self._target(*self._args, **self._kwargs)\n",
      "  File \"/usr/lib/python3.8/multiprocessing/process.py\", line 108, in run\n",
      "    self._target(*self._args, **self._kwargs)\n",
      "  File \"/home/matker/.local/lib/python3.8/site-packages/tensorflow/python/util/traceback_utils.py\", line 150, in error_handler\n",
      "    return fn(*args, **kwargs)\n",
      "  File \"/usr/lib/python3.8/multiprocessing/pool.py\", line 125, in worker\n",
      "    result = (True, func(*args, **kwds))\n",
      "  File \"/usr/lib/python3.8/multiprocessing/pool.py\", line 125, in worker\n",
      "    result = (True, func(*args, **kwds))\n",
      "  File \"/home/matker/.local/lib/python3.8/site-packages/tensorflow/python/util/dispatch.py\", line 1090, in op_dispatch_handler\n",
      "    result = api_dispatcher.Dispatch(args, kwargs)\n",
      "  File \"/usr/lib/python3.8/multiprocessing/pool.py\", line 125, in worker\n",
      "    result = (True, func(*args, **kwds))\n",
      "  File \"/usr/lib/python3.8/multiprocessing/pool.py\", line 125, in worker\n",
      "    result = (True, func(*args, **kwds))\n",
      "  File \"/usr/lib/python3.8/multiprocessing/pool.py\", line 125, in worker\n",
      "    result = (True, func(*args, **kwds))\n",
      "  File \"/usr/lib/python3.8/multiprocessing/pool.py\", line 125, in worker\n",
      "    result = (True, func(*args, **kwds))\n",
      "  File \"/usr/lib/python3.8/multiprocessing/pool.py\", line 125, in worker\n",
      "    result = (True, func(*args, **kwds))\n",
      "  File \"/usr/lib/python3.8/multiprocessing/pool.py\", line 125, in worker\n",
      "    result = (True, func(*args, **kwds))\n",
      "  File \"/usr/lib/python3.8/multiprocessing/pool.py\", line 125, in worker\n",
      "    result = (True, func(*args, **kwds))\n",
      "  File \"/usr/lib/python3.8/multiprocessing/pool.py\", line 125, in worker\n",
      "    result = (True, func(*args, **kwds))\n",
      "  File \"/usr/lib/python3.8/multiprocessing/pool.py\", line 125, in worker\n",
      "    result = (True, func(*args, **kwds))\n",
      "  File \"/usr/lib/python3.8/multiprocessing/pool.py\", line 125, in worker\n",
      "    result = (True, func(*args, **kwds))\n",
      "  File \"/usr/lib/python3.8/multiprocessing/pool.py\", line 125, in worker\n",
      "    result = (True, func(*args, **kwds))\n",
      "  File \"/usr/lib/python3.8/multiprocessing/pool.py\", line 125, in worker\n",
      "    result = (True, func(*args, **kwds))\n",
      "  File \"/usr/lib/python3.8/multiprocessing/pool.py\", line 125, in worker\n",
      "    result = (True, func(*args, **kwds))\n",
      "  File \"/usr/lib/python3.8/multiprocessing/pool.py\", line 125, in worker\n",
      "    result = (True, func(*args, **kwds))\n",
      "  File \"/usr/lib/python3.8/multiprocessing/pool.py\", line 125, in worker\n",
      "    result = (True, func(*args, **kwds))\n",
      "  File \"/usr/lib/python3.8/multiprocessing/pool.py\", line 125, in worker\n",
      "    result = (True, func(*args, **kwds))\n",
      "  File \"/usr/lib/python3.8/multiprocessing/pool.py\", line 125, in worker\n",
      "    result = (True, func(*args, **kwds))\n",
      "  File \"/usr/lib/python3.8/multiprocessing/pool.py\", line 125, in worker\n",
      "    result = (True, func(*args, **kwds))\n",
      "  File \"/usr/lib/python3.8/multiprocessing/pool.py\", line 125, in worker\n",
      "    result = (True, func(*args, **kwds))\n",
      "  File \"/usr/lib/python3.8/multiprocessing/pool.py\", line 125, in worker\n",
      "    result = (True, func(*args, **kwds))\n",
      "  File \"/usr/lib/python3.8/multiprocessing/pool.py\", line 125, in worker\n",
      "    result = (True, func(*args, **kwds))\n",
      "  File \"/usr/lib/python3.8/multiprocessing/pool.py\", line 125, in worker\n",
      "    result = (True, func(*args, **kwds))\n",
      "  File \"/usr/lib/python3.8/multiprocessing/pool.py\", line 125, in worker\n",
      "    result = (True, func(*args, **kwds))\n",
      "  File \"/usr/lib/python3.8/multiprocessing/pool.py\", line 125, in worker\n",
      "    result = (True, func(*args, **kwds))\n",
      "  File \"/usr/lib/python3.8/multiprocessing/pool.py\", line 125, in worker\n",
      "    result = (True, func(*args, **kwds))\n",
      "  File \"/home/matker/.local/lib/python3.8/site-packages/tensorflow/python/util/dispatch.py\", line 1096, in op_dispatch_handler\n",
      "    return dispatch_target(*args, **kwargs)\n",
      "  File \"../deepbayesHF/analyzers/probverification.py\", line 376, in compute_probability_subroutine\n",
      "    ps_weight.append(compute_interval_probs_weight_int((dim_intervals_l[i], dim_intervals_u[i], mean[i], np.asarray(var[i]))))\n",
      "  File \"../deepbayesHF/analyzers/probverification.py\", line 376, in compute_probability_subroutine\n",
      "    ps_weight.append(compute_interval_probs_weight_int((dim_intervals_l[i], dim_intervals_u[i], mean[i], np.asarray(var[i]))))\n",
      "  File \"../deepbayesHF/analyzers/probverification.py\", line 376, in compute_probability_subroutine\n",
      "    ps_weight.append(compute_interval_probs_weight_int((dim_intervals_l[i], dim_intervals_u[i], mean[i], np.asarray(var[i]))))\n",
      "KeyboardInterrupt\n",
      "  File \"../deepbayesHF/analyzers/probverification.py\", line 376, in compute_probability_subroutine\n",
      "    ps_weight.append(compute_interval_probs_weight_int((dim_intervals_l[i], dim_intervals_u[i], mean[i], np.asarray(var[i]))))\n",
      "  File \"../deepbayesHF/analyzers/probverification.py\", line 376, in compute_probability_subroutine\n",
      "    ps_weight.append(compute_interval_probs_weight_int((dim_intervals_l[i], dim_intervals_u[i], mean[i], np.asarray(var[i]))))\n",
      "  File \"../deepbayesHF/analyzers/probverification.py\", line 376, in compute_probability_subroutine\n",
      "    ps_weight.append(compute_interval_probs_weight_int((dim_intervals_l[i], dim_intervals_u[i], mean[i], np.asarray(var[i]))))\n"
     ]
    },
    {
     "name": "stderr",
     "output_type": "stream",
     "text": [
      "  File \"../deepbayesHF/analyzers/probverification.py\", line 376, in compute_probability_subroutine\n",
      "    ps_weight.append(compute_interval_probs_weight_int((dim_intervals_l[i], dim_intervals_u[i], mean[i], np.asarray(var[i]))))\n",
      "  File \"../deepbayesHF/analyzers/probverification.py\", line 376, in compute_probability_subroutine\n",
      "    ps_weight.append(compute_interval_probs_weight_int((dim_intervals_l[i], dim_intervals_u[i], mean[i], np.asarray(var[i]))))\n",
      "  File \"../deepbayesHF/analyzers/probverification.py\", line 376, in compute_probability_subroutine\n",
      "    ps_weight.append(compute_interval_probs_weight_int((dim_intervals_l[i], dim_intervals_u[i], mean[i], np.asarray(var[i]))))\n",
      "  File \"../deepbayesHF/analyzers/probverification.py\", line 376, in compute_probability_subroutine\n",
      "    ps_weight.append(compute_interval_probs_weight_int((dim_intervals_l[i], dim_intervals_u[i], mean[i], np.asarray(var[i]))))\n",
      "  File \"../deepbayesHF/analyzers/probverification.py\", line 376, in compute_probability_subroutine\n",
      "    ps_weight.append(compute_interval_probs_weight_int((dim_intervals_l[i], dim_intervals_u[i], mean[i], np.asarray(var[i]))))\n",
      "  File \"../deepbayesHF/analyzers/probverification.py\", line 376, in compute_probability_subroutine\n",
      "    ps_weight.append(compute_interval_probs_weight_int((dim_intervals_l[i], dim_intervals_u[i], mean[i], np.asarray(var[i]))))\n",
      "  File \"../deepbayesHF/analyzers/probverification.py\", line 376, in compute_probability_subroutine\n",
      "    ps_weight.append(compute_interval_probs_weight_int((dim_intervals_l[i], dim_intervals_u[i], mean[i], np.asarray(var[i]))))\n",
      "  File \"../deepbayesHF/analyzers/probverification.py\", line 376, in compute_probability_subroutine\n",
      "    ps_weight.append(compute_interval_probs_weight_int((dim_intervals_l[i], dim_intervals_u[i], mean[i], np.asarray(var[i]))))\n",
      "  File \"../deepbayesHF/analyzers/probverification.py\", line 376, in compute_probability_subroutine\n",
      "    ps_weight.append(compute_interval_probs_weight_int((dim_intervals_l[i], dim_intervals_u[i], mean[i], np.asarray(var[i]))))\n",
      "  File \"../deepbayesHF/analyzers/probverification.py\", line 376, in compute_probability_subroutine\n",
      "    ps_weight.append(compute_interval_probs_weight_int((dim_intervals_l[i], dim_intervals_u[i], mean[i], np.asarray(var[i]))))\n",
      "  File \"../deepbayesHF/analyzers/probverification.py\", line 376, in compute_probability_subroutine\n",
      "    ps_weight.append(compute_interval_probs_weight_int((dim_intervals_l[i], dim_intervals_u[i], mean[i], np.asarray(var[i]))))\n",
      "  File \"../deepbayesHF/analyzers/probverification.py\", line 376, in compute_probability_subroutine\n",
      "    ps_weight.append(compute_interval_probs_weight_int((dim_intervals_l[i], dim_intervals_u[i], mean[i], np.asarray(var[i]))))\n",
      "  File \"../deepbayesHF/analyzers/probverification.py\", line 376, in compute_probability_subroutine\n",
      "    ps_weight.append(compute_interval_probs_weight_int((dim_intervals_l[i], dim_intervals_u[i], mean[i], np.asarray(var[i]))))\n",
      "  File \"../deepbayesHF/analyzers/probverification.py\", line 376, in compute_probability_subroutine\n",
      "    ps_weight.append(compute_interval_probs_weight_int((dim_intervals_l[i], dim_intervals_u[i], mean[i], np.asarray(var[i]))))\n",
      "  File \"../deepbayesHF/analyzers/probverification.py\", line 376, in compute_probability_subroutine\n",
      "    ps_weight.append(compute_interval_probs_weight_int((dim_intervals_l[i], dim_intervals_u[i], mean[i], np.asarray(var[i]))))\n",
      "  File \"../deepbayesHF/analyzers/probverification.py\", line 376, in compute_probability_subroutine\n",
      "    ps_weight.append(compute_interval_probs_weight_int((dim_intervals_l[i], dim_intervals_u[i], mean[i], np.asarray(var[i]))))\n",
      "  File \"../deepbayesHF/analyzers/probverification.py\", line 376, in compute_probability_subroutine\n",
      "    ps_weight.append(compute_interval_probs_weight_int((dim_intervals_l[i], dim_intervals_u[i], mean[i], np.asarray(var[i]))))\n",
      "  File \"../deepbayesHF/analyzers/probverification.py\", line 376, in compute_probability_subroutine\n",
      "    ps_weight.append(compute_interval_probs_weight_int((dim_intervals_l[i], dim_intervals_u[i], mean[i], np.asarray(var[i]))))\n",
      "  File \"../deepbayesHF/analyzers/probverification.py\", line 376, in compute_probability_subroutine\n",
      "    ps_weight.append(compute_interval_probs_weight_int((dim_intervals_l[i], dim_intervals_u[i], mean[i], np.asarray(var[i]))))\n",
      "  File \"../deepbayesHF/analyzers/probverification.py\", line 376, in compute_probability_subroutine\n",
      "    ps_weight.append(compute_interval_probs_weight_int((dim_intervals_l[i], dim_intervals_u[i], mean[i], np.asarray(var[i]))))\n",
      "  File \"../deepbayesHF/analyzers/probverification.py\", line 376, in compute_probability_subroutine\n",
      "    ps_weight.append(compute_interval_probs_weight_int((dim_intervals_l[i], dim_intervals_u[i], mean[i], np.asarray(var[i]))))\n",
      "  File \"../deepbayesHF/analyzers/probverification.py\", line 261, in compute_interval_probs_weight_int\n",
      "    p += compute_erf_prob(interval, means[i][j], var[i][j])\n",
      "  File \"/home/matker/.local/lib/python3.8/site-packages/tensorflow/python/ops/math_ops.py\", line 553, in subtract\n",
      "    return gen_math_ops.sub(x, y, name)\n",
      "  File \"../deepbayesHF/analyzers/probverification.py\", line 261, in compute_interval_probs_weight_int\n",
      "    p += compute_erf_prob(interval, means[i][j], var[i][j])\n",
      "  File \"../deepbayesHF/analyzers/probverification.py\", line 261, in compute_interval_probs_weight_int\n",
      "    p += compute_erf_prob(interval, means[i][j], var[i][j])\n",
      "  File \"../deepbayesHF/analyzers/probverification.py\", line 259, in compute_interval_probs_weight_int\n",
      "    interval = [vector_l[num_found][i][j], vector_u[num_found][i][j]]\n",
      "  File \"../deepbayesHF/analyzers/probverification.py\", line 261, in compute_interval_probs_weight_int\n",
      "    p += compute_erf_prob(interval, means[i][j], var[i][j])\n",
      "  File \"../deepbayesHF/analyzers/probverification.py\", line 261, in compute_interval_probs_weight_int\n",
      "    p += compute_erf_prob(interval, means[i][j], var[i][j])\n",
      "  File \"../deepbayesHF/analyzers/probverification.py\", line 261, in compute_interval_probs_weight_int\n",
      "    p += compute_erf_prob(interval, means[i][j], var[i][j])\n",
      "  File \"../deepbayesHF/analyzers/probverification.py\", line 261, in compute_interval_probs_weight_int\n",
      "    p += compute_erf_prob(interval, means[i][j], var[i][j])\n",
      "  File \"../deepbayesHF/analyzers/probverification.py\", line 261, in compute_interval_probs_weight_int\n",
      "    p += compute_erf_prob(interval, means[i][j], var[i][j])\n",
      "  File \"../deepbayesHF/analyzers/probverification.py\", line 261, in compute_interval_probs_weight_int\n",
      "    p += compute_erf_prob(interval, means[i][j], var[i][j])\n",
      "  File \"../deepbayesHF/analyzers/probverification.py\", line 261, in compute_interval_probs_weight_int\n",
      "    p += compute_erf_prob(interval, means[i][j], var[i][j])\n",
      "  File \"../deepbayesHF/analyzers/probverification.py\", line 261, in compute_interval_probs_weight_int\n",
      "    p += compute_erf_prob(interval, means[i][j], var[i][j])\n",
      "  File \"../deepbayesHF/analyzers/probverification.py\", line 261, in compute_interval_probs_weight_int\n",
      "    p += compute_erf_prob(interval, means[i][j], var[i][j])\n",
      "  File \"../deepbayesHF/analyzers/probverification.py\", line 261, in compute_interval_probs_weight_int\n",
      "    p += compute_erf_prob(interval, means[i][j], var[i][j])\n",
      "  File \"../deepbayesHF/analyzers/probverification.py\", line 261, in compute_interval_probs_weight_int\n",
      "    p += compute_erf_prob(interval, means[i][j], var[i][j])\n",
      "  File \"../deepbayesHF/analyzers/probverification.py\", line 261, in compute_interval_probs_weight_int\n",
      "    p += compute_erf_prob(interval, means[i][j], var[i][j])\n",
      "  File \"../deepbayesHF/analyzers/probverification.py\", line 261, in compute_interval_probs_weight_int\n",
      "    p += compute_erf_prob(interval, means[i][j], var[i][j])\n",
      "  File \"../deepbayesHF/analyzers/probverification.py\", line 261, in compute_interval_probs_weight_int\n",
      "    p += compute_erf_prob(interval, means[i][j], var[i][j])\n",
      "  File \"../deepbayesHF/analyzers/probverification.py\", line 261, in compute_interval_probs_weight_int\n",
      "    p += compute_erf_prob(interval, means[i][j], var[i][j])\n",
      "  File \"../deepbayesHF/analyzers/probverification.py\", line 261, in compute_interval_probs_weight_int\n",
      "    p += compute_erf_prob(interval, means[i][j], var[i][j])\n",
      "  File \"../deepbayesHF/analyzers/probverification.py\", line 261, in compute_interval_probs_weight_int\n",
      "    p += compute_erf_prob(interval, means[i][j], var[i][j])\n"
     ]
    },
    {
     "name": "stderr",
     "output_type": "stream",
     "text": [
      "  File \"../deepbayesHF/analyzers/probverification.py\", line 261, in compute_interval_probs_weight_int\n",
      "    p += compute_erf_prob(interval, means[i][j], var[i][j])\n",
      "  File \"../deepbayesHF/analyzers/probverification.py\", line 261, in compute_interval_probs_weight_int\n",
      "    p += compute_erf_prob(interval, means[i][j], var[i][j])\n",
      "  File \"../deepbayesHF/analyzers/probverification.py\", line 261, in compute_interval_probs_weight_int\n",
      "    p += compute_erf_prob(interval, means[i][j], var[i][j])\n",
      "  File \"../deepbayesHF/analyzers/probverification.py\", line 261, in compute_interval_probs_weight_int\n",
      "    p += compute_erf_prob(interval, means[i][j], var[i][j])\n",
      "  File \"../deepbayesHF/analyzers/probverification.py\", line 261, in compute_interval_probs_weight_int\n",
      "    p += compute_erf_prob(interval, means[i][j], var[i][j])\n",
      "  File \"../deepbayesHF/analyzers/probverification.py\", line 261, in compute_interval_probs_weight_int\n",
      "    p += compute_erf_prob(interval, means[i][j], var[i][j])\n",
      "  File \"../deepbayesHF/analyzers/probverification.py\", line 186, in compute_erf_prob\n",
      "    val1 = erf((mean-interval[0])/(math.sqrt(2)*(var)))\n",
      "  File \"/home/matker/.local/lib/python3.8/site-packages/tensorflow/python/ops/gen_math_ops.py\", line 11126, in sub\n",
      "    _result = pywrap_tfe.TFE_Py_FastPathExecute(\n",
      "  File \"/home/matker/.local/lib/python3.8/site-packages/tensorflow/python/util/traceback_utils.py\", line 150, in error_handler\n",
      "    return fn(*args, **kwargs)\n",
      "  File \"../deepbayesHF/analyzers/probverification.py\", line 186, in compute_erf_prob\n",
      "    val1 = erf((mean-interval[0])/(math.sqrt(2)*(var)))\n",
      "  File \"../deepbayesHF/analyzers/probverification.py\", line 186, in compute_erf_prob\n",
      "    val1 = erf((mean-interval[0])/(math.sqrt(2)*(var)))\n",
      "  File \"../deepbayesHF/analyzers/probverification.py\", line 187, in compute_erf_prob\n",
      "    val2 = erf((mean-interval[1])/(math.sqrt(2)*(var)))\n",
      "  File \"/home/matker/.local/lib/python3.8/site-packages/tensorflow/python/util/traceback_utils.py\", line 150, in error_handler\n",
      "    return fn(*args, **kwargs)\n",
      "KeyboardInterrupt\n",
      "  File \"/home/matker/.local/lib/python3.8/site-packages/tensorflow/python/util/traceback_utils.py\", line 150, in error_handler\n",
      "    return fn(*args, **kwargs)\n",
      "  File \"/home/matker/.local/lib/python3.8/site-packages/tensorflow/python/util/traceback_utils.py\", line 150, in error_handler\n",
      "    return fn(*args, **kwargs)\n",
      "  File \"../deepbayesHF/analyzers/probverification.py\", line 187, in compute_erf_prob\n",
      "    val2 = erf((mean-interval[1])/(math.sqrt(2)*(var)))\n",
      "  File \"/home/matker/.local/lib/python3.8/site-packages/tensorflow/python/util/traceback_utils.py\", line 150, in error_handler\n",
      "    return fn(*args, **kwargs)\n",
      "  File \"/home/matker/.local/lib/python3.8/site-packages/tensorflow/python/util/traceback_utils.py\", line 150, in error_handler\n",
      "    return fn(*args, **kwargs)\n",
      "  File \"../deepbayesHF/analyzers/probverification.py\", line 188, in compute_erf_prob\n",
      "    prob += 0.5*(val1-val2)\n",
      "  File \"/home/matker/.local/lib/python3.8/site-packages/tensorflow/python/util/traceback_utils.py\", line 150, in error_handler\n",
      "    return fn(*args, **kwargs)\n",
      "  File \"/home/matker/.local/lib/python3.8/site-packages/tensorflow/python/util/traceback_utils.py\", line 150, in error_handler\n",
      "    return fn(*args, **kwargs)\n",
      "  File \"../deepbayesHF/analyzers/probverification.py\", line 187, in compute_erf_prob\n",
      "    val2 = erf((mean-interval[1])/(math.sqrt(2)*(var)))\n",
      "  File \"../deepbayesHF/analyzers/probverification.py\", line 187, in compute_erf_prob\n",
      "    val2 = erf((mean-interval[1])/(math.sqrt(2)*(var)))\n",
      "  File \"../deepbayesHF/analyzers/probverification.py\", line 186, in compute_erf_prob\n",
      "    val1 = erf((mean-interval[0])/(math.sqrt(2)*(var)))\n",
      "  File \"../deepbayesHF/analyzers/probverification.py\", line 186, in compute_erf_prob\n",
      "    val1 = erf((mean-interval[0])/(math.sqrt(2)*(var)))\n",
      "  File \"../deepbayesHF/analyzers/probverification.py\", line 187, in compute_erf_prob\n",
      "    val2 = erf((mean-interval[1])/(math.sqrt(2)*(var)))\n",
      "  File \"/home/matker/.local/lib/python3.8/site-packages/tensorflow/python/util/traceback_utils.py\", line 150, in error_handler\n",
      "    return fn(*args, **kwargs)\n",
      "  File \"../deepbayesHF/analyzers/probverification.py\", line 186, in compute_erf_prob\n",
      "    val1 = erf((mean-interval[0])/(math.sqrt(2)*(var)))\n",
      "  File \"../deepbayesHF/analyzers/probverification.py\", line 186, in compute_erf_prob\n",
      "    val1 = erf((mean-interval[0])/(math.sqrt(2)*(var)))\n",
      "  File \"../deepbayesHF/analyzers/probverification.py\", line 187, in compute_erf_prob\n",
      "    val2 = erf((mean-interval[1])/(math.sqrt(2)*(var)))\n",
      "  File \"../deepbayesHF/analyzers/probverification.py\", line 186, in compute_erf_prob\n",
      "    val1 = erf((mean-interval[0])/(math.sqrt(2)*(var)))\n",
      "  File \"../deepbayesHF/analyzers/probverification.py\", line 186, in compute_erf_prob\n",
      "    val1 = erf((mean-interval[0])/(math.sqrt(2)*(var)))\n",
      "  File \"/home/matker/.local/lib/python3.8/site-packages/tensorflow/python/util/traceback_utils.py\", line 150, in error_handler\n",
      "    return fn(*args, **kwargs)\n",
      "  File \"/home/matker/.local/lib/python3.8/site-packages/tensorflow/python/util/traceback_utils.py\", line 150, in error_handler\n",
      "    return fn(*args, **kwargs)\n",
      "  File \"/home/matker/.local/lib/python3.8/site-packages/tensorflow/python/util/dispatch.py\", line 1096, in op_dispatch_handler\n",
      "    return dispatch_target(*args, **kwargs)\n",
      "  File \"/home/matker/.local/lib/python3.8/site-packages/tensorflow/python/util/traceback_utils.py\", line 150, in error_handler\n",
      "    return fn(*args, **kwargs)\n",
      "  File \"/home/matker/.local/lib/python3.8/site-packages/tensorflow/python/util/traceback_utils.py\", line 150, in error_handler\n",
      "    return fn(*args, **kwargs)\n",
      "KeyboardInterrupt\n",
      "  File \"/home/matker/.local/lib/python3.8/site-packages/tensorflow/python/util/dispatch.py\", line 1096, in op_dispatch_handler\n",
      "    return dispatch_target(*args, **kwargs)\n",
      "  File \"/home/matker/.local/lib/python3.8/site-packages/tensorflow/python/util/traceback_utils.py\", line 150, in error_handler\n",
      "    return fn(*args, **kwargs)\n",
      "  File \"/home/matker/.local/lib/python3.8/site-packages/tensorflow/python/util/dispatch.py\", line 1096, in op_dispatch_handler\n",
      "    return dispatch_target(*args, **kwargs)\n",
      "  File \"/home/matker/.local/lib/python3.8/site-packages/tensorflow/python/util/dispatch.py\", line 1096, in op_dispatch_handler\n",
      "    return dispatch_target(*args, **kwargs)\n",
      "  File \"/home/matker/.local/lib/python3.8/site-packages/tensorflow/python/util/traceback_utils.py\", line 150, in error_handler\n",
      "    return fn(*args, **kwargs)\n",
      "  File \"/home/matker/.local/lib/python3.8/site-packages/tensorflow/python/util/dispatch.py\", line 1096, in op_dispatch_handler\n",
      "    return dispatch_target(*args, **kwargs)\n",
      "  File \"/home/matker/.local/lib/python3.8/site-packages/tensorflow/python/util/dispatch.py\", line 1096, in op_dispatch_handler\n",
      "    return dispatch_target(*args, **kwargs)\n",
      "  File \"/home/matker/.local/lib/python3.8/site-packages/tensorflow/python/util/dispatch.py\", line 1096, in op_dispatch_handler\n",
      "    return dispatch_target(*args, **kwargs)\n",
      "KeyboardInterrupt\n",
      "  File \"/home/matker/.local/lib/python3.8/site-packages/tensorflow/python/util/dispatch.py\", line 1096, in op_dispatch_handler\n",
      "    return dispatch_target(*args, **kwargs)\n",
      "  File \"/home/matker/.local/lib/python3.8/site-packages/tensorflow/python/util/traceback_utils.py\", line 150, in error_handler\n",
      "    return fn(*args, **kwargs)\n",
      "KeyboardInterrupt\n",
      "KeyboardInterrupt\n",
      "  File \"/home/matker/.local/lib/python3.8/site-packages/tensorflow/python/util/traceback_utils.py\", line 150, in error_handler\n",
      "    return fn(*args, **kwargs)\n",
      "  File \"/home/matker/.local/lib/python3.8/site-packages/tensorflow/python/util/traceback_utils.py\", line 150, in error_handler\n",
      "    return fn(*args, **kwargs)\n",
      "  File \"/home/matker/.local/lib/python3.8/site-packages/tensorflow/python/util/traceback_utils.py\", line 150, in error_handler\n",
      "    return fn(*args, **kwargs)\n",
      "  File \"/home/matker/.local/lib/python3.8/site-packages/tensorflow/python/util/dispatch.py\", line 1096, in op_dispatch_handler\n",
      "    return dispatch_target(*args, **kwargs)\n",
      "  File \"/home/matker/.local/lib/python3.8/site-packages/tensorflow/python/util/traceback_utils.py\", line 150, in error_handler\n",
      "    return fn(*args, **kwargs)\n",
      "  File \"/home/matker/.local/lib/python3.8/site-packages/tensorflow/python/util/traceback_utils.py\", line 150, in error_handler\n",
      "    return fn(*args, **kwargs)\n"
     ]
    },
    {
     "name": "stderr",
     "output_type": "stream",
     "text": [
      "  File \"/home/matker/.local/lib/python3.8/site-packages/tensorflow/python/util/traceback_utils.py\", line 150, in error_handler\n",
      "    return fn(*args, **kwargs)\n",
      "  File \"/home/matker/.local/lib/python3.8/site-packages/tensorflow/python/util/traceback_utils.py\", line 150, in error_handler\n",
      "    return fn(*args, **kwargs)\n",
      "KeyboardInterrupt\n",
      "  File \"/home/matker/.local/lib/python3.8/site-packages/tensorflow/python/util/dispatch.py\", line 1096, in op_dispatch_handler\n",
      "    return dispatch_target(*args, **kwargs)\n",
      "  File \"/home/matker/.local/lib/python3.8/site-packages/tensorflow/python/ops/math_ops.py\", line 1383, in binary_op_wrapper\n",
      "    return func(x, y, name=name)\n",
      "  File \"/home/matker/.local/lib/python3.8/site-packages/tensorflow/python/ops/array_ops.py\", line 1028, in _slice_helper\n",
      "    packed_begin, packed_end, packed_strides = (stack(begin), stack(end),\n",
      "  File \"/home/matker/.local/lib/python3.8/site-packages/tensorflow/python/ops/math_ops.py\", line 1383, in binary_op_wrapper\n",
      "    return func(x, y, name=name)\n",
      "  File \"/home/matker/.local/lib/python3.8/site-packages/tensorflow/python/ops/math_ops.py\", line 1383, in binary_op_wrapper\n",
      "    return func(x, y, name=name)\n",
      "  File \"/home/matker/.local/lib/python3.8/site-packages/tensorflow/python/ops/array_ops.py\", line 1030, in _slice_helper\n",
      "    if (packed_begin.dtype == dtypes.int64 or\n",
      "  File \"/home/matker/.local/lib/python3.8/site-packages/tensorflow/python/ops/array_ops.py\", line 1030, in _slice_helper\n",
      "    if (packed_begin.dtype == dtypes.int64 or\n",
      "  File \"/home/matker/.local/lib/python3.8/site-packages/tensorflow/python/ops/array_ops.py\", line 1028, in _slice_helper\n",
      "    packed_begin, packed_end, packed_strides = (stack(begin), stack(end),\n",
      "  File \"/home/matker/.local/lib/python3.8/site-packages/tensorflow/python/ops/math_ops.py\", line 1383, in binary_op_wrapper\n",
      "    return func(x, y, name=name)\n",
      "  File \"/home/matker/.local/lib/python3.8/site-packages/tensorflow/python/ops/array_ops.py\", line 1042, in _slice_helper\n",
      "    return strided_slice(\n",
      "  File \"/home/matker/.local/lib/python3.8/site-packages/tensorflow/python/ops/array_ops.py\", line 1028, in _slice_helper\n",
      "    packed_begin, packed_end, packed_strides = (stack(begin), stack(end),\n",
      "  File \"/home/matker/.local/lib/python3.8/site-packages/tensorflow/python/ops/array_ops.py\", line 1028, in _slice_helper\n",
      "    packed_begin, packed_end, packed_strides = (stack(begin), stack(end),\n",
      "  File \"/home/matker/.local/lib/python3.8/site-packages/tensorflow/python/ops/array_ops.py\", line 1029, in _slice_helper\n",
      "    stack(strides))\n",
      "  File \"/home/matker/.local/lib/python3.8/site-packages/tensorflow/python/ops/math_ops.py\", line 1383, in binary_op_wrapper\n",
      "    return func(x, y, name=name)\n",
      "  File \"/home/matker/.local/lib/python3.8/site-packages/tensorflow/python/ops/math_ops.py\", line 1383, in binary_op_wrapper\n",
      "    return func(x, y, name=name)\n",
      "  File \"/home/matker/.local/lib/python3.8/site-packages/tensorflow/python/ops/math_ops.py\", line 1383, in binary_op_wrapper\n",
      "    return func(x, y, name=name)\n",
      "  File \"/home/matker/.local/lib/python3.8/site-packages/tensorflow/python/ops/math_ops.py\", line 1383, in binary_op_wrapper\n",
      "    return func(x, y, name=name)\n",
      "  File \"/home/matker/.local/lib/python3.8/site-packages/tensorflow/python/ops/array_ops.py\", line 1028, in _slice_helper\n",
      "    packed_begin, packed_end, packed_strides = (stack(begin), stack(end),\n",
      "  File \"/home/matker/.local/lib/python3.8/site-packages/tensorflow/python/ops/math_ops.py\", line 1383, in binary_op_wrapper\n",
      "    return func(x, y, name=name)\n",
      "  File \"/home/matker/.local/lib/python3.8/site-packages/tensorflow/python/ops/math_ops.py\", line 1383, in binary_op_wrapper\n",
      "    return func(x, y, name=name)\n",
      "  File \"/home/matker/.local/lib/python3.8/site-packages/tensorflow/python/ops/math_ops.py\", line 1383, in binary_op_wrapper\n",
      "    return func(x, y, name=name)\n",
      "  File \"/home/matker/.local/lib/python3.8/site-packages/tensorflow/python/ops/math_ops.py\", line 1383, in binary_op_wrapper\n",
      "    return func(x, y, name=name)\n",
      "  File \"/home/matker/.local/lib/python3.8/site-packages/tensorflow/python/util/traceback_utils.py\", line 150, in error_handler\n",
      "    return fn(*args, **kwargs)\n",
      "  File \"/home/matker/.local/lib/python3.8/site-packages/tensorflow/python/ops/array_ops.py\", line 1028, in _slice_helper\n",
      "    packed_begin, packed_end, packed_strides = (stack(begin), stack(end),\n",
      "  File \"/home/matker/.local/lib/python3.8/site-packages/tensorflow/python/util/traceback_utils.py\", line 140, in error_handler\n",
      "    if not is_traceback_filtering_enabled():\n",
      "  File \"/home/matker/.local/lib/python3.8/site-packages/tensorflow/python/util/traceback_utils.py\", line 150, in error_handler\n",
      "    return fn(*args, **kwargs)\n",
      "  File \"/home/matker/.local/lib/python3.8/site-packages/tensorflow/python/util/traceback_utils.py\", line 150, in error_handler\n",
      "    return fn(*args, **kwargs)\n",
      "  File \"/home/matker/.local/lib/python3.8/site-packages/tensorflow/python/framework/dtypes.py\", line 190, in __eq__\n",
      "    return self._type_enum == other._type_enum  # pylint: disable=protected-access\n",
      "  File \"/home/matker/.local/lib/python3.8/site-packages/tensorflow/python/util/traceback_utils.py\", line 150, in error_handler\n",
      "    return fn(*args, **kwargs)\n",
      "  File \"/home/matker/.local/lib/python3.8/site-packages/tensorflow/python/util/traceback_utils.py\", line 139, in error_handler\n",
      "    try:\n",
      "  File \"/home/matker/.local/lib/python3.8/site-packages/tensorflow/python/util/traceback_utils.py\", line 150, in error_handler\n",
      "    return fn(*args, **kwargs)\n",
      "  File \"/home/matker/.local/lib/python3.8/site-packages/tensorflow/python/util/traceback_utils.py\", line 150, in error_handler\n",
      "    return fn(*args, **kwargs)\n",
      "  File \"/home/matker/.local/lib/python3.8/site-packages/tensorflow/python/util/traceback_utils.py\", line 150, in error_handler\n",
      "    return fn(*args, **kwargs)\n",
      "  File \"/home/matker/.local/lib/python3.8/site-packages/tensorflow/python/util/traceback_utils.py\", line 150, in error_handler\n",
      "    return fn(*args, **kwargs)\n",
      "  File \"/home/matker/.local/lib/python3.8/site-packages/tensorflow/python/util/traceback_utils.py\", line 150, in error_handler\n",
      "    return fn(*args, **kwargs)\n",
      "  File \"/home/matker/.local/lib/python3.8/site-packages/tensorflow/python/util/traceback_utils.py\", line 150, in error_handler\n",
      "    return fn(*args, **kwargs)\n",
      "  File \"/home/matker/.local/lib/python3.8/site-packages/tensorflow/python/util/traceback_utils.py\", line 139, in error_handler\n",
      "    try:\n",
      "  File \"/home/matker/.local/lib/python3.8/site-packages/tensorflow/python/util/traceback_utils.py\", line 150, in error_handler\n",
      "    return fn(*args, **kwargs)\n",
      "  File \"/home/matker/.local/lib/python3.8/site-packages/tensorflow/python/util/traceback_utils.py\", line 150, in error_handler\n",
      "    return fn(*args, **kwargs)\n",
      "  File \"/home/matker/.local/lib/python3.8/site-packages/tensorflow/python/util/traceback_utils.py\", line 150, in error_handler\n",
      "    return fn(*args, **kwargs)\n",
      "  File \"/home/matker/.local/lib/python3.8/site-packages/tensorflow/python/util/traceback_utils.py\", line 150, in error_handler\n",
      "    return fn(*args, **kwargs)\n",
      "  File \"/home/matker/.local/lib/python3.8/site-packages/tensorflow/python/util/traceback_utils.py\", line 150, in error_handler\n",
      "    return fn(*args, **kwargs)\n",
      "KeyboardInterrupt\n",
      "  File \"/home/matker/.local/lib/python3.8/site-packages/tensorflow/python/util/dispatch.py\", line 1096, in op_dispatch_handler\n",
      "    return dispatch_target(*args, **kwargs)\n",
      "  File \"/home/matker/.local/lib/python3.8/site-packages/tensorflow/python/util/traceback_utils.py\", line 150, in error_handler\n",
      "    return fn(*args, **kwargs)\n",
      "  File \"/home/matker/.local/lib/python3.8/site-packages/tensorflow/python/util/traceback_utils.py\", line 150, in error_handler\n",
      "    return fn(*args, **kwargs)\n",
      "  File \"/home/matker/.local/lib/python3.8/site-packages/tensorflow/python/util/dispatch.py\", line 1096, in op_dispatch_handler\n",
      "    return dispatch_target(*args, **kwargs)\n",
      "  File \"/home/matker/.local/lib/python3.8/site-packages/tensorflow/python/util/dispatch.py\", line 1090, in op_dispatch_handler\n",
      "    result = api_dispatcher.Dispatch(args, kwargs)\n",
      "KeyboardInterrupt\n",
      "KeyboardInterrupt\n",
      "  File \"/home/matker/.local/lib/python3.8/site-packages/tensorflow/python/util/dispatch.py\", line 1096, in op_dispatch_handler\n",
      "    return dispatch_target(*args, **kwargs)\n"
     ]
    },
    {
     "name": "stderr",
     "output_type": "stream",
     "text": [
      "  File \"/home/matker/.local/lib/python3.8/site-packages/tensorflow/python/util/dispatch.py\", line 1096, in op_dispatch_handler\n",
      "    return dispatch_target(*args, **kwargs)\n",
      "KeyboardInterrupt\n",
      "  File \"/home/matker/.local/lib/python3.8/site-packages/tensorflow/python/util/dispatch.py\", line 1096, in op_dispatch_handler\n",
      "    return dispatch_target(*args, **kwargs)\n",
      "  File \"/home/matker/.local/lib/python3.8/site-packages/tensorflow/python/util/dispatch.py\", line 1096, in op_dispatch_handler\n",
      "    return dispatch_target(*args, **kwargs)\n",
      "  File \"/home/matker/.local/lib/python3.8/site-packages/tensorflow/python/util/dispatch.py\", line 1096, in op_dispatch_handler\n",
      "    return dispatch_target(*args, **kwargs)\n",
      "  File \"/home/matker/.local/lib/python3.8/site-packages/tensorflow/python/util/dispatch.py\", line 1096, in op_dispatch_handler\n",
      "    return dispatch_target(*args, **kwargs)\n",
      "  File \"/home/matker/.local/lib/python3.8/site-packages/tensorflow/python/util/dispatch.py\", line 1096, in op_dispatch_handler\n",
      "    return dispatch_target(*args, **kwargs)\n",
      "KeyboardInterrupt\n",
      "  File \"/home/matker/.local/lib/python3.8/site-packages/tensorflow/python/util/dispatch.py\", line 1096, in op_dispatch_handler\n",
      "    return dispatch_target(*args, **kwargs)\n",
      "  File \"/home/matker/.local/lib/python3.8/site-packages/tensorflow/python/util/dispatch.py\", line 1096, in op_dispatch_handler\n",
      "    return dispatch_target(*args, **kwargs)\n",
      "  File \"/home/matker/.local/lib/python3.8/site-packages/tensorflow/python/ops/math_ops.py\", line 1566, in truediv\n",
      "    return _truediv_python3(x, y, name)\n",
      "  File \"/home/matker/.local/lib/python3.8/site-packages/tensorflow/python/util/dispatch.py\", line 1096, in op_dispatch_handler\n",
      "    return dispatch_target(*args, **kwargs)\n",
      "  File \"/home/matker/.local/lib/python3.8/site-packages/tensorflow/python/util/dispatch.py\", line 1096, in op_dispatch_handler\n",
      "    return dispatch_target(*args, **kwargs)\n",
      "  File \"/home/matker/.local/lib/python3.8/site-packages/tensorflow/python/util/dispatch.py\", line 1096, in op_dispatch_handler\n",
      "    return dispatch_target(*args, **kwargs)\n",
      "  File \"/home/matker/.local/lib/python3.8/site-packages/tensorflow/python/util/dispatch.py\", line 1096, in op_dispatch_handler\n",
      "    return dispatch_target(*args, **kwargs)\n",
      "  File \"/home/matker/.local/lib/python3.8/site-packages/tensorflow/python/util/dispatch.py\", line 1096, in op_dispatch_handler\n",
      "    return dispatch_target(*args, **kwargs)\n",
      "  File \"/home/matker/.local/lib/python3.8/site-packages/tensorflow/python/ops/math_ops.py\", line 1566, in truediv\n",
      "    return _truediv_python3(x, y, name)\n",
      "KeyboardInterrupt\n",
      "  File \"/home/matker/.local/lib/python3.8/site-packages/tensorflow/python/ops/array_ops.py\", line 1414, in stack\n",
      "    return ops.convert_to_tensor(values, name=name)\n",
      "  File \"/home/matker/.local/lib/python3.8/site-packages/tensorflow/python/ops/math_ops.py\", line 553, in subtract\n",
      "    return gen_math_ops.sub(x, y, name)\n",
      "  File \"/home/matker/.local/lib/python3.8/site-packages/tensorflow/python/ops/math_ops.py\", line 553, in subtract\n",
      "    return gen_math_ops.sub(x, y, name)\n",
      "  File \"/home/matker/.local/lib/python3.8/site-packages/tensorflow/python/ops/array_ops.py\", line 1414, in stack\n",
      "    return ops.convert_to_tensor(values, name=name)\n",
      "  File \"/home/matker/.local/lib/python3.8/site-packages/tensorflow/python/ops/array_ops.py\", line 1414, in stack\n",
      "    return ops.convert_to_tensor(values, name=name)\n",
      "  File \"/home/matker/.local/lib/python3.8/site-packages/tensorflow/python/ops/array_ops.py\", line 1414, in stack\n",
      "    return ops.convert_to_tensor(values, name=name)\n",
      "  File \"/home/matker/.local/lib/python3.8/site-packages/tensorflow/python/ops/math_ops.py\", line 553, in subtract\n",
      "    return gen_math_ops.sub(x, y, name)\n",
      "  File \"/home/matker/.local/lib/python3.8/site-packages/tensorflow/python/ops/math_ops.py\", line 553, in subtract\n",
      "    return gen_math_ops.sub(x, y, name)\n",
      "  File \"/home/matker/.local/lib/python3.8/site-packages/tensorflow/python/ops/array_ops.py\", line 1414, in stack\n",
      "    return ops.convert_to_tensor(values, name=name)\n",
      "  File \"/home/matker/.local/lib/python3.8/site-packages/tensorflow/python/ops/math_ops.py\", line 1487, in _truediv_python3\n",
      "    with ops.name_scope(name, \"truediv\", [x, y]) as name:\n",
      "  File \"/home/matker/.local/lib/python3.8/site-packages/tensorflow/python/ops/math_ops.py\", line 553, in subtract\n",
      "    return gen_math_ops.sub(x, y, name)\n",
      "  File \"/home/matker/.local/lib/python3.8/site-packages/tensorflow/python/ops/array_ops.py\", line 1414, in stack\n",
      "    return ops.convert_to_tensor(values, name=name)\n",
      "  File \"/home/matker/.local/lib/python3.8/site-packages/tensorflow/python/ops/math_ops.py\", line 553, in subtract\n",
      "    return gen_math_ops.sub(x, y, name)\n",
      "  File \"/home/matker/.local/lib/python3.8/site-packages/tensorflow/python/ops/math_ops.py\", line 1566, in truediv\n",
      "    return _truediv_python3(x, y, name)\n",
      "  File \"/home/matker/.local/lib/python3.8/site-packages/tensorflow/python/ops/math_ops.py\", line 1566, in truediv\n",
      "    return _truediv_python3(x, y, name)\n",
      "  File \"/home/matker/.local/lib/python3.8/site-packages/tensorflow/python/ops/math_ops.py\", line 1504, in _truediv_python3\n",
      "    return gen_math_ops.real_div(x, y, name=name)\n",
      "  File \"/home/matker/.local/lib/python3.8/site-packages/tensorflow/python/profiler/trace.py\", line 163, in wrapped\n",
      "    return func(*args, **kwargs)\n",
      "  File \"/home/matker/.local/lib/python3.8/site-packages/tensorflow/python/ops/gen_math_ops.py\", line 11134, in sub\n",
      "    return sub_eager_fallback(\n",
      "  File \"/home/matker/.local/lib/python3.8/site-packages/tensorflow/python/ops/gen_math_ops.py\", line 11134, in sub\n",
      "    return sub_eager_fallback(\n",
      "  File \"/home/matker/.local/lib/python3.8/site-packages/tensorflow/python/profiler/trace.py\", line 163, in wrapped\n",
      "    return func(*args, **kwargs)\n",
      "  File \"/home/matker/.local/lib/python3.8/site-packages/tensorflow/python/profiler/trace.py\", line 163, in wrapped\n",
      "    return func(*args, **kwargs)\n",
      "  File \"/home/matker/.local/lib/python3.8/site-packages/tensorflow/python/ops/gen_math_ops.py\", line 11134, in sub\n",
      "    return sub_eager_fallback(\n",
      "  File \"/home/matker/.local/lib/python3.8/site-packages/tensorflow/python/profiler/trace.py\", line 163, in wrapped\n",
      "    return func(*args, **kwargs)\n",
      "  File \"/home/matker/.local/lib/python3.8/site-packages/tensorflow/python/framework/ops.py\", line 175, in __enter__\n",
      "    def __enter__(self):\n",
      "  File \"/home/matker/.local/lib/python3.8/site-packages/tensorflow/python/ops/gen_math_ops.py\", line 11134, in sub\n",
      "    return sub_eager_fallback(\n",
      "  File \"/home/matker/.local/lib/python3.8/site-packages/tensorflow/python/profiler/trace.py\", line 163, in wrapped\n",
      "    return func(*args, **kwargs)\n",
      "  File \"/home/matker/.local/lib/python3.8/site-packages/tensorflow/python/profiler/trace.py\", line 163, in wrapped\n",
      "    return func(*args, **kwargs)\n",
      "  File \"/home/matker/.local/lib/python3.8/site-packages/tensorflow/python/ops/gen_math_ops.py\", line 11134, in sub\n",
      "    return sub_eager_fallback(\n",
      "  File \"/home/matker/.local/lib/python3.8/site-packages/tensorflow/python/ops/gen_math_ops.py\", line 11134, in sub\n",
      "    return sub_eager_fallback(\n",
      "  File \"/home/matker/.local/lib/python3.8/site-packages/tensorflow/python/ops/math_ops.py\", line 1489, in _truediv_python3\n",
      "    y = ops.convert_to_tensor(y, dtype_hint=x.dtype.base_dtype, name=\"y\")\n",
      "  File \"/home/matker/.local/lib/python3.8/site-packages/tensorflow/python/ops/math_ops.py\", line 1489, in _truediv_python3\n",
      "    y = ops.convert_to_tensor(y, dtype_hint=x.dtype.base_dtype, name=\"y\")\n",
      "KeyboardInterrupt\n",
      "KeyboardInterrupt\n",
      "  File \"/home/matker/.local/lib/python3.8/site-packages/tensorflow/python/ops/gen_math_ops.py\", line 11154, in sub_eager_fallback\n",
      "    _attr_T, _inputs_T = _execute.args_to_matching_eager([x, y], ctx, [_dtypes.bfloat16, _dtypes.half, _dtypes.float32, _dtypes.float64, _dtypes.uint8, _dtypes.int8, _dtypes.uint16, _dtypes.int16, _dtypes.int32, _dtypes.int64, _dtypes.complex64, _dtypes.complex128, _dtypes.uint32, _dtypes.uint64, ])\n",
      "KeyboardInterrupt\n",
      "  File \"/home/matker/.local/lib/python3.8/site-packages/tensorflow/python/framework/ops.py\", line 1621, in convert_to_tensor\n",
      "    ret = conversion_func(value, dtype=dtype, name=name, as_ref=as_ref)\n",
      "  File \"/home/matker/.local/lib/python3.8/site-packages/tensorflow/python/framework/ops.py\", line 1621, in convert_to_tensor\n",
      "    ret = conversion_func(value, dtype=dtype, name=name, as_ref=as_ref)\n"
     ]
    },
    {
     "name": "stderr",
     "output_type": "stream",
     "text": [
      "KeyboardInterrupt\n",
      "  File \"/home/matker/.local/lib/python3.8/site-packages/tensorflow/python/ops/gen_math_ops.py\", line 11154, in sub_eager_fallback\n",
      "    _attr_T, _inputs_T = _execute.args_to_matching_eager([x, y], ctx, [_dtypes.bfloat16, _dtypes.half, _dtypes.float32, _dtypes.float64, _dtypes.uint8, _dtypes.int8, _dtypes.uint16, _dtypes.int16, _dtypes.int32, _dtypes.int64, _dtypes.complex64, _dtypes.complex128, _dtypes.uint32, _dtypes.uint64, ])\n",
      "  File \"/home/matker/.local/lib/python3.8/site-packages/tensorflow/python/framework/ops.py\", line 1621, in convert_to_tensor\n",
      "    ret = conversion_func(value, dtype=dtype, name=name, as_ref=as_ref)\n",
      "  File \"/home/matker/.local/lib/python3.8/site-packages/tensorflow/python/ops/gen_math_ops.py\", line 11154, in sub_eager_fallback\n",
      "    _attr_T, _inputs_T = _execute.args_to_matching_eager([x, y], ctx, [_dtypes.bfloat16, _dtypes.half, _dtypes.float32, _dtypes.float64, _dtypes.uint8, _dtypes.int8, _dtypes.uint16, _dtypes.int16, _dtypes.int32, _dtypes.int64, _dtypes.complex64, _dtypes.complex128, _dtypes.uint32, _dtypes.uint64, ])\n",
      "  File \"/home/matker/.local/lib/python3.8/site-packages/tensorflow/python/framework/ops.py\", line 1621, in convert_to_tensor\n",
      "    ret = conversion_func(value, dtype=dtype, name=name, as_ref=as_ref)\n",
      "  File \"/home/matker/.local/lib/python3.8/site-packages/tensorflow/python/framework/ops.py\", line 1621, in convert_to_tensor\n",
      "    ret = conversion_func(value, dtype=dtype, name=name, as_ref=as_ref)\n",
      "  File \"/home/matker/.local/lib/python3.8/site-packages/tensorflow/python/ops/gen_math_ops.py\", line 11154, in sub_eager_fallback\n",
      "    _attr_T, _inputs_T = _execute.args_to_matching_eager([x, y], ctx, [_dtypes.bfloat16, _dtypes.half, _dtypes.float32, _dtypes.float64, _dtypes.uint8, _dtypes.int8, _dtypes.uint16, _dtypes.int16, _dtypes.int32, _dtypes.int64, _dtypes.complex64, _dtypes.complex128, _dtypes.uint32, _dtypes.uint64, ])\n",
      "  File \"/home/matker/.local/lib/python3.8/site-packages/tensorflow/python/ops/gen_math_ops.py\", line 11154, in sub_eager_fallback\n",
      "    _attr_T, _inputs_T = _execute.args_to_matching_eager([x, y], ctx, [_dtypes.bfloat16, _dtypes.half, _dtypes.float32, _dtypes.float64, _dtypes.uint8, _dtypes.int8, _dtypes.uint16, _dtypes.int16, _dtypes.int32, _dtypes.int64, _dtypes.complex64, _dtypes.complex128, _dtypes.uint32, _dtypes.uint64, ])\n",
      "  File \"/home/matker/.local/lib/python3.8/site-packages/tensorflow/python/profiler/trace.py\", line 163, in wrapped\n",
      "    return func(*args, **kwargs)\n",
      "  File \"/home/matker/.local/lib/python3.8/site-packages/tensorflow/python/profiler/trace.py\", line 163, in wrapped\n",
      "    return func(*args, **kwargs)\n",
      "  File \"/home/matker/.local/lib/python3.8/site-packages/tensorflow/python/eager/execute.py\", line 275, in args_to_matching_eager\n",
      "    ret = [ops.convert_to_tensor(t, dtype, ctx=ctx) for t in l]\n",
      "  File \"/home/matker/.local/lib/python3.8/site-packages/tensorflow/python/framework/constant_op.py\", line 347, in _constant_tensor_conversion_function\n",
      "    return constant(v, dtype=dtype, name=name)\n",
      "  File \"/home/matker/.local/lib/python3.8/site-packages/tensorflow/python/framework/constant_op.py\", line 347, in _constant_tensor_conversion_function\n",
      "    return constant(v, dtype=dtype, name=name)\n",
      "  File \"/home/matker/.local/lib/python3.8/site-packages/tensorflow/python/eager/execute.py\", line 275, in args_to_matching_eager\n",
      "    ret = [ops.convert_to_tensor(t, dtype, ctx=ctx) for t in l]\n",
      "  File \"/home/matker/.local/lib/python3.8/site-packages/tensorflow/python/framework/constant_op.py\", line 347, in _constant_tensor_conversion_function\n",
      "    return constant(v, dtype=dtype, name=name)\n",
      "  File \"/home/matker/.local/lib/python3.8/site-packages/tensorflow/python/ops/array_ops.py\", line 1526, in _autopacking_conversion_function\n",
      "    if as_ref or _should_not_autopack(v):\n",
      "  File \"/home/matker/.local/lib/python3.8/site-packages/tensorflow/python/eager/execute.py\", line 275, in args_to_matching_eager\n",
      "    ret = [ops.convert_to_tensor(t, dtype, ctx=ctx) for t in l]\n",
      "  File \"/home/matker/.local/lib/python3.8/site-packages/tensorflow/python/eager/execute.py\", line 275, in args_to_matching_eager\n",
      "    ret = [ops.convert_to_tensor(t, dtype, ctx=ctx) for t in l]\n",
      "  File \"/home/matker/.local/lib/python3.8/site-packages/tensorflow/python/framework/constant_op.py\", line 347, in _constant_tensor_conversion_function\n",
      "    return constant(v, dtype=dtype, name=name)\n",
      "  File \"/home/matker/.local/lib/python3.8/site-packages/tensorflow/python/eager/execute.py\", line 279, in args_to_matching_eager\n",
      "    keras_symbolic_tensors = [x for x in ret if ops._is_keras_symbolic_tensor(x)]\n",
      "  File \"/home/matker/.local/lib/python3.8/site-packages/tensorflow/python/framework/ops.py\", line 1615, in convert_to_tensor\n",
      "    ret.dtype.base_dtype != preferred_dtype.base_dtype):\n",
      "  File \"/home/matker/.local/lib/python3.8/site-packages/tensorflow/python/eager/execute.py\", line 275, in <listcomp>\n",
      "    ret = [ops.convert_to_tensor(t, dtype, ctx=ctx) for t in l]\n",
      "  File \"/home/matker/.local/lib/python3.8/site-packages/tensorflow/python/framework/constant_op.py\", line 271, in constant\n",
      "    return _constant_impl(value, dtype, shape, name, verify_shape=False,\n",
      "  File \"/home/matker/.local/lib/python3.8/site-packages/tensorflow/python/framework/constant_op.py\", line 271, in constant\n",
      "    return _constant_impl(value, dtype, shape, name, verify_shape=False,\n",
      "  File \"/home/matker/.local/lib/python3.8/site-packages/tensorflow/python/framework/ops.py\", line 1608, in convert_to_tensor\n",
      "    ret = conversion_func(\n",
      "  File \"/home/matker/.local/lib/python3.8/site-packages/tensorflow/python/eager/execute.py\", line 275, in <listcomp>\n",
      "    ret = [ops.convert_to_tensor(t, dtype, ctx=ctx) for t in l]\n",
      "  File \"/home/matker/.local/lib/python3.8/site-packages/tensorflow/python/framework/constant_op.py\", line 271, in constant\n",
      "    return _constant_impl(value, dtype, shape, name, verify_shape=False,\n",
      "  File \"/home/matker/.local/lib/python3.8/site-packages/tensorflow/python/eager/execute.py\", line 275, in <listcomp>\n",
      "    ret = [ops.convert_to_tensor(t, dtype, ctx=ctx) for t in l]\n",
      "  File \"/home/matker/.local/lib/python3.8/site-packages/tensorflow/python/eager/execute.py\", line 275, in <listcomp>\n",
      "    ret = [ops.convert_to_tensor(t, dtype, ctx=ctx) for t in l]\n",
      "  File \"/home/matker/.local/lib/python3.8/site-packages/tensorflow/python/ops/array_ops.py\", line 1520, in _should_not_autopack\n",
      "    return all(type(elem) in _NON_AUTOPACKABLE_TYPES for elem in nest.flatten(v))\n",
      "  File \"/home/matker/.local/lib/python3.8/site-packages/tensorflow/python/framework/constant_op.py\", line 271, in constant\n",
      "    return _constant_impl(value, dtype, shape, name, verify_shape=False,\n",
      "  File \"/home/matker/.local/lib/python3.8/site-packages/tensorflow/python/eager/execute.py\", line 279, in <listcomp>\n",
      "    keras_symbolic_tensors = [x for x in ret if ops._is_keras_symbolic_tensor(x)]\n",
      "  File \"/home/matker/.local/lib/python3.8/site-packages/tensorflow/python/framework/constant_op.py\", line 283, in _constant_impl\n",
      "    return _constant_eager_impl(ctx, value, dtype, shape, verify_shape)\n",
      "  File \"/home/matker/.local/lib/python3.8/site-packages/tensorflow/python/profiler/trace.py\", line 163, in wrapped\n",
      "    return func(*args, **kwargs)\n",
      "  File \"/home/matker/.local/lib/python3.8/site-packages/tensorflow/python/framework/dtypes.py\", line 70, in base_dtype\n",
      "    if self._is_ref_dtype:\n",
      "KeyboardInterrupt\n",
      "  File \"/home/matker/.local/lib/python3.8/site-packages/tensorflow/python/framework/tensor_conversion_registry.py\", line 52, in _default_conversion_function\n",
      "    return constant_op.constant(value, dtype, name=name)\n",
      "  File \"/home/matker/.local/lib/python3.8/site-packages/tensorflow/python/profiler/trace.py\", line 163, in wrapped\n",
      "    return func(*args, **kwargs)\n",
      "  File \"/home/matker/.local/lib/python3.8/site-packages/tensorflow/python/framework/constant_op.py\", line 283, in _constant_impl\n",
      "    return _constant_eager_impl(ctx, value, dtype, shape, verify_shape)\n",
      "  File \"/home/matker/.local/lib/python3.8/site-packages/tensorflow/python/profiler/trace.py\", line 163, in wrapped\n",
      "    return func(*args, **kwargs)\n",
      "  File \"/home/matker/.local/lib/python3.8/site-packages/tensorflow/python/profiler/trace.py\", line 163, in wrapped\n",
      "    return func(*args, **kwargs)\n"
     ]
    },
    {
     "name": "stderr",
     "output_type": "stream",
     "text": [
      "  File \"/home/matker/.local/lib/python3.8/site-packages/tensorflow/python/util/nest.py\", line 417, in flatten\n",
      "    return _pywrap_utils.Flatten(structure, expand_composites)\n",
      "  File \"/home/matker/.local/lib/python3.8/site-packages/tensorflow/python/framework/constant_op.py\", line 283, in _constant_impl\n",
      "    return _constant_eager_impl(ctx, value, dtype, shape, verify_shape)\n",
      "  File \"/home/matker/.local/lib/python3.8/site-packages/tensorflow/python/framework/ops.py\", line 7064, in _is_keras_symbolic_tensor\n",
      "    return hasattr(x, \"graph\") and getattr(x.graph, \"name\", None) == \"keras_graph\"\n",
      "  File \"/home/matker/.local/lib/python3.8/site-packages/tensorflow/python/framework/constant_op.py\", line 308, in _constant_eager_impl\n",
      "    t = convert_to_eager_tensor(value, ctx, dtype)\n",
      "  File \"/home/matker/.local/lib/python3.8/site-packages/tensorflow/python/framework/ops.py\", line 1630, in convert_to_tensor\n",
      "    if dtype and not dtype.is_compatible_with(ret.dtype):\n",
      "  File \"/home/matker/.local/lib/python3.8/site-packages/tensorflow/python/framework/dtypes.py\", line 57, in _is_ref_dtype\n",
      "    return self._type_enum > 100\n",
      "  File \"/home/matker/.local/lib/python3.8/site-packages/tensorflow/python/framework/constant_op.py\", line 271, in constant\n",
      "    return _constant_impl(value, dtype, shape, name, verify_shape=False,\n",
      "  File \"/home/matker/.local/lib/python3.8/site-packages/tensorflow/python/framework/ops.py\", line 1621, in convert_to_tensor\n",
      "    ret = conversion_func(value, dtype=dtype, name=name, as_ref=as_ref)\n",
      "  File \"/home/matker/.local/lib/python3.8/site-packages/tensorflow/python/framework/constant_op.py\", line 308, in _constant_eager_impl\n",
      "    t = convert_to_eager_tensor(value, ctx, dtype)\n",
      "  File \"/home/matker/.local/lib/python3.8/site-packages/tensorflow/python/framework/ops.py\", line 1621, in convert_to_tensor\n",
      "    ret = conversion_func(value, dtype=dtype, name=name, as_ref=as_ref)\n",
      "  File \"/home/matker/.local/lib/python3.8/site-packages/tensorflow/python/framework/ops.py\", line 1621, in convert_to_tensor\n",
      "    ret = conversion_func(value, dtype=dtype, name=name, as_ref=as_ref)\n",
      "  File \"/home/matker/.local/lib/python3.8/site-packages/tensorflow/python/framework/constant_op.py\", line 308, in _constant_eager_impl\n",
      "    t = convert_to_eager_tensor(value, ctx, dtype)\n",
      "KeyboardInterrupt\n",
      "  File \"/home/matker/.local/lib/python3.8/site-packages/tensorflow/python/framework/ops.py\", line 434, in __getattr__\n",
      "    if name in {\"T\", \"astype\", \"ravel\", \"transpose\", \"reshape\", \"clip\", \"size\",\n",
      "  File \"/home/matker/.local/lib/python3.8/site-packages/tensorflow/python/framework/tensor_conversion_registry.py\", line 52, in _default_conversion_function\n",
      "    return constant_op.constant(value, dtype, name=name)\n",
      "  File \"/home/matker/.local/lib/python3.8/site-packages/tensorflow/python/framework/constant_op.py\", line 106, in convert_to_eager_tensor\n",
      "    return ops.EagerTensor(value, ctx.device_name, dtype)\n",
      "  File \"/home/matker/.local/lib/python3.8/site-packages/tensorflow/python/framework/dtypes.py\", line 176, in is_compatible_with\n",
      "    return self._type_enum in (other.as_datatype_enum,\n",
      "KeyboardInterrupt\n",
      "  File \"/home/matker/.local/lib/python3.8/site-packages/tensorflow/python/framework/constant_op.py\", line 283, in _constant_impl\n",
      "    return _constant_eager_impl(ctx, value, dtype, shape, verify_shape)\n",
      "  File \"/home/matker/.local/lib/python3.8/site-packages/tensorflow/python/framework/constant_op.py\", line 106, in convert_to_eager_tensor\n",
      "    return ops.EagerTensor(value, ctx.device_name, dtype)\n",
      "  File \"/home/matker/.local/lib/python3.8/site-packages/tensorflow/python/framework/tensor_conversion_registry.py\", line 52, in _default_conversion_function\n",
      "    return constant_op.constant(value, dtype, name=name)\n",
      "  File \"/home/matker/.local/lib/python3.8/site-packages/tensorflow/python/framework/tensor_conversion_registry.py\", line 52, in _default_conversion_function\n",
      "    return constant_op.constant(value, dtype, name=name)\n",
      "  File \"/home/matker/.local/lib/python3.8/site-packages/tensorflow/python/framework/constant_op.py\", line 106, in convert_to_eager_tensor\n",
      "    return ops.EagerTensor(value, ctx.device_name, dtype)\n",
      "KeyboardInterrupt\n",
      "  File \"/home/matker/.local/lib/python3.8/site-packages/tensorflow/python/framework/constant_op.py\", line 271, in constant\n",
      "    return _constant_impl(value, dtype, shape, name, verify_shape=False,\n",
      "KeyboardInterrupt\n",
      "KeyboardInterrupt\n",
      "  File \"/home/matker/.local/lib/python3.8/site-packages/tensorflow/python/framework/constant_op.py\", line 308, in _constant_eager_impl\n",
      "    t = convert_to_eager_tensor(value, ctx, dtype)\n",
      "  File \"/home/matker/.local/lib/python3.8/site-packages/tensorflow/python/framework/constant_op.py\", line 271, in constant\n",
      "    return _constant_impl(value, dtype, shape, name, verify_shape=False,\n",
      "KeyboardInterrupt\n",
      "KeyboardInterrupt\n",
      "  File \"/home/matker/.local/lib/python3.8/site-packages/tensorflow/python/framework/constant_op.py\", line 283, in _constant_impl\n",
      "    return _constant_eager_impl(ctx, value, dtype, shape, verify_shape)\n",
      "  File \"/home/matker/.local/lib/python3.8/site-packages/tensorflow/python/framework/constant_op.py\", line 271, in constant\n",
      "    return _constant_impl(value, dtype, shape, name, verify_shape=False,\n",
      "  File \"/home/matker/.local/lib/python3.8/site-packages/tensorflow/python/framework/constant_op.py\", line 106, in convert_to_eager_tensor\n",
      "    return ops.EagerTensor(value, ctx.device_name, dtype)\n",
      "  File \"/home/matker/.local/lib/python3.8/site-packages/tensorflow/python/framework/constant_op.py\", line 308, in _constant_eager_impl\n",
      "    t = convert_to_eager_tensor(value, ctx, dtype)\n",
      "  File \"/home/matker/.local/lib/python3.8/site-packages/tensorflow/python/framework/constant_op.py\", line 283, in _constant_impl\n",
      "    return _constant_eager_impl(ctx, value, dtype, shape, verify_shape)\n",
      "  File \"/home/matker/.local/lib/python3.8/site-packages/tensorflow/python/framework/constant_op.py\", line 106, in convert_to_eager_tensor\n",
      "    return ops.EagerTensor(value, ctx.device_name, dtype)\n",
      "  File \"/home/matker/.local/lib/python3.8/site-packages/tensorflow/python/framework/constant_op.py\", line 283, in _constant_impl\n",
      "    return _constant_eager_impl(ctx, value, dtype, shape, verify_shape)\n",
      "KeyboardInterrupt\n",
      "KeyboardInterrupt\n",
      "  File \"/home/matker/.local/lib/python3.8/site-packages/tensorflow/python/framework/constant_op.py\", line 308, in _constant_eager_impl\n",
      "    t = convert_to_eager_tensor(value, ctx, dtype)\n",
      "  File \"/home/matker/.local/lib/python3.8/site-packages/tensorflow/python/framework/constant_op.py\", line 308, in _constant_eager_impl\n",
      "    t = convert_to_eager_tensor(value, ctx, dtype)\n",
      "  File \"/home/matker/.local/lib/python3.8/site-packages/tensorflow/python/framework/constant_op.py\", line 106, in convert_to_eager_tensor\n",
      "    return ops.EagerTensor(value, ctx.device_name, dtype)\n",
      "  File \"/home/matker/.local/lib/python3.8/site-packages/tensorflow/python/framework/constant_op.py\", line 105, in convert_to_eager_tensor\n",
      "    ctx.ensure_initialized()\n"
     ]
    }
   ],
   "source": [
    "EPSILON = 0.65\n",
    "img = np.asarray([X_test[INDEX]])\n",
    "img_upper = np.clip(np.asarray([X_test[INDEX]+(EPSILON)]), 0, 1)\n",
    "img_lower = np.clip(np.asarray([X_test[INDEX]-(EPSILON)]), 0, 1)\n",
    "p_lower = prob_veri_upper(bayes_model, img_lower, img_upper, 0.5, 10, predicate=predicate_unsafe, depth=1)\n",
    "lowers.append(p_lower)"
   ]
  },
  {
   "cell_type": "code",
   "execution_count": 153,
   "id": "6b9bd2bc",
   "metadata": {},
   "outputs": [
    {
     "data": {
      "text/plain": [
       "(0.0, 1.0)"
      ]
     },
     "execution_count": 153,
     "metadata": {},
     "output_type": "execute_result"
    },
    {
     "data": {
      "image/png": "[encoded data removed]",
      "text/plain": [
       "<Figure size 480x960 with 1 Axes>"
      ]
     },
     "metadata": {
      "needs_background": "light"
     },
     "output_type": "display_data"
    }
   ],
   "source": [
    "plt.figure(figsize=(4, 8), dpi=120)\n",
    "plt.title('Probabilistic Robustness')\n",
    "plt.ylabel(r'MSE ($\\epsilon$)')\n",
    "plt.axhline(y=0.65, color='#6374c9', linestyle='-')\n",
    "plt.axhline(y=0.2, color='#c95244', linestyle='-')\n",
    "plt.ylim((0.0,1.0))"
   ]
  }
 ],
 "metadata": {
  "kernelspec": {
   "display_name": "Python 2",
   "language": "python",
   "name": "python2"
  },
  "language_info": {
   "codemirror_mode": {
    "name": "ipython",
    "version": 3
   },
   "file_extension": ".py",
   "mimetype": "text/x-python",
   "name": "python",
   "nbconvert_exporter": "python",
   "pygments_lexer": "ipython3",
   "version": "3.8.0"
  }
 },
 "nbformat": 4,
 "nbformat_minor": 5
}
