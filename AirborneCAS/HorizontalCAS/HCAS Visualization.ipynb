{
 "cells": [
  {
   "cell_type": "code",
   "execution_count": 1,
   "metadata": {},
   "outputs": [],
   "source": [
    "# Advisory indices\n",
    "\n",
    "# COC=0\n",
    "# WL=1\n",
    "# WR=2\n",
    "# SL=3\n",
    "# SR=4\n",
    "pra_vals = [0,1,2,3,4]\n",
    "tau_vals = [0,10,15,20,30,40,60]\n",
    "PRE, pra = 4,4       # Previous Advisory \n",
    "TAU, tau = 0,0       # Time to loss of horizontal separation\n",
    "PROP = 3             # Safety property\n",
    "ver = 6              # Neural network version\n",
    "table_ver = 6        # Table Version"
   ]
  },
  {
   "cell_type": "code",
   "execution_count": 2,
   "metadata": {},
   "outputs": [
    {
     "name": "stdout",
     "output_type": "stream",
     "text": [
      "Loading Data for HCAS, pra 04, Network Version 6\n",
      "[ 1.14237500e+04 -7.26499302e-19  8.19623304e-17 -2.42819387e-01]\n",
      "[5.60000000e+04 6.28318531e+00 6.28318531e+00 1.74792249e+01]\n",
      "[ 0.         -3.14159265 -3.14159265]\n",
      "[5.60000000e+04 3.14159265e+00 3.14159265e+00]\n"
     ]
    }
   ],
   "source": [
    "# Load in training data\n",
    "import h5py\n",
    "import numpy as np\n",
    "trainingDataFiles = \"./TrainingData/HCAS_rect_TrainingData_v%d_pra%d_tau%02d.h5\" # File format for training data\n",
    "\n",
    "print(\"Loading Data for HCAS, pra %02d, Network Version %d\" % (pra, ver))\n",
    "f       = h5py.File(trainingDataFiles % (table_ver,pra,tau),'r')\n",
    "X_train = np.array(f['X']).astype('float32')\n",
    "y_train       = np.array(f['y']).astype('float32')\n",
    "Q       = np.array(f['y']).astype('float32')\n",
    "means = np.array(f['means'])\n",
    "ranges=np.array(f['ranges'])\n",
    "mins = np.array(f['min_inputs'])\n",
    "maxes = np.array(f['max_inputs'])\n",
    "\n",
    "print(means)\n",
    "print(ranges)\n",
    "print(mins)\n",
    "print(maxes)"
   ]
  },
  {
   "cell_type": "code",
   "execution_count": 3,
   "metadata": {},
   "outputs": [
    {
     "name": "stdout",
     "output_type": "stream",
     "text": [
      "finished 1\n",
      "finished 1\n",
      "finished 1\n",
      "finished 1\n",
      "finished 1\n",
      "31\n",
      "104546\n",
      "189991\n",
      "0.5502681705975546\n"
     ]
    }
   ],
   "source": [
    "# Load in verification logs\n",
    "import os\n",
    "import json\n",
    "import numpy as np\n",
    "import pandas as pd\n",
    "\n",
    "PROP = 4\n",
    "\n",
    "def process_log(path_to_log):\n",
    "    rows = []\n",
    "    with open(path_to_log) as log_file:\n",
    "        for line in log_file:\n",
    "            #print(json.loads(line))\n",
    "            entry = json.loads(line)\n",
    "            rows.append(json.loads(line))\n",
    "    return pd.DataFrame.from_dict(rows, orient='columns')\n",
    "\n",
    "def count_safe(dataframe):\n",
    "    safe = 0\n",
    "    total = 0\n",
    "    for index, row in data.iterrows():\n",
    "        prob = float(row[\"Lower\"])\n",
    "        if(prob > 0.95):\n",
    "            safe+=1\n",
    "        total+= 1\n",
    "    return safe, total\n",
    "\n",
    "total_safe = 0\n",
    "total_total = 0\n",
    "posts = 0\n",
    "for p in pra_vals:\n",
    "    for t in tau_vals:\n",
    "        try:\n",
    "            path = \"LogFiles/HCAS_Bounds_%s_%s_%s_lower.log\"%(p, t, PROP)\n",
    "            data = process_log(path)\n",
    "            safe, total = count_safe(data)\n",
    "            total_safe += safe\n",
    "            total_total += total\n",
    "        except:\n",
    "            continue\n",
    "        posts +=1\n",
    "    print(\"finished 1\")\n",
    "print(posts)\n",
    "print(total_safe)\n",
    "print(total_total)\n",
    "print(total_safe/total_total)"
   ]
  },
  {
   "cell_type": "code",
   "execution_count": 4,
   "metadata": {},
   "outputs": [
    {
     "name": "stdout",
     "output_type": "stream",
     "text": [
      "finished 1\n",
      "finished 1\n",
      "finished 1\n",
      "finished 1\n",
      "finished 1\n",
      "31\n",
      "70310\n",
      "0.37007016121816294\n"
     ]
    }
   ],
   "source": [
    "# Load in verification logs\n",
    "import os\n",
    "import json\n",
    "import numpy as np\n",
    "import pandas as pd\n",
    "\n",
    "def process_log(path_to_log):\n",
    "    rows = []\n",
    "    with open(path_to_log) as log_file:\n",
    "        for line in log_file:\n",
    "            #print(json.loads(line))\n",
    "            entry = json.loads(line)\n",
    "            rows.append(json.loads(line))\n",
    "    return pd.DataFrame.from_dict(rows, orient='columns')\n",
    "\n",
    "def count_safe(dataframe):\n",
    "    safe = 0\n",
    "    total = 0\n",
    "    for index, row in data.iterrows():\n",
    "        prob = float(row[\"Upper\"])\n",
    "        if(prob < 0.075):\n",
    "            safe+=1\n",
    "        total+= 1\n",
    "    return safe, total\n",
    "\n",
    "total_unsafe = 0\n",
    "posts = 0\n",
    "for p in pra_vals:\n",
    "    for t in tau_vals:\n",
    "        try:\n",
    "            path = \"LogFiles/HCAS_Bounds_%s_%s_%s_upper.log\"%(p, t, PROP)\n",
    "            data = process_log(path)\n",
    "            safe, total = count_safe(data)\n",
    "            total_unsafe += safe\n",
    "            #total_total += total\n",
    "        except:\n",
    "            continue\n",
    "        posts +=1\n",
    "    print(\"finished 1\")\n",
    "print(posts)\n",
    "print(total_unsafe)\n",
    "#print(total_total)\n",
    "print(total_unsafe/total_total)"
   ]
  },
  {
   "cell_type": "code",
   "execution_count": 5,
   "metadata": {},
   "outputs": [
    {
     "name": "stdout",
     "output_type": "stream",
     "text": [
      "0.5502681705975546\n",
      "0.37007016121816294\n",
      "0.9203383318157176\n"
     ]
    }
   ],
   "source": [
    "print(total_safe/total_total)\n",
    "print(total_unsafe/total_total)\n",
    "print((total_safe+total_unsafe)/total_total)"
   ]
  },
  {
   "cell_type": "code",
   "execution_count": 6,
   "metadata": {},
   "outputs": [
    {
     "name": "stdout",
     "output_type": "stream",
     "text": [
      "15135\n",
      "0.07966166818428241\n"
     ]
    }
   ],
   "source": [
    "print(total_total-(total_safe+total_unsafe))\n",
    "print((total_total-(total_safe+total_unsafe))/total_total)"
   ]
  },
  {
   "cell_type": "code",
   "execution_count": 7,
   "metadata": {},
   "outputs": [
    {
     "name": "stdout",
     "output_type": "stream",
     "text": [
      "15135\n",
      "0.07966166818428241\n"
     ]
    }
   ],
   "source": [
    "left = total_total - (total_safe+total_unsafe)\n",
    "print(left)\n",
    "print(left/total_total)"
   ]
  }
 ],
 "metadata": {
  "kernelspec": {
   "display_name": "Python 3",
   "language": "python",
   "name": "python3"
  },
  "language_info": {
   "codemirror_mode": {
    "name": "ipython",
    "version": 3
   },
   "file_extension": ".py",
   "mimetype": "text/x-python",
   "name": "python",
   "nbconvert_exporter": "python",
   "pygments_lexer": "ipython3",
   "version": "3.8.5"
  }
 },
 "nbformat": 4,
 "nbformat_minor": 4
}
