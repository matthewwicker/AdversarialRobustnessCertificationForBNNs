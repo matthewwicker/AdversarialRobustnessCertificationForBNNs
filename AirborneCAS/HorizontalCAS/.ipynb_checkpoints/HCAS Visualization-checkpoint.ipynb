{
 "cells": [
  {
   "cell_type": "code",
   "execution_count": 1,
   "metadata": {},
   "outputs": [],
   "source": [
    "# Advisory indices\n",
    "\n",
    "# COC=0\n",
    "# WL=1\n",
    "# WR=2\n",
    "# SL=3\n",
    "# SR=4\n",
    "pra_vals = [0,1,2,3,4]\n",
    "tau_vals = [0,10,15,20,30,40,60]\n",
    "PRE, pra = 4,4       # Previous Advisory \n",
    "TAU, tau = 0,0       # Time to loss of horizontal separation\n",
    "PROP = 0             # Safety property\n",
    "ver = 6              # Neural network version\n",
    "table_ver = 6        # Table Version"
   ]
  },
  {
   "cell_type": "code",
   "execution_count": 2,
   "metadata": {},
   "outputs": [
    {
     "name": "stdout",
     "output_type": "stream",
     "text": [
      "Loading Data for HCAS, pra 04, Network Version 6\n",
      "[ 1.14237500e+04 -7.26499302e-19  8.19623304e-17 -2.42819387e-01]\n",
      "[5.60000000e+04 6.28318531e+00 6.28318531e+00 1.74792249e+01]\n",
      "[ 0.         -3.14159265 -3.14159265]\n",
      "[5.60000000e+04 3.14159265e+00 3.14159265e+00]\n"
     ]
    }
   ],
   "source": [
    "# Load in training data\n",
    "import h5py\n",
    "import numpy as np\n",
    "trainingDataFiles = \"./TrainingData/HCAS_rect_TrainingData_v%d_pra%d_tau%02d.h5\" # File format for training data\n",
    "\n",
    "print(\"Loading Data for HCAS, pra %02d, Network Version %d\" % (pra, ver))\n",
    "f       = h5py.File(trainingDataFiles % (table_ver,pra,tau),'r')\n",
    "X_train = np.array(f['X']).astype('float32')\n",
    "y_train       = np.array(f['y']).astype('float32')\n",
    "Q       = np.array(f['y']).astype('float32')\n",
    "means = np.array(f['means'])\n",
    "ranges=np.array(f['ranges'])\n",
    "mins = np.array(f['min_inputs'])\n",
    "maxes = np.array(f['max_inputs'])\n",
    "\n",
    "print(means)\n",
    "print(ranges)\n",
    "print(mins)\n",
    "print(maxes)"
   ]
  },
  {
   "cell_type": "code",
   "execution_count": 3,
   "metadata": {},
   "outputs": [
    {
     "name": "stdout",
     "output_type": "stream",
     "text": [
      "finished 1\n",
      "finished 1\n",
      "finished 1\n",
      "finished 1\n",
      "finished 1\n",
      "35\n",
      "620158\n",
      "795853\n",
      "0.7792368691203023\n"
     ]
    }
   ],
   "source": [
    "# Load in verification logs\n",
    "import os\n",
    "import json\n",
    "import numpy as np\n",
    "import pandas as pd\n",
    "\n",
    "PROP = 0\n",
    "\n",
    "def process_log(path_to_log):\n",
    "    rows = []\n",
    "    with open(path_to_log) as log_file:\n",
    "        for line in log_file:\n",
    "            #print(json.loads(line))\n",
    "            entry = json.loads(line)\n",
    "            rows.append(json.loads(line))\n",
    "    return pd.DataFrame.from_dict(rows, orient='columns')\n",
    "\n",
    "def count_safe(dataframe):\n",
    "    safe = 0\n",
    "    total = 0\n",
    "    for index, row in data.iterrows():\n",
    "        prob = float(row[\"Lower\"])\n",
    "        if(prob > 0.9):\n",
    "            safe+=1\n",
    "        total+= 1\n",
    "    return safe, total\n",
    "\n",
    "total_safe = 0\n",
    "total_total = 0\n",
    "posts = 0\n",
    "for p in pra_vals:\n",
    "    for t in tau_vals:\n",
    "        try:\n",
    "            path = \"LogFiles/HCAS_Bounds_%s_%s_%s_lower.log\"%(p, t, PROP)\n",
    "            data = process_log(path)\n",
    "            safe, total = count_safe(data)\n",
    "            total_safe += safe\n",
    "            total_total += total\n",
    "        except:\n",
    "            continue\n",
    "        posts +=1\n",
    "    print(\"finished 1\")\n",
    "print(posts)\n",
    "print(total_safe)\n",
    "print(total_total)\n",
    "print(total_safe/total_total)"
   ]
  },
  {
   "cell_type": "code",
   "execution_count": 4,
   "metadata": {},
   "outputs": [
    {
     "name": "stdout",
     "output_type": "stream",
     "text": [
      "finished 1\n",
      "finished 1\n",
      "finished 1\n",
      "finished 1\n",
      "finished 1\n",
      "35\n",
      "190574\n",
      "195594\n",
      "0.9743345910406249\n"
     ]
    }
   ],
   "source": [
    "# Load in verification logs\n",
    "import os\n",
    "import json\n",
    "import numpy as np\n",
    "import pandas as pd\n",
    "\n",
    "PROP = 0\n",
    "\n",
    "def process_log(path_to_log):\n",
    "    rows = []\n",
    "    with open(path_to_log) as log_file:\n",
    "        for line in log_file:\n",
    "            #print(json.loads(line))\n",
    "            entry = json.loads(line)\n",
    "            rows.append(json.loads(line))\n",
    "    return pd.DataFrame.from_dict(rows, orient='columns')\n",
    "\n",
    "def count_safe(dataframe):\n",
    "    safe = 0\n",
    "    total = 0\n",
    "    for index, row in data.iterrows():\n",
    "        prob = float(row[\"Upper\"])\n",
    "        if(prob < 0.1):\n",
    "            safe+=1\n",
    "        total+= 1\n",
    "    return safe, total\n",
    "\n",
    "total_unsafe = 0\n",
    "total_total = 0\n",
    "posts = 0\n",
    "for p in pra_vals:\n",
    "    for t in tau_vals:\n",
    "        try:\n",
    "            path = \"LogFiles/HCAS_Bounds_%s_%s_%s_upper.log\"%(p, t, PROP)\n",
    "            data = process_log(path)\n",
    "            safe, total = count_safe(data)\n",
    "            total_unsafe += safe\n",
    "            total_total += total\n",
    "        except:\n",
    "            continue\n",
    "        posts +=1\n",
    "    print(\"finished 1\")\n",
    "print(posts)\n",
    "print(total_safe)\n",
    "print(total_total)\n",
    "print(total_safe/total_total)"
   ]
  },
  {
   "cell_type": "code",
   "execution_count": 5,
   "metadata": {},
   "outputs": [
    {
     "name": "stdout",
     "output_type": "stream",
     "text": [
      "0.9743345910406249\n"
     ]
    }
   ],
   "source": [
    "print(total_safe/total_total)"
   ]
  },
  {
   "cell_type": "code",
   "execution_count": 6,
   "metadata": {},
   "outputs": [
    {
     "ename": "KeyError",
     "evalue": "'Lower'",
     "output_type": "error",
     "traceback": [
      "\u001b[0;31m---------------------------------------------------------------------------\u001b[0m",
      "\u001b[0;31mKeyError\u001b[0m                                  Traceback (most recent call last)",
      "\u001b[0;32m~/opt/anaconda3/lib/python3.8/site-packages/pandas/core/indexes/base.py\u001b[0m in \u001b[0;36mget_loc\u001b[0;34m(self, key, method, tolerance)\u001b[0m\n\u001b[1;32m   2894\u001b[0m             \u001b[0;32mtry\u001b[0m\u001b[0;34m:\u001b[0m\u001b[0;34m\u001b[0m\u001b[0;34m\u001b[0m\u001b[0m\n\u001b[0;32m-> 2895\u001b[0;31m                 \u001b[0;32mreturn\u001b[0m \u001b[0mself\u001b[0m\u001b[0;34m.\u001b[0m\u001b[0m_engine\u001b[0m\u001b[0;34m.\u001b[0m\u001b[0mget_loc\u001b[0m\u001b[0;34m(\u001b[0m\u001b[0mcasted_key\u001b[0m\u001b[0;34m)\u001b[0m\u001b[0;34m\u001b[0m\u001b[0;34m\u001b[0m\u001b[0m\n\u001b[0m\u001b[1;32m   2896\u001b[0m             \u001b[0;32mexcept\u001b[0m \u001b[0mKeyError\u001b[0m \u001b[0;32mas\u001b[0m \u001b[0merr\u001b[0m\u001b[0;34m:\u001b[0m\u001b[0;34m\u001b[0m\u001b[0;34m\u001b[0m\u001b[0m\n",
      "\u001b[0;32mpandas/_libs/index.pyx\u001b[0m in \u001b[0;36mpandas._libs.index.IndexEngine.get_loc\u001b[0;34m()\u001b[0m\n",
      "\u001b[0;32mpandas/_libs/index.pyx\u001b[0m in \u001b[0;36mpandas._libs.index.IndexEngine.get_loc\u001b[0;34m()\u001b[0m\n",
      "\u001b[0;32mpandas/_libs/hashtable_class_helper.pxi\u001b[0m in \u001b[0;36mpandas._libs.hashtable.PyObjectHashTable.get_item\u001b[0;34m()\u001b[0m\n",
      "\u001b[0;32mpandas/_libs/hashtable_class_helper.pxi\u001b[0m in \u001b[0;36mpandas._libs.hashtable.PyObjectHashTable.get_item\u001b[0;34m()\u001b[0m\n",
      "\u001b[0;31mKeyError\u001b[0m: 'Lower'",
      "\nThe above exception was the direct cause of the following exception:\n",
      "\u001b[0;31mKeyError\u001b[0m                                  Traceback (most recent call last)",
      "\u001b[0;32m<ipython-input-6-637f881ac776>\u001b[0m in \u001b[0;36m<module>\u001b[0;34m\u001b[0m\n\u001b[1;32m     10\u001b[0m \u001b[0mtotal\u001b[0m \u001b[0;34m=\u001b[0m \u001b[0;36m0\u001b[0m\u001b[0;34m\u001b[0m\u001b[0;34m\u001b[0m\u001b[0m\n\u001b[1;32m     11\u001b[0m \u001b[0;32mfor\u001b[0m \u001b[0mindex\u001b[0m\u001b[0;34m,\u001b[0m \u001b[0mrow\u001b[0m \u001b[0;32min\u001b[0m \u001b[0mdata\u001b[0m\u001b[0;34m.\u001b[0m\u001b[0miterrows\u001b[0m\u001b[0;34m(\u001b[0m\u001b[0;34m)\u001b[0m\u001b[0;34m:\u001b[0m\u001b[0;34m\u001b[0m\u001b[0;34m\u001b[0m\u001b[0m\n\u001b[0;32m---> 12\u001b[0;31m     \u001b[0msafe\u001b[0m \u001b[0;34m=\u001b[0m \u001b[0mfloat\u001b[0m\u001b[0;34m(\u001b[0m\u001b[0mrow\u001b[0m\u001b[0;34m[\u001b[0m\u001b[0;34m\"Lower\"\u001b[0m\u001b[0;34m]\u001b[0m\u001b[0;34m)\u001b[0m\u001b[0;34m\u001b[0m\u001b[0;34m\u001b[0m\u001b[0m\n\u001b[0m\u001b[1;32m     13\u001b[0m     \u001b[0mind\u001b[0m  \u001b[0;34m=\u001b[0m \u001b[0mint\u001b[0m\u001b[0;34m(\u001b[0m\u001b[0mrow\u001b[0m\u001b[0;34m[\u001b[0m\u001b[0;34m\"Index\"\u001b[0m\u001b[0;34m]\u001b[0m\u001b[0;34m)\u001b[0m\u001b[0;34m\u001b[0m\u001b[0;34m\u001b[0m\u001b[0m\n\u001b[1;32m     14\u001b[0m     \u001b[0minp\u001b[0m \u001b[0;34m=\u001b[0m \u001b[0mX_train\u001b[0m\u001b[0;34m[\u001b[0m\u001b[0mind\u001b[0m\u001b[0;34m]\u001b[0m\u001b[0;34m\u001b[0m\u001b[0;34m\u001b[0m\u001b[0m\n",
      "\u001b[0;32m~/opt/anaconda3/lib/python3.8/site-packages/pandas/core/series.py\u001b[0m in \u001b[0;36m__getitem__\u001b[0;34m(self, key)\u001b[0m\n\u001b[1;32m    880\u001b[0m \u001b[0;34m\u001b[0m\u001b[0m\n\u001b[1;32m    881\u001b[0m         \u001b[0;32melif\u001b[0m \u001b[0mkey_is_scalar\u001b[0m\u001b[0;34m:\u001b[0m\u001b[0;34m\u001b[0m\u001b[0;34m\u001b[0m\u001b[0m\n\u001b[0;32m--> 882\u001b[0;31m             \u001b[0;32mreturn\u001b[0m \u001b[0mself\u001b[0m\u001b[0;34m.\u001b[0m\u001b[0m_get_value\u001b[0m\u001b[0;34m(\u001b[0m\u001b[0mkey\u001b[0m\u001b[0;34m)\u001b[0m\u001b[0;34m\u001b[0m\u001b[0;34m\u001b[0m\u001b[0m\n\u001b[0m\u001b[1;32m    883\u001b[0m \u001b[0;34m\u001b[0m\u001b[0m\n\u001b[1;32m    884\u001b[0m         \u001b[0;32mif\u001b[0m \u001b[0mis_hashable\u001b[0m\u001b[0;34m(\u001b[0m\u001b[0mkey\u001b[0m\u001b[0;34m)\u001b[0m\u001b[0;34m:\u001b[0m\u001b[0;34m\u001b[0m\u001b[0;34m\u001b[0m\u001b[0m\n",
      "\u001b[0;32m~/opt/anaconda3/lib/python3.8/site-packages/pandas/core/series.py\u001b[0m in \u001b[0;36m_get_value\u001b[0;34m(self, label, takeable)\u001b[0m\n\u001b[1;32m    987\u001b[0m \u001b[0;34m\u001b[0m\u001b[0m\n\u001b[1;32m    988\u001b[0m         \u001b[0;31m# Similar to Index.get_value, but we do not fall back to positional\u001b[0m\u001b[0;34m\u001b[0m\u001b[0;34m\u001b[0m\u001b[0;34m\u001b[0m\u001b[0m\n\u001b[0;32m--> 989\u001b[0;31m         \u001b[0mloc\u001b[0m \u001b[0;34m=\u001b[0m \u001b[0mself\u001b[0m\u001b[0;34m.\u001b[0m\u001b[0mindex\u001b[0m\u001b[0;34m.\u001b[0m\u001b[0mget_loc\u001b[0m\u001b[0;34m(\u001b[0m\u001b[0mlabel\u001b[0m\u001b[0;34m)\u001b[0m\u001b[0;34m\u001b[0m\u001b[0;34m\u001b[0m\u001b[0m\n\u001b[0m\u001b[1;32m    990\u001b[0m         \u001b[0;32mreturn\u001b[0m \u001b[0mself\u001b[0m\u001b[0;34m.\u001b[0m\u001b[0mindex\u001b[0m\u001b[0;34m.\u001b[0m\u001b[0m_get_values_for_loc\u001b[0m\u001b[0;34m(\u001b[0m\u001b[0mself\u001b[0m\u001b[0;34m,\u001b[0m \u001b[0mloc\u001b[0m\u001b[0;34m,\u001b[0m \u001b[0mlabel\u001b[0m\u001b[0;34m)\u001b[0m\u001b[0;34m\u001b[0m\u001b[0;34m\u001b[0m\u001b[0m\n\u001b[1;32m    991\u001b[0m \u001b[0;34m\u001b[0m\u001b[0m\n",
      "\u001b[0;32m~/opt/anaconda3/lib/python3.8/site-packages/pandas/core/indexes/base.py\u001b[0m in \u001b[0;36mget_loc\u001b[0;34m(self, key, method, tolerance)\u001b[0m\n\u001b[1;32m   2895\u001b[0m                 \u001b[0;32mreturn\u001b[0m \u001b[0mself\u001b[0m\u001b[0;34m.\u001b[0m\u001b[0m_engine\u001b[0m\u001b[0;34m.\u001b[0m\u001b[0mget_loc\u001b[0m\u001b[0;34m(\u001b[0m\u001b[0mcasted_key\u001b[0m\u001b[0;34m)\u001b[0m\u001b[0;34m\u001b[0m\u001b[0;34m\u001b[0m\u001b[0m\n\u001b[1;32m   2896\u001b[0m             \u001b[0;32mexcept\u001b[0m \u001b[0mKeyError\u001b[0m \u001b[0;32mas\u001b[0m \u001b[0merr\u001b[0m\u001b[0;34m:\u001b[0m\u001b[0;34m\u001b[0m\u001b[0;34m\u001b[0m\u001b[0m\n\u001b[0;32m-> 2897\u001b[0;31m                 \u001b[0;32mraise\u001b[0m \u001b[0mKeyError\u001b[0m\u001b[0;34m(\u001b[0m\u001b[0mkey\u001b[0m\u001b[0;34m)\u001b[0m \u001b[0;32mfrom\u001b[0m \u001b[0merr\u001b[0m\u001b[0;34m\u001b[0m\u001b[0;34m\u001b[0m\u001b[0m\n\u001b[0m\u001b[1;32m   2898\u001b[0m \u001b[0;34m\u001b[0m\u001b[0m\n\u001b[1;32m   2899\u001b[0m         \u001b[0;32mif\u001b[0m \u001b[0mtolerance\u001b[0m \u001b[0;32mis\u001b[0m \u001b[0;32mnot\u001b[0m \u001b[0;32mNone\u001b[0m\u001b[0;34m:\u001b[0m\u001b[0;34m\u001b[0m\u001b[0;34m\u001b[0m\u001b[0m\n",
      "\u001b[0;31mKeyError\u001b[0m: 'Lower'"
     ]
    }
   ],
   "source": [
    "def pol2cart(rho, phi):\n",
    "    x = rho * np.cos(phi)\n",
    "    y = rho * np.sin(phi)\n",
    "    return(x, y)\n",
    "\n",
    "loc_x = []\n",
    "loc_y = []\n",
    "color = []\n",
    "veri = 0\n",
    "total = 0\n",
    "for index, row in data.iterrows():\n",
    "    safe = float(row[\"Lower\"])\n",
    "    ind  = int(row[\"Index\"])\n",
    "    inp = X_train[ind]\n",
    "    rho,theta = (inp[0]+0.20399554)*50000, inp[1]*3.1415\n",
    "    x,y = pol2cart(rho, theta)\n",
    "    #x,y = cart2pol(inp[0], inp[1])\n",
    "    if(safe > 0.5):\n",
    "        veri+=1\n",
    "        loc_x.append(x)\n",
    "        loc_y.append(y)\n",
    "        color.append('g')\n",
    "    else:\n",
    "        #continue\n",
    "        loc_x.append(x)\n",
    "        loc_y.append(y)\n",
    "        color.append('r')\n",
    "    total += 1\n",
    "    \n",
    "print(veri, total)\n",
    "print(veri/total)"
   ]
  },
  {
   "cell_type": "code",
   "execution_count": null,
   "metadata": {},
   "outputs": [],
   "source": [
    "import matplotlib\n",
    "import matplotlib.pyplot as plt\n",
    "\n",
    "plt.scatter(x=loc_x, y=loc_y, c=color, marker='s')\n",
    "plt.xlim((-10000,55000))\n",
    "plt.ylim((-60000,60000))\n",
    "plt.show()"
   ]
  }
 ],
 "metadata": {
  "kernelspec": {
   "display_name": "Python 3",
   "language": "python",
   "name": "python3"
  },
  "language_info": {
   "codemirror_mode": {
    "name": "ipython",
    "version": 3
   },
   "file_extension": ".py",
   "mimetype": "text/x-python",
   "name": "python",
   "nbconvert_exporter": "python",
   "pygments_lexer": "ipython3",
   "version": "3.8.5"
  }
 },
 "nbformat": 4,
 "nbformat_minor": 4
}
