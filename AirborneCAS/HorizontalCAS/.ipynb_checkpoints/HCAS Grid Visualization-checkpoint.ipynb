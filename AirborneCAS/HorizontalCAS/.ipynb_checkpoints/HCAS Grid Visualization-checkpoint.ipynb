{
 "cells": [
  {
   "cell_type": "code",
   "execution_count": 1,
   "metadata": {},
   "outputs": [],
   "source": [
    "# Advisory indices\n",
    "\n",
    "# COC=0\n",
    "# WL=1\n",
    "# WR=2\n",
    "# SL=3\n",
    "# SR=4\n",
    "\n",
    "PRE, pra = 4,4       # Previous Advisory \n",
    "TAU, tau = 0,0       # Time to loss of horizontal separation\n",
    "PROP = 0             # Safety property\n",
    "ver = 6              # Neural network version\n",
    "table_ver = 6        # Table Version"
   ]
  },
  {
   "cell_type": "code",
   "execution_count": 3,
   "metadata": {},
   "outputs": [
    {
     "name": "stdout",
     "output_type": "stream",
     "text": [
      "Loading Data for HCAS, pra 04, Network Version 6\n",
      "[ 1.14237500e+04 -7.26499302e-19  8.19623304e-17 -2.42819387e-01]\n",
      "[5.60000000e+04 6.28318531e+00 6.28318531e+00 1.74792249e+01]\n",
      "[ 0.         -3.14159265 -3.14159265]\n",
      "[5.60000000e+04 3.14159265e+00 3.14159265e+00]\n"
     ]
    }
   ],
   "source": [
    "# Load in training data\n",
    "import h5py\n",
    "import numpy as np\n",
    "trainingDataFiles = \"./TrainingData/HCAS_rect_TrainingData_v%d_pra%d_tau%02d.h5\" # File format for training data\n",
    "\n",
    "\n",
    "print(\"Loading Data for HCAS, pra %02d, Network Version %d\" % (pra, ver))\n",
    "f       = h5py.File(trainingDataFiles % (table_ver,pra,tau),'r')\n",
    "X_train = np.array(f['X']).astype('float32')\n",
    "y_train       = np.array(f['y']).astype('float32')\n",
    "Q       = np.array(f['y']).astype('float32')\n",
    "means = np.array(f['means'])\n",
    "ranges=np.array(f['ranges'])\n",
    "mins = np.array(f['min_inputs'])\n",
    "maxes = np.array(f['max_inputs'])\n",
    "y_train = np.argmax(y_train, axis=1)\n",
    "print(means)\n",
    "print(ranges)\n",
    "print(mins)\n",
    "print(maxes)"
   ]
  },
  {
   "cell_type": "code",
   "execution_count": null,
   "metadata": {},
   "outputs": [],
   "source": [
    "# COC = 0 = 'b'\n",
    "# WL  = 1 = 'c'\n",
    "# WR  = 2 = 'm'\n",
    "# SL  = 3 = 'g'\n",
    "# SR  = 4 = 'r'"
   ]
  },
  {
   "cell_type": "code",
   "execution_count": 46,
   "metadata": {},
   "outputs": [
    {
     "name": "stdout",
     "output_type": "stream",
     "text": [
      "[0.02 0.1  0.1 ]\n",
      "0.04\n"
     ]
    }
   ],
   "source": [
    "n_concur = 4\n",
    "p_concur = 0\n",
    "mins = np.min(X_train, axis=0)\n",
    "maxs = np.max(X_train, axis=0)\n",
    "desc = [25,5,5]\n",
    "radi = ((maxs-mins)/desc)/2\n",
    "print(radi)\n",
    "\n",
    "inps = []\n",
    "lowers = []\n",
    "uppers = []\n",
    "print((maxs[0]-mins[0])/25)\n",
    "for a in np.linspace(mins[0], maxs[0], desc[0]):\n",
    "    for b in np.linspace(mins[1], maxs[1], desc[1]):\n",
    "        for c in np.linspace(mins[2], maxs[2], desc[2]):\n",
    "            inps.append([a,b,c])\n",
    "            lowers.append([a,b,c] - radi)\n",
    "            uppers.append([a,b,c] + radi)\n",
    "            \n",
    "indexes = np.linspace(0, len(inps), n_concur)\n",
    "a = int(indexes[p_concur])\n",
    "b = int(indexes[p_concur+1])\n",
    "inps = inps[a:b]"
   ]
  },
  {
   "cell_type": "code",
   "execution_count": null,
   "metadata": {},
   "outputs": [],
   "source": [
    "# Load in verification logs\n",
    "import os\n",
    "import json\n",
    "import numpy as np\n",
    "import pandas as pd\n",
    "\n",
    "def process_log(path_to_log):\n",
    "    rows = []\n",
    "    with open(path_to_log) as log_file:\n",
    "        for line in log_file:\n",
    "            #print(json.loads(line))\n",
    "            entry = json.loads(line)\n",
    "            rows.append(json.loads(line))\n",
    "    return pd.DataFrame.from_dict(rows, orient='columns')\n",
    "\n",
    "path = \"LogFiles/HCAS_Bounds_%s_%s_%s_lower.log\"%(PRE, TAU, PROP)\n",
    "\n",
    "print(path)\n",
    "data = process_log(path)"
   ]
  },
  {
   "cell_type": "code",
   "execution_count": 22,
   "metadata": {},
   "outputs": [
    {
     "name": "stdout",
     "output_type": "stream",
     "text": [
      "11306 14632\n",
      "0.7726899945325314\n"
     ]
    }
   ],
   "source": [
    "def pol2cart(rho, phi):\n",
    "    x = rho * np.cos(phi)\n",
    "    y = rho * np.sin(phi)\n",
    "    return(x, y)\n",
    "\n",
    "def cart2pol(x, y):\n",
    "    rho = np.sqrt(x**2 + y**2)\n",
    "    phi = np.arctan2(y, x)\n",
    "    return(rho, phi)\n",
    "\n",
    "loc_x = []\n",
    "loc_y = []\n",
    "color = []\n",
    "veri = 0\n",
    "total = 0\n",
    "for index, row in data.iterrows():\n",
    "    safe = float(row[\"Lower\"])\n",
    "    ind  = int(row[\"Index\"])\n",
    "    inp = X_train[ind]\n",
    "    rho,theta = (inp[0]+0.20399554)*50000, inp[1]*3.1415\n",
    "    x,y = pol2cart(rho, theta)\n",
    "    #x,y = cart2pol(inp[0], inp[1])\n",
    "    if(safe > 0.5):\n",
    "        veri+=1\n",
    "        loc_x.append(x)\n",
    "        loc_y.append(y)\n",
    "        color.append('g')\n",
    "    else:\n",
    "        #continue\n",
    "        loc_x.append(x)\n",
    "        loc_y.append(y)\n",
    "        color.append('r')\n",
    "    total += 1\n",
    "    \n",
    "print(veri, total)\n",
    "print(veri/total)"
   ]
  },
  {
   "cell_type": "code",
   "execution_count": 23,
   "metadata": {},
   "outputs": [
    {
     "data": {
      "image/png": "[encoded data removed]",
      "text/plain": [
       "<Figure size 432x288 with 1 Axes>"
      ]
     },
     "metadata": {
      "needs_background": "light"
     },
     "output_type": "display_data"
    }
   ],
   "source": [
    "import matplotlib\n",
    "import matplotlib.pyplot as plt\n",
    "\n",
    "plt.scatter(x=loc_x, y=loc_y, c=color, marker='s')\n",
    "plt.xlim((-10000,55000))\n",
    "plt.ylim((-60000,60000))\n",
    "plt.show()"
   ]
  }
 ],
 "metadata": {
  "kernelspec": {
   "display_name": "Python 3",
   "language": "python",
   "name": "python3"
  },
  "language_info": {
   "codemirror_mode": {
    "name": "ipython",
    "version": 3
   },
   "file_extension": ".py",
   "mimetype": "text/x-python",
   "name": "python",
   "nbconvert_exporter": "python",
   "pygments_lexer": "ipython3",
   "version": "3.8.5"
  }
 },
 "nbformat": 4,
 "nbformat_minor": 4
}
